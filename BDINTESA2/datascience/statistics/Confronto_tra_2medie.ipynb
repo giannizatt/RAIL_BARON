{
 "cells": [
  {
   "cell_type": "markdown",
   "metadata": {},
   "source": [
    "# Confronto tra due medie\n",
    "\n",
    "- Abbiamo un campione di 21 case per la città A e un campione di 21 case per la città B.\n",
    "- Vogliamo capire se i prezzi delle abitazioni nelle due città siano o meno differenti in media.  \n",
    "   \n",
    "- **Steps**:\n",
    "     - Rappresentazione grafica dei due gruppi di prezzi tramite boxplot\n",
    "     - Confronto tra medie tramite regressione\n",
    "     - Confronto tra medie tramite test *t* di Welch\n",
    "     - Verifica dell'equivalenza tra test *t* e approccio di regressione sotto l'ipotesi di omoschedasticità."
   ]
  },
  {
   "cell_type": "code",
   "execution_count": 1,
   "metadata": {},
   "outputs": [
    {
     "name": "stdout",
     "output_type": "stream",
     "text": [
      "Populating the interactive namespace from numpy and matplotlib\n"
     ]
    },
    {
     "name": "stderr",
     "output_type": "stream",
     "text": [
      "/Users/davidepassaretti/anaconda/lib/python2.7/site-packages/statsmodels/compat/pandas.py:56: FutureWarning: The pandas.core.datetools module is deprecated and will be removed in a future version. Please use the pandas.tseries module instead.\n",
      "  from pandas.core import datetools\n"
     ]
    },
    {
     "data": {
      "text/html": [
       "<div>\n",
       "<style>\n",
       "    .dataframe thead tr:only-child th {\n",
       "        text-align: right;\n",
       "    }\n",
       "\n",
       "    .dataframe thead th {\n",
       "        text-align: left;\n",
       "    }\n",
       "\n",
       "    .dataframe tbody tr th {\n",
       "        vertical-align: top;\n",
       "    }\n",
       "</style>\n",
       "<table border=\"1\" class=\"dataframe\">\n",
       "  <thead>\n",
       "    <tr style=\"text-align: right;\">\n",
       "      <th></th>\n",
       "      <th>Town</th>\n",
       "      <th>Price</th>\n",
       "    </tr>\n",
       "  </thead>\n",
       "  <tbody>\n",
       "    <tr>\n",
       "      <th>0</th>\n",
       "      <td>A</td>\n",
       "      <td>399900</td>\n",
       "    </tr>\n",
       "    <tr>\n",
       "      <th>1</th>\n",
       "      <td>A</td>\n",
       "      <td>425000</td>\n",
       "    </tr>\n",
       "    <tr>\n",
       "      <th>2</th>\n",
       "      <td>B</td>\n",
       "      <td>489000</td>\n",
       "    </tr>\n",
       "    <tr>\n",
       "      <th>3</th>\n",
       "      <td>A</td>\n",
       "      <td>509900</td>\n",
       "    </tr>\n",
       "    <tr>\n",
       "      <th>4</th>\n",
       "      <td>B</td>\n",
       "      <td>599000</td>\n",
       "    </tr>\n",
       "  </tbody>\n",
       "</table>\n",
       "</div>"
      ],
      "text/plain": [
       "  Town   Price\n",
       "0    A  399900\n",
       "1    A  425000\n",
       "2    B  489000\n",
       "3    A  509900\n",
       "4    B  599000"
      ]
     },
     "execution_count": 1,
     "metadata": {},
     "output_type": "execute_result"
    }
   ],
   "source": [
    "%pylab inline\n",
    "\n",
    "import pandas as pd\n",
    "import seaborn as sb\n",
    "import statsmodels.api as sm\n",
    "\n",
    "my_df = pd.read_csv('Real_estate2towns2010.csv')\n",
    "\n",
    "my_df.head()"
   ]
  },
  {
   "cell_type": "code",
   "execution_count": 2,
   "metadata": {},
   "outputs": [
    {
     "data": {
      "text/plain": [
       "{'boxes': [<matplotlib.lines.Line2D at 0x11bb5d150>,\n",
       "  <matplotlib.lines.Line2D at 0x11bb7e9d0>],\n",
       " 'caps': [<matplotlib.lines.Line2D at 0x11bb720d0>,\n",
       "  <matplotlib.lines.Line2D at 0x11bb72710>,\n",
       "  <matplotlib.lines.Line2D at 0x11bb8ad10>,\n",
       "  <matplotlib.lines.Line2D at 0x11bb97390>],\n",
       " 'fliers': [<matplotlib.lines.Line2D at 0x11bb7e3d0>,\n",
       "  <matplotlib.lines.Line2D at 0x11bba3050>],\n",
       " 'means': [],\n",
       " 'medians': [<matplotlib.lines.Line2D at 0x11bb72d50>,\n",
       "  <matplotlib.lines.Line2D at 0x11bb979d0>],\n",
       " 'whiskers': [<matplotlib.lines.Line2D at 0x11bb5d350>,\n",
       "  <matplotlib.lines.Line2D at 0x11bb5da50>,\n",
       "  <matplotlib.lines.Line2D at 0x11bb8a090>,\n",
       "  <matplotlib.lines.Line2D at 0x11bb8a6d0>]}"
      ]
     },
     "execution_count": 2,
     "metadata": {},
     "output_type": "execute_result"
    },
    {
     "data": {
      "image/png": "[encoded data removed]",
      "text/plain": [
       "<matplotlib.figure.Figure at 0x118765dd0>"
      ]
     },
     "metadata": {},
     "output_type": "display_data"
    }
   ],
   "source": [
    "# per avere dei numeri visivamente non troppo grandi:\n",
    "my_df['Price'] = my_df['Price']/1000000 # ora il prezzo è espresso in milioni di dollari\n",
    "\n",
    "y_TownA = my_df.query('Town == \"A\"')['Price']\n",
    "y_TownB = my_df.query('Town == \"B\"')['Price']\n",
    "\n",
    "data = [y_TownA, y_TownB]\n",
    "\n",
    "plt.figure().add_subplot(111).boxplot(data)"
   ]
  },
  {
   "cell_type": "code",
   "execution_count": 3,
   "metadata": {
    "collapsed": true
   },
   "outputs": [],
   "source": [
    "y = my_df['Price']\n",
    "x = my_df.drop('Price', 1)\n",
    "x['constant'] = 1"
   ]
  },
  {
   "cell_type": "markdown",
   "metadata": {},
   "source": [
    "## Test per la differenza tra medie tramite regressione\n",
    "\n",
    "Per testare se la differenza tra le medie dei prezzi delle case delle due città sia uguale a zero, possiamo adottare un modello di regressione in cui la variabile di risposta è il prezzo, mentre il predittore è una variabile indicatrice (*dummy*), la quale assume valore 0 se la casa è situata nella città A e valore 1 se la casa è situata nella città B (volendo, potremmo codificare al contrario, ma non cambierebbe nulla). Così facendo, la costante indicherà il prezzo medio delle case della citta A (categoria *baseline*), mentre il coefficiente associato alla *dummy* stimerà la differenza tra il prezzo medio delle case della città B ed il prezzo medio delle case della città A. Se tale coefficiente fosse diverso da zero al livello della popolazione, allora potremmo concludere che vi è una differenza significativa tra i prezzi nelle due città."
   ]
  },
  {
   "cell_type": "code",
   "execution_count": 4,
   "metadata": {
    "collapsed": true
   },
   "outputs": [],
   "source": [
    "# creiamo la dummy per 'Town'\n",
    "x['Town'] = pd.get_dummies(x['Town'])['B']"
   ]
  },
  {
   "cell_type": "markdown",
   "metadata": {},
   "source": [
    "Poiché dal confronto tra i boxplots si evince una certa differenza in variabilità nei due gruppi, è meglio fare un fit con correzione di White per tener conto di una possibile violazione di omoschedasticità."
   ]
  },
  {
   "cell_type": "code",
   "execution_count": 5,
   "metadata": {},
   "outputs": [
    {
     "data": {
      "text/html": [
       "<table class=\"simpletable\">\n",
       "<caption>OLS Regression Results</caption>\n",
       "<tr>\n",
       "  <th>Dep. Variable:</th>          <td>Price</td>      <th>  R-squared:         </th> <td>   0.002</td>\n",
       "</tr>\n",
       "<tr>\n",
       "  <th>Model:</th>                   <td>OLS</td>       <th>  Adj. R-squared:    </th> <td>  -0.023</td>\n",
       "</tr>\n",
       "<tr>\n",
       "  <th>Method:</th>             <td>Least Squares</td>  <th>  F-statistic:       </th> <td> 0.07308</td>\n",
       "</tr>\n",
       "<tr>\n",
       "  <th>Date:</th>             <td>Wed, 25 Oct 2017</td> <th>  Prob (F-statistic):</th>  <td> 0.788</td> \n",
       "</tr>\n",
       "<tr>\n",
       "  <th>Time:</th>                 <td>09:24:35</td>     <th>  Log-Likelihood:    </th> <td> -79.172</td>\n",
       "</tr>\n",
       "<tr>\n",
       "  <th>No. Observations:</th>      <td>    42</td>      <th>  AIC:               </th> <td>   162.3</td>\n",
       "</tr>\n",
       "<tr>\n",
       "  <th>Df Residuals:</th>          <td>    40</td>      <th>  BIC:               </th> <td>   165.8</td>\n",
       "</tr>\n",
       "<tr>\n",
       "  <th>Df Model:</th>              <td>     1</td>      <th>                     </th>     <td> </td>   \n",
       "</tr>\n",
       "<tr>\n",
       "  <th>Covariance Type:</th>         <td>HC3</td>       <th>                     </th>     <td> </td>   \n",
       "</tr>\n",
       "</table>\n",
       "<table class=\"simpletable\">\n",
       "<tr>\n",
       "      <td></td>        <th>coef</th>     <th>std err</th>      <th>z</th>      <th>P>|z|</th>  <th>[0.025</th>    <th>0.975]</th>  \n",
       "</tr>\n",
       "<tr>\n",
       "  <th>Town</th>     <td>    0.1396</td> <td>    0.516</td> <td>    0.270</td> <td> 0.787</td> <td>   -0.873</td> <td>    1.152</td>\n",
       "</tr>\n",
       "<tr>\n",
       "  <th>constant</th> <td>    2.1775</td> <td>    0.396</td> <td>    5.499</td> <td> 0.000</td> <td>    1.401</td> <td>    2.954</td>\n",
       "</tr>\n",
       "</table>\n",
       "<table class=\"simpletable\">\n",
       "<tr>\n",
       "  <th>Omnibus:</th>       <td> 6.448</td> <th>  Durbin-Watson:     </th> <td>   0.022</td>\n",
       "</tr>\n",
       "<tr>\n",
       "  <th>Prob(Omnibus):</th> <td> 0.040</td> <th>  Jarque-Bera (JB):  </th> <td>   6.144</td>\n",
       "</tr>\n",
       "<tr>\n",
       "  <th>Skew:</th>          <td> 0.936</td> <th>  Prob(JB):          </th> <td>  0.0463</td>\n",
       "</tr>\n",
       "<tr>\n",
       "  <th>Kurtosis:</th>      <td> 2.932</td> <th>  Cond. No.          </th> <td>    2.62</td>\n",
       "</tr>\n",
       "</table>"
      ],
      "text/plain": [
       "<class 'statsmodels.iolib.summary.Summary'>\n",
       "\"\"\"\n",
       "                            OLS Regression Results                            \n",
       "==============================================================================\n",
       "Dep. Variable:                  Price   R-squared:                       0.002\n",
       "Model:                            OLS   Adj. R-squared:                 -0.023\n",
       "Method:                 Least Squares   F-statistic:                   0.07308\n",
       "Date:                Wed, 25 Oct 2017   Prob (F-statistic):              0.788\n",
       "Time:                        09:24:35   Log-Likelihood:                -79.172\n",
       "No. Observations:                  42   AIC:                             162.3\n",
       "Df Residuals:                      40   BIC:                             165.8\n",
       "Df Model:                           1                                         \n",
       "Covariance Type:                  HC3                                         \n",
       "==============================================================================\n",
       "                 coef    std err          z      P>|z|      [0.025      0.975]\n",
       "------------------------------------------------------------------------------\n",
       "Town           0.1396      0.516      0.270      0.787      -0.873       1.152\n",
       "constant       2.1775      0.396      5.499      0.000       1.401       2.954\n",
       "==============================================================================\n",
       "Omnibus:                        6.448   Durbin-Watson:                   0.022\n",
       "Prob(Omnibus):                  0.040   Jarque-Bera (JB):                6.144\n",
       "Skew:                           0.936   Prob(JB):                       0.0463\n",
       "Kurtosis:                       2.932   Cond. No.                         2.62\n",
       "==============================================================================\n",
       "\n",
       "Warnings:\n",
       "[1] Standard Errors are heteroscedasticity robust (HC3)\n",
       "\"\"\""
      ]
     },
     "execution_count": 5,
     "metadata": {},
     "output_type": "execute_result"
    }
   ],
   "source": [
    "sm.OLS(y, x).fit(cov_type = 'HC3').summary()"
   ]
  },
  {
   "cell_type": "code",
   "execution_count": 6,
   "metadata": {},
   "outputs": [
    {
     "data": {
      "text/plain": [
       "2.1774619047619046"
      ]
     },
     "execution_count": 6,
     "metadata": {},
     "output_type": "execute_result"
    }
   ],
   "source": [
    "# la costante è uguale alla media dei prezzi in A:\n",
    "np.mean(y_TownA)"
   ]
  },
  {
   "cell_type": "code",
   "execution_count": 7,
   "metadata": {},
   "outputs": [
    {
     "data": {
      "text/plain": [
       "0.1396142857142859"
      ]
     },
     "execution_count": 7,
     "metadata": {},
     "output_type": "execute_result"
    }
   ],
   "source": [
    "# il coefficiente per Town è uguale a media_B - media_A:\n",
    "np.mean(y_TownB) - np.mean(y_TownA)"
   ]
  },
  {
   "cell_type": "markdown",
   "metadata": {},
   "source": [
    "**Il coefficiente per _Town_ indica che le case nella città B costano in media 139614 dollari in più. Tuttavia, tale coefficiente non risulta significativo, quindi non possiamo concludere che tale differenza sia davvero diversa da zero al livello della popolazione.**"
   ]
  },
  {
   "cell_type": "markdown",
   "metadata": {},
   "source": [
    "## Test *t* per la differenza tra medie \n",
    "\n",
    "Il modo più standard per verificare se due gruppi differiscano o meno in media è tramite il classico test *t*. In questo caso, data la possibile eteroschedasticità, utilizzeremo un test di Welch (scelta più frequente), il quale non assume che le varianze dei due gruppi siano uguali."
   ]
  },
  {
   "cell_type": "code",
   "execution_count": 8,
   "metadata": {},
   "outputs": [
    {
     "data": {
      "text/plain": [
       "Ttest_indResult(statistic=0.2770136373791327, pvalue=0.78324009161895258)"
      ]
     },
     "execution_count": 8,
     "metadata": {},
     "output_type": "execute_result"
    }
   ],
   "source": [
    "from scipy import stats\n",
    "\n",
    "stats.ttest_ind(y_TownB, y_TownA, equal_var = False)"
   ]
  },
  {
   "cell_type": "markdown",
   "metadata": {},
   "source": [
    "Il *p*-value non differisce granché da quello ottenuto tramite regressione: non possiamo rifiutare l'ipotesi nulla che le due città abbiano prezzi delle abitazioni in media uguali. "
   ]
  },
  {
   "cell_type": "markdown",
   "metadata": {},
   "source": [
    "## Equivalenza tra test *t* e regressione sotto l'assunzione di omoschedasticità\n",
    "\n",
    "Nel caso in cui facessimo un fit del modello di regressione senza correzione di White e utilizzassimo un test *t* ipotizzando varianze uguali per le due città, avremmo esattamente gli stessi risultati in termini di statistica *t* e *p*-value. I due approcci sono infatti perfettamente equivalenti."
   ]
  },
  {
   "cell_type": "code",
   "execution_count": 9,
   "metadata": {},
   "outputs": [
    {
     "data": {
      "text/plain": [
       "<class 'statsmodels.stats.contrast.ContrastResults'>\n",
       "                             Test for Constraints                             \n",
       "==============================================================================\n",
       "                 coef    std err          t      P>|t|      [0.025      0.975]\n",
       "------------------------------------------------------------------------------\n",
       "c0             0.1396      0.504      0.277      0.783      -0.879       1.158\n",
       "=============================================================================="
      ]
     },
     "execution_count": 9,
     "metadata": {},
     "output_type": "execute_result"
    }
   ],
   "source": [
    "sm.OLS(y, x).fit().t_test('Town')"
   ]
  },
  {
   "cell_type": "code",
   "execution_count": 10,
   "metadata": {},
   "outputs": [
    {
     "data": {
      "text/plain": [
       "Ttest_indResult(statistic=0.2770136373791327, pvalue=0.78319618484446818)"
      ]
     },
     "execution_count": 10,
     "metadata": {},
     "output_type": "execute_result"
    }
   ],
   "source": [
    "stats.ttest_ind(y_TownB, y_TownA, equal_var = True)"
   ]
  }
 ],
 "metadata": {
  "kernelspec": {
   "display_name": "Python 2",
   "language": "python",
   "name": "python2"
  },
  "language_info": {
   "codemirror_mode": {
    "name": "ipython",
    "version": 2
   },
   "file_extension": ".py",
   "mimetype": "text/x-python",
   "name": "python",
   "nbconvert_exporter": "python",
   "pygments_lexer": "ipython2",
   "version": "2.7.13"
  }
 },
 "nbformat": 4,
 "nbformat_minor": 2
}
