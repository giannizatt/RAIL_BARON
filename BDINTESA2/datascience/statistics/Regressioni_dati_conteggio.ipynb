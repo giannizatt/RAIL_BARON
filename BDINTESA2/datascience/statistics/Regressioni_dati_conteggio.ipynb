{
 "cells": [
  {
   "cell_type": "markdown",
   "metadata": {},
   "source": [
    "# Regressioni per dati di conteggio\n",
    "\n",
    "- Abbiamo un dataset di 3874 soggetti di cui vogliamo spiegare il numero di visite annue dal medico in funzione dei seguenti predittori: il numero di giorni passati in ospedale, l'età, l'essere disoccupato, l'essere donna, l'avere figli, gli anni di istruzione.\n",
    "- **Steps**:\n",
    "    \n",
    "    - Importazione dataset e calcolo di media e varianza dei conteggi osservati\n",
    "    - Plot di conteggi osservati vs conteggi attesi\n",
    "    - Regressione di Poisson\n",
    "    - Due esempi di test per verificare l'eventuale presenza di *overdispersion*\n",
    "    - Regressione binomiale negativa\n",
    "    - Test sul parametro di *overdispersion* (rapporto tra verosimiglianze)\n",
    "    - Interpretazione degli effetti"
   ]
  },
  {
   "cell_type": "code",
   "execution_count": 1,
   "metadata": {},
   "outputs": [
    {
     "name": "stdout",
     "output_type": "stream",
     "text": [
      "Populating the interactive namespace from numpy and matplotlib\n"
     ]
    },
    {
     "name": "stderr",
     "output_type": "stream",
     "text": [
      "/Users/davidepassaretti/anaconda/lib/python2.7/site-packages/statsmodels/compat/pandas.py:56: FutureWarning: The pandas.core.datetools module is deprecated and will be removed in a future version. Please use the pandas.tseries module instead.\n",
      "  from pandas.core import datetools\n"
     ]
    }
   ],
   "source": [
    "%pylab inline\n",
    "\n",
    "import pandas as pd\n",
    "import seaborn as sb\n",
    "import statsmodels.api as sm\n"
   ]
  },
  {
   "cell_type": "code",
   "execution_count": 2,
   "metadata": {
    "collapsed": true
   },
   "outputs": [],
   "source": [
    "my_df = pd.read_csv('rwm1984.csv')"
   ]
  },
  {
   "cell_type": "code",
   "execution_count": 3,
   "metadata": {},
   "outputs": [
    {
     "data": {
      "text/html": [
       "<div>\n",
       "<style>\n",
       "    .dataframe thead tr:only-child th {\n",
       "        text-align: right;\n",
       "    }\n",
       "\n",
       "    .dataframe thead th {\n",
       "        text-align: left;\n",
       "    }\n",
       "\n",
       "    .dataframe tbody tr th {\n",
       "        vertical-align: top;\n",
       "    }\n",
       "</style>\n",
       "<table border=\"1\" class=\"dataframe\">\n",
       "  <thead>\n",
       "    <tr style=\"text-align: right;\">\n",
       "      <th></th>\n",
       "      <th>docvis</th>\n",
       "      <th>hospvis</th>\n",
       "      <th>edlevel</th>\n",
       "      <th>age</th>\n",
       "      <th>outwork</th>\n",
       "      <th>female</th>\n",
       "      <th>kids</th>\n",
       "      <th>hhninc</th>\n",
       "      <th>educ</th>\n",
       "    </tr>\n",
       "  </thead>\n",
       "  <tbody>\n",
       "    <tr>\n",
       "      <th>0</th>\n",
       "      <td>1</td>\n",
       "      <td>0</td>\n",
       "      <td>3</td>\n",
       "      <td>54</td>\n",
       "      <td>0</td>\n",
       "      <td>0</td>\n",
       "      <td>0</td>\n",
       "      <td>3.050</td>\n",
       "      <td>15.0</td>\n",
       "    </tr>\n",
       "    <tr>\n",
       "      <th>1</th>\n",
       "      <td>0</td>\n",
       "      <td>0</td>\n",
       "      <td>1</td>\n",
       "      <td>44</td>\n",
       "      <td>1</td>\n",
       "      <td>1</td>\n",
       "      <td>0</td>\n",
       "      <td>3.050</td>\n",
       "      <td>9.0</td>\n",
       "    </tr>\n",
       "    <tr>\n",
       "      <th>2</th>\n",
       "      <td>0</td>\n",
       "      <td>0</td>\n",
       "      <td>1</td>\n",
       "      <td>58</td>\n",
       "      <td>1</td>\n",
       "      <td>1</td>\n",
       "      <td>0</td>\n",
       "      <td>1.434</td>\n",
       "      <td>11.0</td>\n",
       "    </tr>\n",
       "    <tr>\n",
       "      <th>3</th>\n",
       "      <td>7</td>\n",
       "      <td>2</td>\n",
       "      <td>1</td>\n",
       "      <td>64</td>\n",
       "      <td>0</td>\n",
       "      <td>0</td>\n",
       "      <td>0</td>\n",
       "      <td>1.500</td>\n",
       "      <td>10.5</td>\n",
       "    </tr>\n",
       "    <tr>\n",
       "      <th>4</th>\n",
       "      <td>6</td>\n",
       "      <td>0</td>\n",
       "      <td>3</td>\n",
       "      <td>30</td>\n",
       "      <td>1</td>\n",
       "      <td>0</td>\n",
       "      <td>0</td>\n",
       "      <td>2.400</td>\n",
       "      <td>13.0</td>\n",
       "    </tr>\n",
       "  </tbody>\n",
       "</table>\n",
       "</div>"
      ],
      "text/plain": [
       "   docvis  hospvis  edlevel  age  outwork  female  kids  hhninc  educ\n",
       "0       1        0        3   54        0       0     0   3.050  15.0\n",
       "1       0        0        1   44        1       1     0   3.050   9.0\n",
       "2       0        0        1   58        1       1     0   1.434  11.0\n",
       "3       7        2        1   64        0       0     0   1.500  10.5\n",
       "4       6        0        3   30        1       0     0   2.400  13.0"
      ]
     },
     "execution_count": 3,
     "metadata": {},
     "output_type": "execute_result"
    }
   ],
   "source": [
    "my_df.head()"
   ]
  },
  {
   "cell_type": "code",
   "execution_count": 4,
   "metadata": {
    "collapsed": true
   },
   "outputs": [],
   "source": [
    "y = my_df['docvis']"
   ]
  },
  {
   "cell_type": "code",
   "execution_count": 5,
   "metadata": {
    "collapsed": true
   },
   "outputs": [],
   "source": [
    "x = my_df.drop('docvis', 1) # togliamo la variabile di risposta\n",
    "x = x.drop('edlevel', 1) # togliamo il livello di istruzione, visto che è fortemente associato agli anni di istruzione"
   ]
  },
  {
   "cell_type": "code",
   "execution_count": 6,
   "metadata": {
    "collapsed": true
   },
   "outputs": [],
   "source": [
    "x['constant'] = 1"
   ]
  },
  {
   "cell_type": "code",
   "execution_count": 7,
   "metadata": {},
   "outputs": [
    {
     "data": {
      "text/html": [
       "<div>\n",
       "<style>\n",
       "    .dataframe thead tr:only-child th {\n",
       "        text-align: right;\n",
       "    }\n",
       "\n",
       "    .dataframe thead th {\n",
       "        text-align: left;\n",
       "    }\n",
       "\n",
       "    .dataframe tbody tr th {\n",
       "        vertical-align: top;\n",
       "    }\n",
       "</style>\n",
       "<table border=\"1\" class=\"dataframe\">\n",
       "  <thead>\n",
       "    <tr style=\"text-align: right;\">\n",
       "      <th></th>\n",
       "      <th>hospvis</th>\n",
       "      <th>age</th>\n",
       "      <th>outwork</th>\n",
       "      <th>female</th>\n",
       "      <th>kids</th>\n",
       "      <th>hhninc</th>\n",
       "      <th>educ</th>\n",
       "      <th>constant</th>\n",
       "    </tr>\n",
       "  </thead>\n",
       "  <tbody>\n",
       "    <tr>\n",
       "      <th>0</th>\n",
       "      <td>0</td>\n",
       "      <td>54</td>\n",
       "      <td>0</td>\n",
       "      <td>0</td>\n",
       "      <td>0</td>\n",
       "      <td>3.050</td>\n",
       "      <td>15.0</td>\n",
       "      <td>1</td>\n",
       "    </tr>\n",
       "    <tr>\n",
       "      <th>1</th>\n",
       "      <td>0</td>\n",
       "      <td>44</td>\n",
       "      <td>1</td>\n",
       "      <td>1</td>\n",
       "      <td>0</td>\n",
       "      <td>3.050</td>\n",
       "      <td>9.0</td>\n",
       "      <td>1</td>\n",
       "    </tr>\n",
       "    <tr>\n",
       "      <th>2</th>\n",
       "      <td>0</td>\n",
       "      <td>58</td>\n",
       "      <td>1</td>\n",
       "      <td>1</td>\n",
       "      <td>0</td>\n",
       "      <td>1.434</td>\n",
       "      <td>11.0</td>\n",
       "      <td>1</td>\n",
       "    </tr>\n",
       "    <tr>\n",
       "      <th>3</th>\n",
       "      <td>2</td>\n",
       "      <td>64</td>\n",
       "      <td>0</td>\n",
       "      <td>0</td>\n",
       "      <td>0</td>\n",
       "      <td>1.500</td>\n",
       "      <td>10.5</td>\n",
       "      <td>1</td>\n",
       "    </tr>\n",
       "    <tr>\n",
       "      <th>4</th>\n",
       "      <td>0</td>\n",
       "      <td>30</td>\n",
       "      <td>1</td>\n",
       "      <td>0</td>\n",
       "      <td>0</td>\n",
       "      <td>2.400</td>\n",
       "      <td>13.0</td>\n",
       "      <td>1</td>\n",
       "    </tr>\n",
       "  </tbody>\n",
       "</table>\n",
       "</div>"
      ],
      "text/plain": [
       "   hospvis  age  outwork  female  kids  hhninc  educ  constant\n",
       "0        0   54        0       0     0   3.050  15.0         1\n",
       "1        0   44        1       1     0   3.050   9.0         1\n",
       "2        0   58        1       1     0   1.434  11.0         1\n",
       "3        2   64        0       0     0   1.500  10.5         1\n",
       "4        0   30        1       0     0   2.400  13.0         1"
      ]
     },
     "execution_count": 7,
     "metadata": {},
     "output_type": "execute_result"
    }
   ],
   "source": [
    "x.head()"
   ]
  },
  {
   "cell_type": "code",
   "execution_count": 8,
   "metadata": {},
   "outputs": [
    {
     "data": {
      "text/plain": [
       "{'media': 3.1628807434176562, 'varianza': 39.377445082834946}"
      ]
     },
     "execution_count": 8,
     "metadata": {},
     "output_type": "execute_result"
    }
   ],
   "source": [
    "{'media' : np.mean(y), 'varianza' : np.var(y)}"
   ]
  },
  {
   "cell_type": "code",
   "execution_count": 9,
   "metadata": {},
   "outputs": [
    {
     "data": {
      "text/plain": [
       "<matplotlib.legend.Legend at 0x11b11cc10>"
      ]
     },
     "execution_count": 9,
     "metadata": {},
     "output_type": "execute_result"
    },
    {
     "data": {
      "image/png": "[encoded data removed]",
      "text/plain": [
       "<matplotlib.figure.Figure at 0x11ae87e10>"
      ]
     },
     "metadata": {},
     "output_type": "display_data"
    }
   ],
   "source": [
    "import scipy.stats as stat\n",
    "conteggi_osservati = y.value_counts().sort_index(0)[:31]\n",
    "conteggi_attesi = stat.poisson.pmf(arange(31), np.mean(y)) * y.count()\n",
    "plt.subplot()\n",
    "plt.plot(arange(31), conteggi_osservati, label=\"osservati\")\n",
    "plt.plot(arange(31), conteggi_attesi, label=\"attesi\")\n",
    "plt.legend()"
   ]
  },
  {
   "cell_type": "markdown",
   "metadata": {},
   "source": [
    "# Poisson regression"
   ]
  },
  {
   "cell_type": "code",
   "execution_count": 10,
   "metadata": {},
   "outputs": [
    {
     "name": "stdout",
     "output_type": "stream",
     "text": [
      "Optimization terminated successfully.\n",
      "         Current function value: 3.935901\n",
      "         Iterations 27\n"
     ]
    }
   ],
   "source": [
    "poisson_regression = sm.Poisson(y, x).fit(method = 'newton')"
   ]
  },
  {
   "cell_type": "code",
   "execution_count": 11,
   "metadata": {},
   "outputs": [
    {
     "data": {
      "text/html": [
       "<table class=\"simpletable\">\n",
       "<caption>Poisson Regression Results</caption>\n",
       "<tr>\n",
       "  <th>Dep. Variable:</th>      <td>docvis</td>      <th>  No. Observations:  </th>  <td>  3874</td> \n",
       "</tr>\n",
       "<tr>\n",
       "  <th>Model:</th>              <td>Poisson</td>     <th>  Df Residuals:      </th>  <td>  3866</td> \n",
       "</tr>\n",
       "<tr>\n",
       "  <th>Method:</th>               <td>MLE</td>       <th>  Df Model:          </th>  <td>     7</td> \n",
       "</tr>\n",
       "<tr>\n",
       "  <th>Date:</th>          <td>Wed, 25 Oct 2017</td> <th>  Pseudo R-squ.:     </th>  <td>0.07233</td>\n",
       "</tr>\n",
       "<tr>\n",
       "  <th>Time:</th>              <td>11:24:06</td>     <th>  Log-Likelihood:    </th> <td> -15248.</td>\n",
       "</tr>\n",
       "<tr>\n",
       "  <th>converged:</th>           <td>True</td>       <th>  LL-Null:           </th> <td> -16437.</td>\n",
       "</tr>\n",
       "<tr>\n",
       "  <th> </th>                      <td> </td>        <th>  LLR p-value:       </th>  <td> 0.000</td> \n",
       "</tr>\n",
       "</table>\n",
       "<table class=\"simpletable\">\n",
       "<tr>\n",
       "      <td></td>        <th>coef</th>     <th>std err</th>      <th>z</th>      <th>P>|z|</th>  <th>[0.025</th>    <th>0.975]</th>  \n",
       "</tr>\n",
       "<tr>\n",
       "  <th>hospvis</th>  <td>    0.1360</td> <td>    0.005</td> <td>   26.399</td> <td> 0.000</td> <td>    0.126</td> <td>    0.146</td>\n",
       "</tr>\n",
       "<tr>\n",
       "  <th>age</th>      <td>    0.0192</td> <td>    0.001</td> <td>   19.894</td> <td> 0.000</td> <td>    0.017</td> <td>    0.021</td>\n",
       "</tr>\n",
       "<tr>\n",
       "  <th>outwork</th>  <td>    0.2003</td> <td>    0.022</td> <td>    9.088</td> <td> 0.000</td> <td>    0.157</td> <td>    0.244</td>\n",
       "</tr>\n",
       "<tr>\n",
       "  <th>female</th>   <td>    0.2844</td> <td>    0.021</td> <td>   13.391</td> <td> 0.000</td> <td>    0.243</td> <td>    0.326</td>\n",
       "</tr>\n",
       "<tr>\n",
       "  <th>kids</th>     <td>   -0.1311</td> <td>    0.022</td> <td>   -6.086</td> <td> 0.000</td> <td>   -0.173</td> <td>   -0.089</td>\n",
       "</tr>\n",
       "<tr>\n",
       "  <th>hhninc</th>   <td>   -0.0733</td> <td>    0.008</td> <td>   -9.723</td> <td> 0.000</td> <td>   -0.088</td> <td>   -0.059</td>\n",
       "</tr>\n",
       "<tr>\n",
       "  <th>educ</th>     <td>   -0.0127</td> <td>    0.005</td> <td>   -2.652</td> <td> 0.008</td> <td>   -0.022</td> <td>   -0.003</td>\n",
       "</tr>\n",
       "<tr>\n",
       "  <th>constant</th> <td>    0.4123</td> <td>    0.078</td> <td>    5.273</td> <td> 0.000</td> <td>    0.259</td> <td>    0.566</td>\n",
       "</tr>\n",
       "</table>"
      ],
      "text/plain": [
       "<class 'statsmodels.iolib.summary.Summary'>\n",
       "\"\"\"\n",
       "                          Poisson Regression Results                          \n",
       "==============================================================================\n",
       "Dep. Variable:                 docvis   No. Observations:                 3874\n",
       "Model:                        Poisson   Df Residuals:                     3866\n",
       "Method:                           MLE   Df Model:                            7\n",
       "Date:                Wed, 25 Oct 2017   Pseudo R-squ.:                 0.07233\n",
       "Time:                        11:24:06   Log-Likelihood:                -15248.\n",
       "converged:                       True   LL-Null:                       -16437.\n",
       "                                        LLR p-value:                     0.000\n",
       "==============================================================================\n",
       "                 coef    std err          z      P>|z|      [0.025      0.975]\n",
       "------------------------------------------------------------------------------\n",
       "hospvis        0.1360      0.005     26.399      0.000       0.126       0.146\n",
       "age            0.0192      0.001     19.894      0.000       0.017       0.021\n",
       "outwork        0.2003      0.022      9.088      0.000       0.157       0.244\n",
       "female         0.2844      0.021     13.391      0.000       0.243       0.326\n",
       "kids          -0.1311      0.022     -6.086      0.000      -0.173      -0.089\n",
       "hhninc        -0.0733      0.008     -9.723      0.000      -0.088      -0.059\n",
       "educ          -0.0127      0.005     -2.652      0.008      -0.022      -0.003\n",
       "constant       0.4123      0.078      5.273      0.000       0.259       0.566\n",
       "==============================================================================\n",
       "\"\"\""
      ]
     },
     "execution_count": 11,
     "metadata": {},
     "output_type": "execute_result"
    }
   ],
   "source": [
    "poisson_regression.summary()"
   ]
  },
  {
   "cell_type": "markdown",
   "metadata": {},
   "source": [
    "## TEST per l'*overdispersion*: SCORE test"
   ]
  },
  {
   "cell_type": "code",
   "execution_count": 12,
   "metadata": {},
   "outputs": [
    {
     "data": {
      "text/plain": [
       "Ttest_1sampResult(statistic=6.6035991083010037, pvalue=4.558082151684842e-11)"
      ]
     },
     "execution_count": 12,
     "metadata": {},
     "output_type": "execute_result"
    }
   ],
   "source": [
    "# calcolo i conteggi predetti (attesi)\n",
    "mu = poisson_regression.predict()\n",
    "\n",
    "# calcolo la statistica test\n",
    "z_stat = ((y - mu)**2 - y)/(mu * sqrt(2))\n",
    "\n",
    "# Bisogna testare se z_stat abbia media uguale a zero tramite un t-test\n",
    "stat.ttest_1samp(z_stat, 0)"
   ]
  },
  {
   "cell_type": "markdown",
   "metadata": {},
   "source": [
    "## TEST per l'*overdispersion*: Lagrange-Multiplier test "
   ]
  },
  {
   "cell_type": "code",
   "execution_count": 13,
   "metadata": {},
   "outputs": [
    {
     "data": {
      "text/plain": [
       "(14293.555796442171, 0.0)"
      ]
     },
     "execution_count": 13,
     "metadata": {},
     "output_type": "execute_result"
    }
   ],
   "source": [
    "# clacolo la statistica test\n",
    "obs = y.count()\n",
    "mmu = np.mean(mu)\n",
    "nybar = obs*mmu\n",
    "musq = mu*mu \n",
    "mu2 = np.mean(musq)*obs\n",
    "chival = (mu2 - nybar)**2/(2*mu2) \n",
    "\n",
    "# Il p-value è calcolato sulla distribuzione Chi-quadro\n",
    "chival, 1 - stat.chi2.cdf(chival,1)"
   ]
  },
  {
   "cell_type": "markdown",
   "metadata": {},
   "source": [
    "# Negative binomial regression"
   ]
  },
  {
   "cell_type": "code",
   "execution_count": 14,
   "metadata": {},
   "outputs": [],
   "source": [
    "nb_regression = sm.NegativeBinomial(y, x).fit(disp = False)"
   ]
  },
  {
   "cell_type": "code",
   "execution_count": 15,
   "metadata": {},
   "outputs": [
    {
     "data": {
      "text/html": [
       "<table class=\"simpletable\">\n",
       "<caption>NegativeBinomial Regression Results</caption>\n",
       "<tr>\n",
       "  <th>Dep. Variable:</th>      <td>docvis</td>      <th>  No. Observations:  </th>  <td>  3874</td>  \n",
       "</tr>\n",
       "<tr>\n",
       "  <th>Model:</th>         <td>NegativeBinomial</td> <th>  Df Residuals:      </th>  <td>  3866</td>  \n",
       "</tr>\n",
       "<tr>\n",
       "  <th>Method:</th>               <td>MLE</td>       <th>  Df Model:          </th>  <td>     7</td>  \n",
       "</tr>\n",
       "<tr>\n",
       "  <th>Date:</th>          <td>Wed, 25 Oct 2017</td> <th>  Pseudo R-squ.:     </th>  <td>0.02022</td> \n",
       "</tr>\n",
       "<tr>\n",
       "  <th>Time:</th>              <td>11:24:07</td>     <th>  Log-Likelihood:    </th> <td> -8254.8</td> \n",
       "</tr>\n",
       "<tr>\n",
       "  <th>converged:</th>           <td>True</td>       <th>  LL-Null:           </th> <td> -8425.2</td> \n",
       "</tr>\n",
       "<tr>\n",
       "  <th> </th>                      <td> </td>        <th>  LLR p-value:       </th> <td>1.186e-69</td>\n",
       "</tr>\n",
       "</table>\n",
       "<table class=\"simpletable\">\n",
       "<tr>\n",
       "      <td></td>        <th>coef</th>     <th>std err</th>      <th>z</th>      <th>P>|z|</th>  <th>[0.025</th>    <th>0.975]</th>  \n",
       "</tr>\n",
       "<tr>\n",
       "  <th>hospvis</th>  <td>    0.4787</td> <td>    0.061</td> <td>    7.860</td> <td> 0.000</td> <td>    0.359</td> <td>    0.598</td>\n",
       "</tr>\n",
       "<tr>\n",
       "  <th>age</th>      <td>    0.0207</td> <td>    0.003</td> <td>    8.081</td> <td> 0.000</td> <td>    0.016</td> <td>    0.026</td>\n",
       "</tr>\n",
       "<tr>\n",
       "  <th>outwork</th>  <td>    0.1769</td> <td>    0.060</td> <td>    2.931</td> <td> 0.003</td> <td>    0.059</td> <td>    0.295</td>\n",
       "</tr>\n",
       "<tr>\n",
       "  <th>female</th>   <td>    0.3622</td> <td>    0.056</td> <td>    6.457</td> <td> 0.000</td> <td>    0.252</td> <td>    0.472</td>\n",
       "</tr>\n",
       "<tr>\n",
       "  <th>kids</th>     <td>   -0.1313</td> <td>    0.057</td> <td>   -2.313</td> <td> 0.021</td> <td>   -0.243</td> <td>   -0.020</td>\n",
       "</tr>\n",
       "<tr>\n",
       "  <th>hhninc</th>   <td>   -0.0555</td> <td>    0.016</td> <td>   -3.383</td> <td> 0.001</td> <td>   -0.088</td> <td>   -0.023</td>\n",
       "</tr>\n",
       "<tr>\n",
       "  <th>educ</th>     <td>   -0.0239</td> <td>    0.013</td> <td>   -1.892</td> <td> 0.058</td> <td>   -0.049</td> <td>    0.001</td>\n",
       "</tr>\n",
       "<tr>\n",
       "  <th>constant</th> <td>    0.3162</td> <td>    0.206</td> <td>    1.538</td> <td> 0.124</td> <td>   -0.087</td> <td>    0.719</td>\n",
       "</tr>\n",
       "<tr>\n",
       "  <th>alpha</th>    <td>    2.1557</td> <td>    0.068</td> <td>   31.802</td> <td> 0.000</td> <td>    2.023</td> <td>    2.289</td>\n",
       "</tr>\n",
       "</table>"
      ],
      "text/plain": [
       "<class 'statsmodels.iolib.summary.Summary'>\n",
       "\"\"\"\n",
       "                     NegativeBinomial Regression Results                      \n",
       "==============================================================================\n",
       "Dep. Variable:                 docvis   No. Observations:                 3874\n",
       "Model:               NegativeBinomial   Df Residuals:                     3866\n",
       "Method:                           MLE   Df Model:                            7\n",
       "Date:                Wed, 25 Oct 2017   Pseudo R-squ.:                 0.02022\n",
       "Time:                        11:24:07   Log-Likelihood:                -8254.8\n",
       "converged:                       True   LL-Null:                       -8425.2\n",
       "                                        LLR p-value:                 1.186e-69\n",
       "==============================================================================\n",
       "                 coef    std err          z      P>|z|      [0.025      0.975]\n",
       "------------------------------------------------------------------------------\n",
       "hospvis        0.4787      0.061      7.860      0.000       0.359       0.598\n",
       "age            0.0207      0.003      8.081      0.000       0.016       0.026\n",
       "outwork        0.1769      0.060      2.931      0.003       0.059       0.295\n",
       "female         0.3622      0.056      6.457      0.000       0.252       0.472\n",
       "kids          -0.1313      0.057     -2.313      0.021      -0.243      -0.020\n",
       "hhninc        -0.0555      0.016     -3.383      0.001      -0.088      -0.023\n",
       "educ          -0.0239      0.013     -1.892      0.058      -0.049       0.001\n",
       "constant       0.3162      0.206      1.538      0.124      -0.087       0.719\n",
       "alpha          2.1557      0.068     31.802      0.000       2.023       2.289\n",
       "==============================================================================\n",
       "\"\"\""
      ]
     },
     "execution_count": 15,
     "metadata": {},
     "output_type": "execute_result"
    }
   ],
   "source": [
    "nb_regression.summary()"
   ]
  },
  {
   "cell_type": "markdown",
   "metadata": {
    "collapsed": true
   },
   "source": [
    "## Test sul rapporto tra Verosimiglianze "
   ]
  },
  {
   "cell_type": "markdown",
   "metadata": {},
   "source": [
    "Bisogna ora capire se l'utilizzo del Modello Binomiale Negativo ha portato vantaggi rispetto al Modello di Poisson. Per valutare ciò, ci avvarremo di un test che confronta le devianze dei due modelli. Nel caso la devianza del modello Binomiale Negativo sia di gran lunga inferiore a quella del modello di Poisson (*p*-value < 0.05), allora manterremo il Binomiale Negativo."
   ]
  },
  {
   "cell_type": "code",
   "execution_count": 16,
   "metadata": {},
   "outputs": [
    {
     "data": {
      "text/plain": [
       "(14293.555796442171, 0.0)"
      ]
     },
     "execution_count": 16,
     "metadata": {},
     "output_type": "execute_result"
    }
   ],
   "source": [
    "# Devianza Poisson\n",
    "devianza_poiss = -2 * poisson_regression.llf\n",
    "\n",
    "# Devianza Negative Binomial\n",
    "devianza_nb = -2 * nb_regression.llf\n",
    "\n",
    "# Differenza in devianze\n",
    "g = devianza_poiss - devianza_nb\n",
    "\n",
    "# Il p-value è calcolato su una distribuzione Chi-quadrato con 1 grado di libertà\n",
    "chival, 1 - stat.chi2.cdf(g,1)"
   ]
  },
  {
   "cell_type": "markdown",
   "metadata": {},
   "source": [
    "# Interpretazione dei coefficienti"
   ]
  },
  {
   "cell_type": "markdown",
   "metadata": {},
   "source": [
    "Abbiamo quindi il nostro modello Binomiale Negativo. \n",
    "\n",
    "L'interpretazione dei coefficienti (che sarebbe analoga in caso di modello di Poisson) si basa sul fatto che abbiamo a che fare con un modello log-lineare. \n",
    "\n",
    "**_La relazione tra ciascun predittore e la variabile di risposta va interpretata mantenendo costanti tutti gli altri predittori, poiché ci troviamo in un modello con più di un predittore_**.\n",
    "\n",
    "Iniziamo col dire che la variabile **educ** non contribuisce significativamente alle variazioni della variabile di risposta **docvis** per alpha = 0.05. Potrebbe comunque avere un effetto negativo non del tutto trascurabile (*p*-value = 0.058).\n",
    "\n",
    "Le variabili **kids** e **hhninc** sono negativamente associate a **docvis**: avere dei bambini fa decrescere in media il numero delle visite annuali dal medico di un fattore pari a exp(-0.1313) = 0.8769, cioè un decremento del 12.30%, mentre un incremento di un marco tedesco nel reddito familiare annuale fa decrescere in media il numero delle visite di un fattore pari a exp(-0.0555) = 0.9460, ossia un decremento del 5.40%.\n",
    "\n",
    "Gli altri 4 predittori significativi (**hospvis**, **age**, **outwork**, **female**) sono positivamente associati a **docvis**: un giorno in più in ospedale durante l'anno è associato ad un incremento medio delle visite dal medico di un fattore pari a  exp(0.4787) = 1.6140, ossia un incremento del 61.40% (sembra piuttosto legittimo); ogni anno di età in più contribuisce ad aumentare in media le visite dal medico di un fattore pari a exp(0.0207) = 1.0209, cioè un incremento del 2.09%; essere senza lavoro aumenta in media le visite di un fattore pari a exp(0.1769) = 1.1935, cioè un incremento del 19.35%; essere donne aumenta in media le visite annuali dal medico di un fattore pari a exp(0.3622) = 1.4365, ossia un incremento del 43.65%."
   ]
  }
 ],
 "metadata": {
  "kernelspec": {
   "display_name": "Python 2",
   "language": "python",
   "name": "python2"
  },
  "language_info": {
   "codemirror_mode": {
    "name": "ipython",
    "version": 2
   },
   "file_extension": ".py",
   "mimetype": "text/x-python",
   "name": "python",
   "nbconvert_exporter": "python",
   "pygments_lexer": "ipython2",
   "version": "2.7.13"
  }
 },
 "nbformat": 4,
 "nbformat_minor": 2
}
