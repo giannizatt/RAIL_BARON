{
 "cells": [
  {
   "cell_type": "markdown",
   "metadata": {},
   "source": [
    "# Regressione logistica multinomiale\n",
    "\n",
    "- Abbiamo un dataset di 337 soggetti aventi 5 diversi tipi di occupazione (variabile di risposta categorica).\n",
    "- Tali soggetti sono descritti dai seguenti attributi: l'essere di etnia bianca (=1) oppure no (=0), i loro anni di istruzione, gli anni stimati di esperienza nella forza-lavoro.\n",
    "- Vogliamo capire se tali attributi possano in qualche modo influire sulla probabilità che un soggetto abbia una determianta occupazione.\n",
    "- **Steps**:\n",
    "    \n",
    "    - Importazione dati e calcolo della probabilità iniziale di ciascuna categoria\n",
    "    - Stima del modello logistico multinomiale\n",
    "    - Interpretazione del modello\n",
    "    - Calcolo probabilità predette per nuovi soggetti\n",
    "    - Test per valutare l'effetto totale di un predittore\n",
    "    - Test per valutare se due categorie possano o meno essere accorpate\n",
    "    - Plot delle probabilità per le due etnie."
   ]
  },
  {
   "cell_type": "code",
   "execution_count": 1,
   "metadata": {},
   "outputs": [
    {
     "name": "stdout",
     "output_type": "stream",
     "text": [
      "Populating the interactive namespace from numpy and matplotlib\n"
     ]
    },
    {
     "name": "stderr",
     "output_type": "stream",
     "text": [
      "/Users/davidepassaretti/anaconda/lib/python2.7/site-packages/statsmodels/compat/pandas.py:56: FutureWarning: The pandas.core.datetools module is deprecated and will be removed in a future version. Please use the pandas.tseries module instead.\n",
      "  from pandas.core import datetools\n"
     ]
    }
   ],
   "source": [
    "%pylab inline\n",
    "\n",
    "import pandas as pd\n",
    "import seaborn as sb\n",
    "import statsmodels.api as sm"
   ]
  },
  {
   "cell_type": "code",
   "execution_count": 2,
   "metadata": {
    "collapsed": true
   },
   "outputs": [],
   "source": [
    "my_df = pd.read_csv('occupations.csv')"
   ]
  },
  {
   "cell_type": "code",
   "execution_count": 3,
   "metadata": {},
   "outputs": [
    {
     "data": {
      "text/html": [
       "<div>\n",
       "<style>\n",
       "    .dataframe thead tr:only-child th {\n",
       "        text-align: right;\n",
       "    }\n",
       "\n",
       "    .dataframe thead th {\n",
       "        text-align: left;\n",
       "    }\n",
       "\n",
       "    .dataframe tbody tr th {\n",
       "        vertical-align: top;\n",
       "    }\n",
       "</style>\n",
       "<table border=\"1\" class=\"dataframe\">\n",
       "  <thead>\n",
       "    <tr style=\"text-align: right;\">\n",
       "      <th></th>\n",
       "      <th>occ</th>\n",
       "      <th>white</th>\n",
       "      <th>ed</th>\n",
       "      <th>exper</th>\n",
       "    </tr>\n",
       "  </thead>\n",
       "  <tbody>\n",
       "    <tr>\n",
       "      <th>0</th>\n",
       "      <td>-menial</td>\n",
       "      <td>1</td>\n",
       "      <td>11</td>\n",
       "      <td>3</td>\n",
       "    </tr>\n",
       "    <tr>\n",
       "      <th>1</th>\n",
       "      <td>-menial</td>\n",
       "      <td>1</td>\n",
       "      <td>12</td>\n",
       "      <td>14</td>\n",
       "    </tr>\n",
       "    <tr>\n",
       "      <th>2</th>\n",
       "      <td>-menial</td>\n",
       "      <td>1</td>\n",
       "      <td>12</td>\n",
       "      <td>44</td>\n",
       "    </tr>\n",
       "    <tr>\n",
       "      <th>3</th>\n",
       "      <td>-menial</td>\n",
       "      <td>1</td>\n",
       "      <td>12</td>\n",
       "      <td>18</td>\n",
       "    </tr>\n",
       "    <tr>\n",
       "      <th>4</th>\n",
       "      <td>-menial</td>\n",
       "      <td>0</td>\n",
       "      <td>14</td>\n",
       "      <td>24</td>\n",
       "    </tr>\n",
       "  </tbody>\n",
       "</table>\n",
       "</div>"
      ],
      "text/plain": [
       "       occ  white  ed  exper\n",
       "0  -menial      1  11      3\n",
       "1  -menial      1  12     14\n",
       "2  -menial      1  12     44\n",
       "3  -menial      1  12     18\n",
       "4  -menial      0  14     24"
      ]
     },
     "execution_count": 3,
     "metadata": {},
     "output_type": "execute_result"
    }
   ],
   "source": [
    "my_df.head()"
   ]
  },
  {
   "cell_type": "code",
   "execution_count": 4,
   "metadata": {
    "collapsed": true
   },
   "outputs": [],
   "source": [
    "y = my_df['occ']"
   ]
  },
  {
   "cell_type": "code",
   "execution_count": 5,
   "metadata": {
    "collapsed": true
   },
   "outputs": [],
   "source": [
    "x = my_df.drop('occ', 1)"
   ]
  },
  {
   "cell_type": "code",
   "execution_count": 6,
   "metadata": {
    "collapsed": true
   },
   "outputs": [],
   "source": [
    "x['constant'] = 1"
   ]
  },
  {
   "cell_type": "code",
   "execution_count": 7,
   "metadata": {},
   "outputs": [
    {
     "data": {
      "text/html": [
       "<div>\n",
       "<style>\n",
       "    .dataframe thead tr:only-child th {\n",
       "        text-align: right;\n",
       "    }\n",
       "\n",
       "    .dataframe thead th {\n",
       "        text-align: left;\n",
       "    }\n",
       "\n",
       "    .dataframe tbody tr th {\n",
       "        vertical-align: top;\n",
       "    }\n",
       "</style>\n",
       "<table border=\"1\" class=\"dataframe\">\n",
       "  <thead>\n",
       "    <tr style=\"text-align: right;\">\n",
       "      <th></th>\n",
       "      <th>white</th>\n",
       "      <th>ed</th>\n",
       "      <th>exper</th>\n",
       "      <th>constant</th>\n",
       "    </tr>\n",
       "  </thead>\n",
       "  <tbody>\n",
       "    <tr>\n",
       "      <th>0</th>\n",
       "      <td>1</td>\n",
       "      <td>11</td>\n",
       "      <td>3</td>\n",
       "      <td>1</td>\n",
       "    </tr>\n",
       "    <tr>\n",
       "      <th>1</th>\n",
       "      <td>1</td>\n",
       "      <td>12</td>\n",
       "      <td>14</td>\n",
       "      <td>1</td>\n",
       "    </tr>\n",
       "    <tr>\n",
       "      <th>2</th>\n",
       "      <td>1</td>\n",
       "      <td>12</td>\n",
       "      <td>44</td>\n",
       "      <td>1</td>\n",
       "    </tr>\n",
       "    <tr>\n",
       "      <th>3</th>\n",
       "      <td>1</td>\n",
       "      <td>12</td>\n",
       "      <td>18</td>\n",
       "      <td>1</td>\n",
       "    </tr>\n",
       "    <tr>\n",
       "      <th>4</th>\n",
       "      <td>0</td>\n",
       "      <td>14</td>\n",
       "      <td>24</td>\n",
       "      <td>1</td>\n",
       "    </tr>\n",
       "  </tbody>\n",
       "</table>\n",
       "</div>"
      ],
      "text/plain": [
       "   white  ed  exper  constant\n",
       "0      1  11      3         1\n",
       "1      1  12     14         1\n",
       "2      1  12     44         1\n",
       "3      1  12     18         1\n",
       "4      0  14     24         1"
      ]
     },
     "execution_count": 7,
     "metadata": {},
     "output_type": "execute_result"
    }
   ],
   "source": [
    "x.head()"
   ]
  },
  {
   "cell_type": "markdown",
   "metadata": {},
   "source": [
    "**Le categorie della variabile di risposta hanno le seguenti probabilità iniziali:**"
   ]
  },
  {
   "cell_type": "code",
   "execution_count": 8,
   "metadata": {},
   "outputs": [
    {
     "data": {
      "text/plain": [
       "professional    0.332344\n",
       "craft           0.249258\n",
       "blue-collar     0.204748\n",
       "white-collar    0.121662\n",
       "-menial         0.091988\n",
       "Name: occ, dtype: float64"
      ]
     },
     "execution_count": 8,
     "metadata": {},
     "output_type": "execute_result"
    }
   ],
   "source": [
    "counts_y = y.value_counts()\n",
    "counts_y / sum(counts_y)"
   ]
  },
  {
   "cell_type": "markdown",
   "metadata": {},
   "source": [
    "**Il modello di regressione logistica multinomiale è il seguente:**"
   ]
  },
  {
   "cell_type": "code",
   "execution_count": 9,
   "metadata": {},
   "outputs": [
    {
     "name": "stdout",
     "output_type": "stream",
     "text": [
      "Optimization terminated successfully.\n",
      "         Current function value: 1.266470\n",
      "         Iterations 6\n"
     ]
    },
    {
     "data": {
      "text/html": [
       "<table class=\"simpletable\">\n",
       "<caption>MNLogit Regression Results</caption>\n",
       "<tr>\n",
       "  <th>Dep. Variable:</th>        <td>occ</td>       <th>  No. Observations:  </th>  <td>   337</td>  \n",
       "</tr>\n",
       "<tr>\n",
       "  <th>Model:</th>              <td>MNLogit</td>     <th>  Df Residuals:      </th>  <td>   321</td>  \n",
       "</tr>\n",
       "<tr>\n",
       "  <th>Method:</th>               <td>MLE</td>       <th>  Df Model:          </th>  <td>    12</td>  \n",
       "</tr>\n",
       "<tr>\n",
       "  <th>Date:</th>          <td>Wed, 25 Oct 2017</td> <th>  Pseudo R-squ.:     </th>  <td>0.1629</td>  \n",
       "</tr>\n",
       "<tr>\n",
       "  <th>Time:</th>              <td>09:23:09</td>     <th>  Log-Likelihood:    </th> <td> -426.80</td> \n",
       "</tr>\n",
       "<tr>\n",
       "  <th>converged:</th>           <td>True</td>       <th>  LL-Null:           </th> <td> -509.84</td> \n",
       "</tr>\n",
       "<tr>\n",
       "  <th> </th>                      <td> </td>        <th>  LLR p-value:       </th> <td>3.010e-29</td>\n",
       "</tr>\n",
       "</table>\n",
       "<table class=\"simpletable\">\n",
       "<tr>\n",
       "   <th>occ=blue-collar</th>    <th>coef</th>     <th>std err</th>      <th>z</th>      <th>P>|z|</th>  <th>[0.025</th>    <th>0.975]</th>  \n",
       "</tr>\n",
       "<tr>\n",
       "  <th>white</th>            <td>    1.2365</td> <td>    0.724</td> <td>    1.707</td> <td> 0.088</td> <td>   -0.183</td> <td>    2.656</td>\n",
       "</tr>\n",
       "<tr>\n",
       "  <th>ed</th>               <td>   -0.0994</td> <td>    0.102</td> <td>   -0.972</td> <td> 0.331</td> <td>   -0.300</td> <td>    0.101</td>\n",
       "</tr>\n",
       "<tr>\n",
       "  <th>exper</th>            <td>    0.0047</td> <td>    0.017</td> <td>    0.271</td> <td> 0.786</td> <td>   -0.029</td> <td>    0.039</td>\n",
       "</tr>\n",
       "<tr>\n",
       "  <th>constant</th>         <td>    0.7412</td> <td>    1.520</td> <td>    0.488</td> <td> 0.626</td> <td>   -2.237</td> <td>    3.719</td>\n",
       "</tr>\n",
       "<tr>\n",
       "  <th>occ=craft</th>    <th>coef</th>     <th>std err</th>      <th>z</th>      <th>P>|z|</th>  <th>[0.025</th>    <th>0.975]</th>  \n",
       "</tr>\n",
       "<tr>\n",
       "  <th>white</th>     <td>    0.4723</td> <td>    0.604</td> <td>    0.782</td> <td> 0.434</td> <td>   -0.712</td> <td>    1.657</td>\n",
       "</tr>\n",
       "<tr>\n",
       "  <th>ed</th>        <td>    0.0938</td> <td>    0.098</td> <td>    0.962</td> <td> 0.336</td> <td>   -0.097</td> <td>    0.285</td>\n",
       "</tr>\n",
       "<tr>\n",
       "  <th>exper</th>     <td>    0.0277</td> <td>    0.017</td> <td>    1.660</td> <td> 0.097</td> <td>   -0.005</td> <td>    0.060</td>\n",
       "</tr>\n",
       "<tr>\n",
       "  <th>constant</th>  <td>   -1.0914</td> <td>    1.450</td> <td>   -0.753</td> <td> 0.452</td> <td>   -3.934</td> <td>    1.751</td>\n",
       "</tr>\n",
       "<tr>\n",
       "  <th>occ=professional</th>    <th>coef</th>     <th>std err</th>      <th>z</th>      <th>P>|z|</th>  <th>[0.025</th>    <th>0.975]</th>  \n",
       "</tr>\n",
       "<tr>\n",
       "  <th>white</th>            <td>    1.7743</td> <td>    0.755</td> <td>    2.350</td> <td> 0.019</td> <td>    0.294</td> <td>    3.254</td>\n",
       "</tr>\n",
       "<tr>\n",
       "  <th>ed</th>               <td>    0.7789</td> <td>    0.115</td> <td>    6.795</td> <td> 0.000</td> <td>    0.554</td> <td>    1.004</td>\n",
       "</tr>\n",
       "<tr>\n",
       "  <th>exper</th>            <td>    0.0357</td> <td>    0.018</td> <td>    1.977</td> <td> 0.048</td> <td>    0.000</td> <td>    0.071</td>\n",
       "</tr>\n",
       "<tr>\n",
       "  <th>constant</th>         <td>  -11.5183</td> <td>    1.849</td> <td>   -6.228</td> <td> 0.000</td> <td>  -15.143</td> <td>   -7.894</td>\n",
       "</tr>\n",
       "<tr>\n",
       "  <th>occ=white-collar</th>    <th>coef</th>     <th>std err</th>      <th>z</th>      <th>P>|z|</th>  <th>[0.025</th>    <th>0.975]</th>  \n",
       "</tr>\n",
       "<tr>\n",
       "  <th>white</th>            <td>    1.5714</td> <td>    0.903</td> <td>    1.741</td> <td> 0.082</td> <td>   -0.198</td> <td>    3.341</td>\n",
       "</tr>\n",
       "<tr>\n",
       "  <th>ed</th>               <td>    0.3532</td> <td>    0.117</td> <td>    3.011</td> <td> 0.003</td> <td>    0.123</td> <td>    0.583</td>\n",
       "</tr>\n",
       "<tr>\n",
       "  <th>exper</th>            <td>    0.0346</td> <td>    0.019</td> <td>    1.837</td> <td> 0.066</td> <td>   -0.002</td> <td>    0.072</td>\n",
       "</tr>\n",
       "<tr>\n",
       "  <th>constant</th>         <td>   -6.2386</td> <td>    1.899</td> <td>   -3.285</td> <td> 0.001</td> <td>   -9.961</td> <td>   -2.516</td>\n",
       "</tr>\n",
       "</table>"
      ],
      "text/plain": [
       "<class 'statsmodels.iolib.summary.Summary'>\n",
       "\"\"\"\n",
       "                          MNLogit Regression Results                          \n",
       "==============================================================================\n",
       "Dep. Variable:                    occ   No. Observations:                  337\n",
       "Model:                        MNLogit   Df Residuals:                      321\n",
       "Method:                           MLE   Df Model:                           12\n",
       "Date:                Wed, 25 Oct 2017   Pseudo R-squ.:                  0.1629\n",
       "Time:                        09:23:09   Log-Likelihood:                -426.80\n",
       "converged:                       True   LL-Null:                       -509.84\n",
       "                                        LLR p-value:                 3.010e-29\n",
       "====================================================================================\n",
       " occ=blue-collar       coef    std err          z      P>|z|      [0.025      0.975]\n",
       "------------------------------------------------------------------------------------\n",
       "white                1.2365      0.724      1.707      0.088      -0.183       2.656\n",
       "ed                  -0.0994      0.102     -0.972      0.331      -0.300       0.101\n",
       "exper                0.0047      0.017      0.271      0.786      -0.029       0.039\n",
       "constant             0.7412      1.520      0.488      0.626      -2.237       3.719\n",
       "------------------------------------------------------------------------------------\n",
       " occ=craft       coef    std err          z      P>|z|      [0.025      0.975]\n",
       "------------------------------------------------------------------------------\n",
       "white          0.4723      0.604      0.782      0.434      -0.712       1.657\n",
       "ed             0.0938      0.098      0.962      0.336      -0.097       0.285\n",
       "exper          0.0277      0.017      1.660      0.097      -0.005       0.060\n",
       "constant      -1.0914      1.450     -0.753      0.452      -3.934       1.751\n",
       "------------------------------------------------------------------------------\n",
       "occ=professional       coef    std err          z      P>|z|      [0.025      0.975]\n",
       "------------------------------------------------------------------------------------\n",
       "white                1.7743      0.755      2.350      0.019       0.294       3.254\n",
       "ed                   0.7789      0.115      6.795      0.000       0.554       1.004\n",
       "exper                0.0357      0.018      1.977      0.048       0.000       0.071\n",
       "constant           -11.5183      1.849     -6.228      0.000     -15.143      -7.894\n",
       "------------------------------------------------------------------------------------\n",
       "occ=white-collar       coef    std err          z      P>|z|      [0.025      0.975]\n",
       "------------------------------------------------------------------------------------\n",
       "white                1.5714      0.903      1.741      0.082      -0.198       3.341\n",
       "ed                   0.3532      0.117      3.011      0.003       0.123       0.583\n",
       "exper                0.0346      0.019      1.837      0.066      -0.002       0.072\n",
       "constant            -6.2386      1.899     -3.285      0.001      -9.961      -2.516\n",
       "====================================================================================\n",
       "\"\"\""
      ]
     },
     "execution_count": 9,
     "metadata": {},
     "output_type": "execute_result"
    }
   ],
   "source": [
    "ml_regression = sm.MNLogit(y, x).fit()\n",
    "ml_regression.summary()"
   ]
  },
  {
   "cell_type": "markdown",
   "metadata": {
    "collapsed": true
   },
   "source": [
    "## Interpretazione dei coefficienti in termini di **rapporto tra odds**\n",
    "\n",
    "Bisogna considerare che il modello logistico multinomiale è un modello in cui le categorie sono confrontate a due a due utilizzando la consueta interpretazione del modello logistico binario. In particolare, l'interpretazione standard è quella di **variazione negli _odds_ di una categoria rispetto ad una categoria di riferimento (_baseline_)**, la quale nel nostro caso è **-menial**. La categoria *baseline* ha tutti i coefficienti (costante inclusa) uguali a 0.\n",
    "\n",
    "**_Trovandoci in un modello con più predittori, l'interpretazione della relazione tra un dato predittore e la variabile di risposta è possibile solo se consideriamo costanti gli altri predittori._**\n",
    "\n",
    "Iniziamo con il dire che per le categorie di occupazione **blue-collar** e **craft**, nessuno dei tre predittori (**white**, **ed**, **exper**) contribuisce significativamente (prendendo alfa = 0.05) a far variare gli odds di ciascuna di queste categorie rispetto alla *baseline* **-menial**.\n",
    "\n",
    "Per quanto riguarda la categoria **white-collar**, né l'essere bianchi (**white**) né gli anni stimati di esperienza della persona nella forza-lavoro (**exper**) danno un contributo significativo per alpha = 0.05, seppure siano comunque molto vicini a tale soglia (per alpha = 0.1 sono invece significativi entrambi). Gli anni di istruzione (**ed**) hanno un effetto significativo su tale categoria: l'aumento di un anno di istruzione fa aumentare gli *odds* di avere un'occupazione **white-collar** rispetto ad una occupazione **-menial** di un fattore pari ad exp(0.3532) = 1.4236, cioè un aumento degli *odds* stimato del 42.36%.\n",
    "\n",
    "Per quanto riguarda la categoria **professional**, tutti i predittori sono significativi per alpha = 0.05, seppure **exper** sia molto vicino alla soglia di significatività. Gli *odds* di avere un'occupazione **professional** invece di **-menial** sono exp(1.7743) = 5.8962 cioè quasi 6 volte maggiori per i bianchi rispetto ai neri. L'aumento di un anno di istruzione fa aumentare gli *odds* di avere un'occupazione **professional** rispetto ad una occupazione **-menial** di un fattore pari ad exp(0.7789) = 2.1791, cioè gli *odds* sono più che raddoppiati. Un anno in più di esperienza stimato nella forza-lavoro fa aumentare gli *odds* di avere un'occupazione **professional** rispetto ad una occupazione **-menial** di un fattore pari ad exp(0.0357) = 1.0363, ossia un aumento degli *odds* stimato del 3.57%."
   ]
  },
  {
   "cell_type": "markdown",
   "metadata": {},
   "source": [
    "## Calcolo delle probabilità predette"
   ]
  },
  {
   "cell_type": "code",
   "execution_count": 10,
   "metadata": {},
   "outputs": [
    {
     "data": {
      "text/html": [
       "<div>\n",
       "<style>\n",
       "    .dataframe thead tr:only-child th {\n",
       "        text-align: right;\n",
       "    }\n",
       "\n",
       "    .dataframe thead th {\n",
       "        text-align: left;\n",
       "    }\n",
       "\n",
       "    .dataframe tbody tr th {\n",
       "        vertical-align: top;\n",
       "    }\n",
       "</style>\n",
       "<table border=\"1\" class=\"dataframe\">\n",
       "  <thead>\n",
       "    <tr style=\"text-align: right;\">\n",
       "      <th></th>\n",
       "      <th>white</th>\n",
       "      <th>ed</th>\n",
       "      <th>exper</th>\n",
       "      <th>constant</th>\n",
       "    </tr>\n",
       "  </thead>\n",
       "  <tbody>\n",
       "    <tr>\n",
       "      <th>0</th>\n",
       "      <td>1</td>\n",
       "      <td>15</td>\n",
       "      <td>20</td>\n",
       "      <td>1</td>\n",
       "    </tr>\n",
       "    <tr>\n",
       "      <th>1</th>\n",
       "      <td>0</td>\n",
       "      <td>13</td>\n",
       "      <td>26</td>\n",
       "      <td>1</td>\n",
       "    </tr>\n",
       "  </tbody>\n",
       "</table>\n",
       "</div>"
      ],
      "text/plain": [
       "   white  ed  exper  constant\n",
       "0      1  15     20         1\n",
       "1      0  13     26         1"
      ]
     },
     "execution_count": 10,
     "metadata": {},
     "output_type": "execute_result"
    }
   ],
   "source": [
    "x_nuovo = pd.DataFrame([[1, 15, 20, 1], [0, 13, 26, 1]])\n",
    "x_nuovo.columns = ['white', 'ed', 'exper', 'constant']\n",
    "x_nuovo"
   ]
  },
  {
   "cell_type": "code",
   "execution_count": 11,
   "metadata": {},
   "outputs": [
    {
     "data": {
      "text/html": [
       "<div>\n",
       "<style>\n",
       "    .dataframe thead tr:only-child th {\n",
       "        text-align: right;\n",
       "    }\n",
       "\n",
       "    .dataframe thead th {\n",
       "        text-align: left;\n",
       "    }\n",
       "\n",
       "    .dataframe tbody tr th {\n",
       "        vertical-align: top;\n",
       "    }\n",
       "</style>\n",
       "<table border=\"1\" class=\"dataframe\">\n",
       "  <thead>\n",
       "    <tr style=\"text-align: right;\">\n",
       "      <th></th>\n",
       "      <th>-menial</th>\n",
       "      <th>blue-collar</th>\n",
       "      <th>craft</th>\n",
       "      <th>professional</th>\n",
       "      <th>white-collar</th>\n",
       "    </tr>\n",
       "  </thead>\n",
       "  <tbody>\n",
       "    <tr>\n",
       "      <th>0</th>\n",
       "      <td>0.040743</td>\n",
       "      <td>0.072826</td>\n",
       "      <td>0.155895</td>\n",
       "      <td>0.577702</td>\n",
       "      <td>0.152833</td>\n",
       "    </tr>\n",
       "    <tr>\n",
       "      <th>1</th>\n",
       "      <td>0.196577</td>\n",
       "      <td>0.128062</td>\n",
       "      <td>0.459013</td>\n",
       "      <td>0.123312</td>\n",
       "      <td>0.093036</td>\n",
       "    </tr>\n",
       "  </tbody>\n",
       "</table>\n",
       "</div>"
      ],
      "text/plain": [
       "    -menial  blue-collar     craft  professional  white-collar\n",
       "0  0.040743     0.072826  0.155895      0.577702      0.152833\n",
       "1  0.196577     0.128062  0.459013      0.123312      0.093036"
      ]
     },
     "execution_count": 11,
     "metadata": {},
     "output_type": "execute_result"
    }
   ],
   "source": [
    "prob_predette = ml_regression.predict(x_nuovo)\n",
    "prob_predette.columns = ['-menial', 'blue-collar', 'craft', 'professional', 'white-collar']\n",
    "prob_predette"
   ]
  },
  {
   "cell_type": "markdown",
   "metadata": {
    "collapsed": true
   },
   "source": [
    "## Test per valutare l'effetto di un predittore\n",
    "\n",
    "Vogliamo testare se un predittore può essere omesso dal modello senza particolari conseguenze in termini di potere esplicativo. Abbiamo visto che la variabile **exper** non sembra dare un contributo sostanziale (benché per **occ=professional** abbia comunque una significatività borderline per alfa = 0.05).\n",
    "\n",
    "Per testare ciò, possiamo avvalerci di un test sul rapporto tra verosimiglianze che confronta le devianze del modello senza il predittore in questione con quello del modello di partenza. Nel caso il test dia un *p*-value superiore a 0.05, potremmo omettere il predittore in questione."
   ]
  },
  {
   "cell_type": "code",
   "execution_count": 12,
   "metadata": {},
   "outputs": [
    {
     "name": "stdout",
     "output_type": "stream",
     "text": [
      "Optimization terminated successfully.\n",
      "         Current function value: 1.279172\n",
      "         Iterations 6\n"
     ]
    }
   ],
   "source": [
    "# fit modello ridotto\n",
    "x_NOexper = x.drop('exper', 1)\n",
    "ml_regression_NOexper = sm.MNLogit(y, x_NOexper).fit()"
   ]
  },
  {
   "cell_type": "code",
   "execution_count": 13,
   "metadata": {},
   "outputs": [
    {
     "data": {
      "text/plain": [
       "0.073061017031299635"
      ]
     },
     "execution_count": 13,
     "metadata": {},
     "output_type": "execute_result"
    }
   ],
   "source": [
    "# devianza modello iniziale\n",
    "devianza_ml_iniz = - 2 * ml_regression.llf\n",
    "# gradi di libertà modello iniziale\n",
    "gdl_ml_iniz = ml_regression.df_resid\n",
    "\n",
    "# devianza modello ridotto\n",
    "devianza_ml_NOexper = - 2 * ml_regression_NOexper.llf\n",
    "# gradi di libertà modello ridotto\n",
    "gdl_ml_NOexper = ml_regression_NOexper.df_resid\n",
    "\n",
    "# statistica test\n",
    "g = devianza_ml_NOexper - devianza_ml_iniz\n",
    "# gradi di libertà per la statistica test\n",
    "gdl = gdl_ml_NOexper - gdl_ml_iniz\n",
    "\n",
    "# il p-value va calcolato su una distribuzione Chi-quadrato con g.d.l. uguali alla differenza in numero di parametri stimati\n",
    "import scipy.stats as stat\n",
    "1 - stat.chi2.cdf(g, gdl)"
   ]
  },
  {
   "cell_type": "markdown",
   "metadata": {
    "collapsed": true
   },
   "source": [
    "## Test per valutare se due categorie possono essere accorpate\n",
    "\n",
    "Vogliamo testare, per esempio, se le due categorie **-menial** e **blue-collar** possono essere accorpate in un'unica categoria **menial/blue-collar**. Per fare ciò, possiamo eseguire una regressione logistica sulle sole unità statistiche che sono in queste categorie e vedere se i parametri stimati siano o meno significativi. In caso questo modello ausiliario non sia significativo (**LLR p-value** > 0.05), possiamo accorpare le categorie."
   ]
  },
  {
   "cell_type": "code",
   "execution_count": 14,
   "metadata": {},
   "outputs": [
    {
     "name": "stdout",
     "output_type": "stream",
     "text": [
      "Optimization terminated successfully.\n",
      "         Current function value: 0.599837\n",
      "         Iterations 5\n"
     ]
    },
    {
     "data": {
      "text/html": [
       "<table class=\"simpletable\">\n",
       "<caption>MNLogit Regression Results</caption>\n",
       "<tr>\n",
       "  <th>Dep. Variable:</th>        <td>occ</td>       <th>  No. Observations:  </th>  <td>   100</td> \n",
       "</tr>\n",
       "<tr>\n",
       "  <th>Model:</th>              <td>MNLogit</td>     <th>  Df Residuals:      </th>  <td>    96</td> \n",
       "</tr>\n",
       "<tr>\n",
       "  <th>Method:</th>               <td>MLE</td>       <th>  Df Model:          </th>  <td>     3</td> \n",
       "</tr>\n",
       "<tr>\n",
       "  <th>Date:</th>          <td>Wed, 25 Oct 2017</td> <th>  Pseudo R-squ.:     </th>  <td>0.03112</td>\n",
       "</tr>\n",
       "<tr>\n",
       "  <th>Time:</th>              <td>09:23:09</td>     <th>  Log-Likelihood:    </th> <td> -59.984</td>\n",
       "</tr>\n",
       "<tr>\n",
       "  <th>converged:</th>           <td>True</td>       <th>  LL-Null:           </th> <td> -61.910</td>\n",
       "</tr>\n",
       "<tr>\n",
       "  <th> </th>                      <td> </td>        <th>  LLR p-value:       </th>  <td>0.2778</td> \n",
       "</tr>\n",
       "</table>\n",
       "<table class=\"simpletable\">\n",
       "<tr>\n",
       "  <th>occ=blue-collar</th>    <th>coef</th>     <th>std err</th>      <th>z</th>      <th>P>|z|</th>  <th>[0.025</th>    <th>0.975]</th>  \n",
       "</tr>\n",
       "<tr>\n",
       "  <th>white</th>           <td>    1.2089</td> <td>    0.742</td> <td>    1.630</td> <td> 0.103</td> <td>   -0.245</td> <td>    2.663</td>\n",
       "</tr>\n",
       "<tr>\n",
       "  <th>ed</th>              <td>   -0.0733</td> <td>    0.098</td> <td>   -0.748</td> <td> 0.454</td> <td>   -0.265</td> <td>    0.119</td>\n",
       "</tr>\n",
       "<tr>\n",
       "  <th>exper</th>           <td>    0.0094</td> <td>    0.017</td> <td>    0.555</td> <td> 0.579</td> <td>   -0.024</td> <td>    0.043</td>\n",
       "</tr>\n",
       "<tr>\n",
       "  <th>constant</th>        <td>    0.3747</td> <td>    1.528</td> <td>    0.245</td> <td> 0.806</td> <td>   -2.620</td> <td>    3.369</td>\n",
       "</tr>\n",
       "</table>"
      ],
      "text/plain": [
       "<class 'statsmodels.iolib.summary.Summary'>\n",
       "\"\"\"\n",
       "                          MNLogit Regression Results                          \n",
       "==============================================================================\n",
       "Dep. Variable:                    occ   No. Observations:                  100\n",
       "Model:                        MNLogit   Df Residuals:                       96\n",
       "Method:                           MLE   Df Model:                            3\n",
       "Date:                Wed, 25 Oct 2017   Pseudo R-squ.:                 0.03112\n",
       "Time:                        09:23:09   Log-Likelihood:                -59.984\n",
       "converged:                       True   LL-Null:                       -61.910\n",
       "                                        LLR p-value:                    0.2778\n",
       "===================================================================================\n",
       "occ=blue-collar       coef    std err          z      P>|z|      [0.025      0.975]\n",
       "-----------------------------------------------------------------------------------\n",
       "white               1.2089      0.742      1.630      0.103      -0.245       2.663\n",
       "ed                 -0.0733      0.098     -0.748      0.454      -0.265       0.119\n",
       "exper               0.0094      0.017      0.555      0.579      -0.024       0.043\n",
       "constant            0.3747      1.528      0.245      0.806      -2.620       3.369\n",
       "===================================================================================\n",
       "\"\"\""
      ]
     },
     "execution_count": 14,
     "metadata": {},
     "output_type": "execute_result"
    }
   ],
   "source": [
    "pos = (y == '-menial') | (y == 'blue-collar')\n",
    "x_sottoins = x[pos]\n",
    "y_sottoins = y[pos]\n",
    "\n",
    "sm.MNLogit(y_sottoins, x_sottoins).fit().summary()"
   ]
  },
  {
   "cell_type": "markdown",
   "metadata": {},
   "source": [
    "## Plot delle probabilità\n",
    "\n",
    "Il plot fa riferimento al modello **ml_regression_NOexper**, privo della variabile **exper**."
   ]
  },
  {
   "cell_type": "code",
   "execution_count": 15,
   "metadata": {
    "collapsed": true
   },
   "outputs": [],
   "source": [
    "myrange = np.arange(np.min(x['ed']), np.max(x['ed']), 1)\n",
    "\n",
    "tutti1 = np.repeat(1, 17, axis=0)\n",
    "tutti0 = np.repeat(0, 17, axis=0)\n",
    "\n",
    "myX_white = pd.DataFrame(tutti1)\n",
    "myX_white['ed'] = myrange\n",
    "myX_white['constant'] = tutti1\n",
    "\n",
    "myX_NOwhite = pd.DataFrame(tutti0)\n",
    "myX_NOwhite['ed'] = myrange\n",
    "myX_NOwhite['constant'] = tutti1\n",
    "\n",
    "probs_white = ml_regression_NOexper.predict(myX_white)\n",
    "probs_NOwhite = ml_regression_NOexper.predict(myX_NOwhite)\n",
    "\n",
    "probs_white.columns = probs_NOwhite.columns = ['-menial', 'blue-collar', 'craft', 'professional', 'white-collar']"
   ]
  },
  {
   "cell_type": "markdown",
   "metadata": {},
   "source": [
    "### Etnia bianca"
   ]
  },
  {
   "cell_type": "code",
   "execution_count": 16,
   "metadata": {},
   "outputs": [
    {
     "data": {
      "text/plain": [
       "<matplotlib.legend.Legend at 0x11fb48210>"
      ]
     },
     "execution_count": 16,
     "metadata": {},
     "output_type": "execute_result"
    },
    {
     "data": {
      "image/png": "[encoded data removed]",
      "text/plain": [
       "<matplotlib.figure.Figure at 0x11fa6ba50>"
      ]
     },
     "metadata": {},
     "output_type": "display_data"
    }
   ],
   "source": [
    "plt.subplot()\n",
    "plt.plot(myrange, probs_white['-menial'], label=\"-menial\")\n",
    "plt.plot(myrange, probs_white['blue-collar'], label=\"blue-collar\")\n",
    "plt.plot(myrange, probs_white['craft'], label=\"craft\")\n",
    "plt.plot(myrange, probs_white['professional'], label=\"professional\")\n",
    "plt.plot(myrange, probs_white['white-collar'], label=\"white-collar\")\n",
    "plt.legend()"
   ]
  },
  {
   "cell_type": "markdown",
   "metadata": {},
   "source": [
    "### Etnia non bianca"
   ]
  },
  {
   "cell_type": "code",
   "execution_count": 17,
   "metadata": {},
   "outputs": [
    {
     "data": {
      "text/plain": [
       "<matplotlib.legend.Legend at 0x11fcf5e10>"
      ]
     },
     "execution_count": 17,
     "metadata": {},
     "output_type": "execute_result"
    },
    {
     "data": {
      "image/png": "[encoded data removed]",
      "text/plain": [
       "<matplotlib.figure.Figure at 0x11fa6ba90>"
      ]
     },
     "metadata": {},
     "output_type": "display_data"
    }
   ],
   "source": [
    "plt.subplot()\n",
    "plt.plot(myrange, probs_NOwhite['-menial'], label=\"-menial\")\n",
    "plt.plot(myrange, probs_NOwhite['blue-collar'], label=\"blue-collar\")\n",
    "plt.plot(myrange, probs_NOwhite['craft'], label=\"craft\")\n",
    "plt.plot(myrange, probs_NOwhite['professional'], label=\"professional\")\n",
    "plt.plot(myrange, probs_NOwhite['white-collar'], label=\"white-collar\")\n",
    "plt.legend()"
   ]
  }
 ],
 "metadata": {
  "kernelspec": {
   "display_name": "Python 2",
   "language": "python",
   "name": "python2"
  },
  "language_info": {
   "codemirror_mode": {
    "name": "ipython",
    "version": 2
   },
   "file_extension": ".py",
   "mimetype": "text/x-python",
   "name": "python",
   "nbconvert_exporter": "python",
   "pygments_lexer": "ipython2",
   "version": "2.7.13"
  }
 },
 "nbformat": 4,
 "nbformat_minor": 2
}
