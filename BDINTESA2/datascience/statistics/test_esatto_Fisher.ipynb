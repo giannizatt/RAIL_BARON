{
 "cells": [
  {
   "cell_type": "markdown",
   "metadata": {},
   "source": [
    "# Test esatto di Fisher\n",
    "\n",
    "- Con il seguente esempio, mostriamo come applicare il test esatto di Fisher per verificare l'indipendenza tra due variabili categoriche, ciascuna avente solo due livelli --> tabella 2 x 2.\n",
    "- **Steps**:\n",
    "    \n",
    "    - Racconto dell'aneddoto del tè e latte di Ronald Fisher\n",
    "    - Conteggi osservati e conteggi attesi sotto l'ipotesi di indipendenza\n",
    "    - Rapporto tra gli odds (statistica test) e *p*-value esatto\n",
    "    - Interpretazione\n",
    "    - Determinazione del *mid*-*p*-value per essere meno conservativi."
   ]
  },
  {
   "cell_type": "code",
   "execution_count": 1,
   "metadata": {},
   "outputs": [
    {
     "name": "stdout",
     "output_type": "stream",
     "text": [
      "Populating the interactive namespace from numpy and matplotlib\n"
     ]
    }
   ],
   "source": [
    "%pylab inline\n",
    "from scipy import stats"
   ]
  },
  {
   "cell_type": "markdown",
   "metadata": {},
   "source": [
    "## L'aneddoto del tè e latte di Ronald Fisher\n",
    "\n",
    "Muriel Bristol asserì di avere la capacità di dire, bevendo una tazza di tè e latte, se fosse stato versato prima il latte oppure il tè. Fisher, incuriosito da ciò, le sottopose in modo randomizzato 8 tazze di tè e latte, in 4 delle quali era stato versato prima il latte, mentre nelle 4 restanti era stato versato prima il tè.  \n",
    "La signora Bristol sbagliò a riconoscere una tazza in cui era stato versato prima il latte e una tazza in cui era stato versato prima il tè.  \n",
    "Possiamo quindi individuare due variabili dicotomiche (entrambe con modalità Sì/No): **versatoLatte** (\"Il latte è versato per primo\") e **scommetteLatte** (\"Il latte viene riconosciuto come primo ad essere versato\").  \n",
    "Se la prima variabile è posta sulle righe e la seconda è posta sulle colonne, la tabella di contingenza (conteggi **osservati**) è la seguente:"
   ]
  },
  {
   "cell_type": "code",
   "execution_count": 2,
   "metadata": {},
   "outputs": [
    {
     "data": {
      "text/plain": [
       "array([[ 3.,  1.],\n",
       "       [ 1.,  3.]])"
      ]
     },
     "execution_count": 2,
     "metadata": {},
     "output_type": "execute_result"
    }
   ],
   "source": [
    "esempio_Fisher = array([[3.0, 1.0], [1.0, 3.0]])\n",
    "esempio_Fisher"
   ]
  },
  {
   "cell_type": "markdown",
   "metadata": {},
   "source": [
    "In caso di **indipendenza** di una variabile dall'altra, siamo nella situazione in cui la signora Bristol non sappia davvero riconoscere quando venga versato prima il latte oppure il tè. Dunque la tabella dei conteggi **attesi** è la seguente:"
   ]
  },
  {
   "cell_type": "code",
   "execution_count": 3,
   "metadata": {},
   "outputs": [
    {
     "data": {
      "text/plain": [
       "array([[ 2.,  2.],\n",
       "       [ 2.,  2.]])"
      ]
     },
     "execution_count": 3,
     "metadata": {},
     "output_type": "execute_result"
    }
   ],
   "source": [
    "array([[2.0, 2.0], [2.0, 2.0]])"
   ]
  },
  {
   "cell_type": "markdown",
   "metadata": {},
   "source": [
    "In caso di **indipendenza**, gli *odds* di riconoscere che sia stato versato prima il latte quando è stato versato prima il latte e gli odds di riconoscere che sia stato versato prima il latte quando invece è stato versato prima il tè sono gli stessi, dunque il loro rapporto sotto l'ipotesi nulla è uguale a 1."
   ]
  },
  {
   "cell_type": "code",
   "execution_count": 4,
   "metadata": {},
   "outputs": [
    {
     "data": {
      "text/plain": [
       "3.0"
      ]
     },
     "execution_count": 4,
     "metadata": {},
     "output_type": "execute_result"
    }
   ],
   "source": [
    "scommetteLatte_versatoLatte = esempio_Fisher[0,0]\n",
    "scommetteLatte_versatoLatte"
   ]
  },
  {
   "cell_type": "code",
   "execution_count": 5,
   "metadata": {},
   "outputs": [
    {
     "data": {
      "text/plain": [
       "(8.0, 4.0, 4.0)"
      ]
     },
     "execution_count": 5,
     "metadata": {},
     "output_type": "execute_result"
    }
   ],
   "source": [
    "marginali_riga, marginali_colonna = np.sum(esempio_Fisher, axis= 0), np.sum(esempio_Fisher, axis= 1)\n",
    "tazze_totali, tazze_versatoLatte, tazze_scommetteLatte = np.sum(esempio_Fisher), marginali_riga[0], marginali_colonna[0]\n",
    "tazze_totali, tazze_versatoLatte, tazze_scommetteLatte"
   ]
  },
  {
   "cell_type": "markdown",
   "metadata": {},
   "source": [
    "Mantenendo fissi questi marginali, le altre situazioni tanto estreme o più estreme (sotto ipotesi di indipendenza) rispetto a quella osservata si hanno quando il conteggio per **scommetteLatte_versatoLatte** è uguale a 0, 1, oppure 4."
   ]
  },
  {
   "cell_type": "markdown",
   "metadata": {},
   "source": [
    "### Rapporto tra gli odds per la tabella osservata\n",
    "\n",
    "Calcoliamo il rapporto tra gli *odds* sopra descritti. L'obiettivo sarà quello di decidere se tale rapporto sia o no lontano (maggiore o minore che sia) dal valore 1, ossia il valore atteso sotto ipotesi di indipendenza."
   ]
  },
  {
   "cell_type": "code",
   "execution_count": 6,
   "metadata": {},
   "outputs": [
    {
     "data": {
      "text/plain": [
       "9.0"
      ]
     },
     "execution_count": 6,
     "metadata": {},
     "output_type": "execute_result"
    }
   ],
   "source": [
    "prob_scommetteLatte_versatoLatte = scommetteLatte_versatoLatte/tazze_versatoLatte\n",
    "odds_scommetteLatte_versatoLatte = prob_scommetteLatte_versatoLatte/(1 - prob_scommetteLatte_versatoLatte) \n",
    "\n",
    "prob_scommetteLatte_versatoTe = (tazze_scommetteLatte - scommetteLatte_versatoLatte)/(tazze_totali - tazze_versatoLatte) \n",
    "odds_scommetteLatte_versatoTe = prob_scommetteLatte_versatoTe/(1 - prob_scommetteLatte_versatoTe)\n",
    "\n",
    "rapporto_odds = odds_scommetteLatte_versatoLatte/odds_scommetteLatte_versatoTe\n",
    "rapporto_odds"
   ]
  },
  {
   "cell_type": "markdown",
   "metadata": {},
   "source": [
    "Questo valore indica che, secondo i conteggi osservati, risulta 9 volte più probabile che la signora Bristol riconosca che il latte sia il primo ad essere versato quando il latte viene effettivamente versato per primo rispetto a quando il latte viene versato per secondo. Per capire se un tale valore del rapporto tra gli *odds* sia sufficiente per dire che la signora Bristol abbia davvero l'abilità che dice di avere, dobbiamo effettuare un test (**test esatto di Fisher**), il cui valore osservato della statistica test è proprio questo rapporto tra gli *odds* appena calcolato."
   ]
  },
  {
   "cell_type": "markdown",
   "metadata": {},
   "source": [
    "### Calcolo del *p*-value esatto del test \n",
    "\n",
    "Il *p*-value esatto è calcolato considerando la somma della probabilità di osservare, sotto l'ipotesi nulla di indipendenza, situazioni tanto estreme o più estreme di quella osservata:"
   ]
  },
  {
   "cell_type": "code",
   "execution_count": 7,
   "metadata": {},
   "outputs": [
    {
     "data": {
      "text/plain": [
       "0.48571428571428527"
      ]
     },
     "execution_count": 7,
     "metadata": {},
     "output_type": "execute_result"
    }
   ],
   "source": [
    "vc_iperg = stats.hypergeom(tazze_totali, tazze_versatoLatte, tazze_scommetteLatte)\n",
    "pmf_situaz_cosi_estreme = vc_iperg.pmf(scommetteLatte_versatoLatte) + vc_iperg.pmf(1)\n",
    "pmf_situaz_piu_estreme = vc_iperg.pmf(0) + vc_iperg.pmf(4)\n",
    "p_value_esatto = pmf_situaz_cosi_estreme + pmf_situaz_piu_estreme\n",
    "p_value_esatto"
   ]
  },
  {
   "cell_type": "markdown",
   "metadata": {},
   "source": [
    "### Il test dà dunque il seguente esito in termini di statistica test (rapporto tra gli *odds*) e *p*-value"
   ]
  },
  {
   "cell_type": "code",
   "execution_count": 8,
   "metadata": {},
   "outputs": [
    {
     "data": {
      "text/plain": [
       "(9.0, 0.48571428571428527)"
      ]
     },
     "execution_count": 8,
     "metadata": {},
     "output_type": "execute_result"
    }
   ],
   "source": [
    "rapporto_odds, p_value_esatto"
   ]
  },
  {
   "cell_type": "markdown",
   "metadata": {},
   "source": [
    "### Il test è disponibile anche in scipy --> stats:"
   ]
  },
  {
   "cell_type": "code",
   "execution_count": 9,
   "metadata": {},
   "outputs": [
    {
     "data": {
      "text/plain": [
       "(9.0, 0.48571428571428527)"
      ]
     },
     "execution_count": 9,
     "metadata": {},
     "output_type": "execute_result"
    }
   ],
   "source": [
    "stats.fisher_exact(esempio_Fisher)"
   ]
  },
  {
   "cell_type": "markdown",
   "metadata": {},
   "source": [
    "### Interpretazione\n",
    "\n",
    "Il test non riesce a rifiutare l'ipotesi nulla di indipendenza tra le due variabili dicotomiche e dunque non possiamo affermare che la signora Bristol abbia davvero l'abilità che dice di avere.\n",
    "\n",
    "I problemi sono:\n",
    "1. Troppo pochi conteggi implicano una potenza del test molto bassa;\n",
    "2. il *p*-value esatto del test di Fisher è conservativo.\n",
    "\n",
    "Per ovviare al secondo punto, possiamo ricorrere al *mid-p*-value, che è da molti considerato migliore di quello esatto in quanto meno conservativo:"
   ]
  },
  {
   "cell_type": "code",
   "execution_count": 10,
   "metadata": {},
   "outputs": [
    {
     "data": {
      "text/plain": [
       "0.2571428571428569"
      ]
     },
     "execution_count": 10,
     "metadata": {},
     "output_type": "execute_result"
    }
   ],
   "source": [
    "0.5 * pmf_situaz_cosi_estreme + pmf_situaz_piu_estreme"
   ]
  }
 ],
 "metadata": {
  "kernelspec": {
   "display_name": "Python 2",
   "language": "python",
   "name": "python2"
  },
  "language_info": {
   "codemirror_mode": {
    "name": "ipython",
    "version": 2
   },
   "file_extension": ".py",
   "mimetype": "text/x-python",
   "name": "python",
   "nbconvert_exporter": "python",
   "pygments_lexer": "ipython2",
   "version": "2.7.13"
  }
 },
 "nbformat": 4,
 "nbformat_minor": 2
}
