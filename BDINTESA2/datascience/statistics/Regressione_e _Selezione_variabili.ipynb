{
 "cells": [
  {
   "cell_type": "markdown",
   "metadata": {},
   "source": [
    "# Regressione multipla e selezione delle variabili\n",
    "\n",
    "## Regressione su dati continui\n",
    "\n",
    "- Abbiamo un dataset contenente attributi di 1057 abitazioni.\n",
    "- Siamo interessati a spiegare il prezzo in funzione di covariate quali l'area soggiorno, il numero di stanze da letto, il numero di bagni, il numero di camini, l'età della casa (da quanti anni è stata costruita).\n",
    "- **Steps**:\n",
    "\n",
    "    - Verifica della distribuzione della variabile di risposta ed eventuale trasformazione\n",
    "    - Fit del odello di regressione multipla\n",
    "    - Rapide diagnostiche di verifica delle assunzioni ed eventuali \"correzioni\"\n",
    "    - Intepretazione degli effetti\n",
    "    \n",
    "## Selezione variabili\n",
    "\n",
    "- Potrebbe essere fatta una selezione dei predittori da utilizzare per il modello di regressione?\n",
    "- Esempio di una procedura *step--wise* di tipo *backward*."
   ]
  },
  {
   "cell_type": "markdown",
   "metadata": {},
   "source": [
    "## Regressione su dati continui"
   ]
  },
  {
   "cell_type": "code",
   "execution_count": 1,
   "metadata": {},
   "outputs": [
    {
     "name": "stdout",
     "output_type": "stream",
     "text": [
      "Populating the interactive namespace from numpy and matplotlib\n"
     ]
    },
    {
     "name": "stderr",
     "output_type": "stream",
     "text": [
      "/Users/davidepassaretti/anaconda/lib/python2.7/site-packages/statsmodels/compat/pandas.py:56: FutureWarning: The pandas.core.datetools module is deprecated and will be removed in a future version. Please use the pandas.tseries module instead.\n",
      "  from pandas.core import datetools\n"
     ]
    }
   ],
   "source": [
    "%pylab inline\n",
    "\n",
    "import pandas as pd\n",
    "import seaborn as sb\n",
    "import statsmodels.api as sm"
   ]
  },
  {
   "cell_type": "code",
   "execution_count": 2,
   "metadata": {
    "collapsed": true
   },
   "outputs": [],
   "source": [
    "my_df = pd.read_csv('HousingPrices2010.csv')"
   ]
  },
  {
   "cell_type": "code",
   "execution_count": 3,
   "metadata": {},
   "outputs": [
    {
     "data": {
      "text/html": [
       "<div>\n",
       "<style>\n",
       "    .dataframe thead tr:only-child th {\n",
       "        text-align: right;\n",
       "    }\n",
       "\n",
       "    .dataframe thead th {\n",
       "        text-align: left;\n",
       "    }\n",
       "\n",
       "    .dataframe tbody tr th {\n",
       "        vertical-align: top;\n",
       "    }\n",
       "</style>\n",
       "<table border=\"1\" class=\"dataframe\">\n",
       "  <thead>\n",
       "    <tr style=\"text-align: right;\">\n",
       "      <th></th>\n",
       "      <th>Price</th>\n",
       "      <th>Living.Area</th>\n",
       "      <th>Bedrooms</th>\n",
       "      <th>Bathrooms</th>\n",
       "      <th>Fireplaces</th>\n",
       "      <th>Age</th>\n",
       "    </tr>\n",
       "  </thead>\n",
       "  <tbody>\n",
       "    <tr>\n",
       "      <th>0</th>\n",
       "      <td>142212</td>\n",
       "      <td>1982</td>\n",
       "      <td>3</td>\n",
       "      <td>1.0</td>\n",
       "      <td>0</td>\n",
       "      <td>133</td>\n",
       "    </tr>\n",
       "    <tr>\n",
       "      <th>1</th>\n",
       "      <td>134865</td>\n",
       "      <td>1676</td>\n",
       "      <td>3</td>\n",
       "      <td>1.5</td>\n",
       "      <td>1</td>\n",
       "      <td>14</td>\n",
       "    </tr>\n",
       "    <tr>\n",
       "      <th>2</th>\n",
       "      <td>118007</td>\n",
       "      <td>1694</td>\n",
       "      <td>3</td>\n",
       "      <td>2.0</td>\n",
       "      <td>1</td>\n",
       "      <td>15</td>\n",
       "    </tr>\n",
       "    <tr>\n",
       "      <th>3</th>\n",
       "      <td>138297</td>\n",
       "      <td>1800</td>\n",
       "      <td>2</td>\n",
       "      <td>1.0</td>\n",
       "      <td>2</td>\n",
       "      <td>49</td>\n",
       "    </tr>\n",
       "    <tr>\n",
       "      <th>4</th>\n",
       "      <td>129470</td>\n",
       "      <td>2088</td>\n",
       "      <td>3</td>\n",
       "      <td>1.0</td>\n",
       "      <td>1</td>\n",
       "      <td>29</td>\n",
       "    </tr>\n",
       "  </tbody>\n",
       "</table>\n",
       "</div>"
      ],
      "text/plain": [
       "    Price  Living.Area  Bedrooms  Bathrooms  Fireplaces  Age\n",
       "0  142212         1982         3        1.0           0  133\n",
       "1  134865         1676         3        1.5           1   14\n",
       "2  118007         1694         3        2.0           1   15\n",
       "3  138297         1800         2        1.0           2   49\n",
       "4  129470         2088         3        1.0           1   29"
      ]
     },
     "execution_count": 3,
     "metadata": {},
     "output_type": "execute_result"
    }
   ],
   "source": [
    "my_df.head()"
   ]
  },
  {
   "cell_type": "code",
   "execution_count": 4,
   "metadata": {
    "collapsed": true
   },
   "outputs": [],
   "source": [
    "y = my_df['Price']\n",
    "x = my_df.drop('Price', 1)\n",
    "x['constant'] = 1"
   ]
  },
  {
   "cell_type": "code",
   "execution_count": 5,
   "metadata": {},
   "outputs": [
    {
     "data": {
      "text/plain": [
       "(array([  17.,  101.,  289.,  236.,  172.,  114.,   60.,   26.,   18.,\n",
       "           9.,    1.,    7.,    4.,    0.,    3.]),\n",
       " array([  16858. ,   55714.2,   94570.4,  133426.6,  172282.8,  211139. ,\n",
       "         249995.2,  288851.4,  327707.6,  366563.8,  405420. ,  444276.2,\n",
       "         483132.4,  521988.6,  560844.8,  599701. ]),\n",
       " <a list of 15 Patch objects>)"
      ]
     },
     "execution_count": 5,
     "metadata": {},
     "output_type": "execute_result"
    },
    {
     "data": {
      "image/png": "[encoded data removed]",
      "text/plain": [
       "<matplotlib.figure.Figure at 0x11a373750>"
      ]
     },
     "metadata": {},
     "output_type": "display_data"
    }
   ],
   "source": [
    "plt.hist(y, 15)"
   ]
  },
  {
   "cell_type": "markdown",
   "metadata": {},
   "source": [
    "La variabile di risposta è decisamente asimmetrica. Potremmo già intervenire portandola su scala logaritmica."
   ]
  },
  {
   "cell_type": "code",
   "execution_count": 6,
   "metadata": {},
   "outputs": [
    {
     "data": {
      "text/plain": [
       "(array([   1.,    2.,    1.,    1.,   12.,   23.,   48.,  181.,  203.,\n",
       "         223.,  180.,  115.,   45.,   12.,   10.]),\n",
       " array([  9.7325806 ,   9.97068766,  10.20879472,  10.44690178,\n",
       "         10.68500883,  10.92311589,  11.16122295,  11.39933001,\n",
       "         11.63743707,  11.87554413,  12.11365118,  12.35175824,\n",
       "         12.5898653 ,  12.82797236,  13.06607942,  13.30418648]),\n",
       " <a list of 15 Patch objects>)"
      ]
     },
     "execution_count": 6,
     "metadata": {},
     "output_type": "execute_result"
    },
    {
     "data": {
      "image/png": "[encoded data removed]",
      "text/plain": [
       "<matplotlib.figure.Figure at 0x11a373510>"
      ]
     },
     "metadata": {},
     "output_type": "display_data"
    }
   ],
   "source": [
    "plt.hist(log(y), 15)"
   ]
  },
  {
   "cell_type": "markdown",
   "metadata": {},
   "source": [
    "Eseguiremo una trasformazione logaritmica della variabile Prezzo, pratica molto frequente in Econometria."
   ]
  },
  {
   "cell_type": "code",
   "execution_count": 7,
   "metadata": {},
   "outputs": [
    {
     "data": {
      "text/html": [
       "<table class=\"simpletable\">\n",
       "<caption>OLS Regression Results</caption>\n",
       "<tr>\n",
       "  <th>Dep. Variable:</th>        <td>Log.Price</td>    <th>  R-squared:         </th> <td>   0.601</td> \n",
       "</tr>\n",
       "<tr>\n",
       "  <th>Model:</th>                   <td>OLS</td>       <th>  Adj. R-squared:    </th> <td>   0.599</td> \n",
       "</tr>\n",
       "<tr>\n",
       "  <th>Method:</th>             <td>Least Squares</td>  <th>  F-statistic:       </th> <td>   316.3</td> \n",
       "</tr>\n",
       "<tr>\n",
       "  <th>Date:</th>             <td>Wed, 25 Oct 2017</td> <th>  Prob (F-statistic):</th> <td>1.15e-206</td>\n",
       "</tr>\n",
       "<tr>\n",
       "  <th>Time:</th>                 <td>09:28:50</td>     <th>  Log-Likelihood:    </th> <td> -150.09</td> \n",
       "</tr>\n",
       "<tr>\n",
       "  <th>No. Observations:</th>      <td>  1057</td>      <th>  AIC:               </th> <td>   312.2</td> \n",
       "</tr>\n",
       "<tr>\n",
       "  <th>Df Residuals:</th>          <td>  1051</td>      <th>  BIC:               </th> <td>   342.0</td> \n",
       "</tr>\n",
       "<tr>\n",
       "  <th>Df Model:</th>              <td>     5</td>      <th>                     </th>     <td> </td>    \n",
       "</tr>\n",
       "<tr>\n",
       "  <th>Covariance Type:</th>      <td>nonrobust</td>    <th>                     </th>     <td> </td>    \n",
       "</tr>\n",
       "</table>\n",
       "<table class=\"simpletable\">\n",
       "<tr>\n",
       "       <td></td>          <th>coef</th>     <th>std err</th>      <th>t</th>      <th>P>|t|</th>  <th>[0.025</th>    <th>0.975]</th>  \n",
       "</tr>\n",
       "<tr>\n",
       "  <th>Living.Area</th> <td>    0.0003</td> <td> 2.31e-05</td> <td>   14.007</td> <td> 0.000</td> <td>    0.000</td> <td>    0.000</td>\n",
       "</tr>\n",
       "<tr>\n",
       "  <th>Bedrooms</th>    <td>    0.0098</td> <td>    0.016</td> <td>    0.623</td> <td> 0.534</td> <td>   -0.021</td> <td>    0.041</td>\n",
       "</tr>\n",
       "<tr>\n",
       "  <th>Bathrooms</th>   <td>    0.1266</td> <td>    0.021</td> <td>    5.998</td> <td> 0.000</td> <td>    0.085</td> <td>    0.168</td>\n",
       "</tr>\n",
       "<tr>\n",
       "  <th>Fireplaces</th>  <td>    0.0899</td> <td>    0.018</td> <td>    4.893</td> <td> 0.000</td> <td>    0.054</td> <td>    0.126</td>\n",
       "</tr>\n",
       "<tr>\n",
       "  <th>Age</th>         <td>   -0.0020</td> <td>    0.000</td> <td>   -7.257</td> <td> 0.000</td> <td>   -0.003</td> <td>   -0.001</td>\n",
       "</tr>\n",
       "<tr>\n",
       "  <th>constant</th>    <td>   11.0724</td> <td>    0.042</td> <td>  263.241</td> <td> 0.000</td> <td>   10.990</td> <td>   11.155</td>\n",
       "</tr>\n",
       "</table>\n",
       "<table class=\"simpletable\">\n",
       "<tr>\n",
       "  <th>Omnibus:</th>       <td>133.423</td> <th>  Durbin-Watson:     </th> <td>   1.649</td> \n",
       "</tr>\n",
       "<tr>\n",
       "  <th>Prob(Omnibus):</th> <td> 0.000</td>  <th>  Jarque-Bera (JB):  </th> <td>1325.471</td> \n",
       "</tr>\n",
       "<tr>\n",
       "  <th>Skew:</th>          <td>-0.065</td>  <th>  Prob(JB):          </th> <td>1.51e-288</td>\n",
       "</tr>\n",
       "<tr>\n",
       "  <th>Kurtosis:</th>      <td> 8.484</td>  <th>  Cond. No.          </th> <td>9.89e+03</td> \n",
       "</tr>\n",
       "</table>"
      ],
      "text/plain": [
       "<class 'statsmodels.iolib.summary.Summary'>\n",
       "\"\"\"\n",
       "                            OLS Regression Results                            \n",
       "==============================================================================\n",
       "Dep. Variable:              Log.Price   R-squared:                       0.601\n",
       "Model:                            OLS   Adj. R-squared:                  0.599\n",
       "Method:                 Least Squares   F-statistic:                     316.3\n",
       "Date:                Wed, 25 Oct 2017   Prob (F-statistic):          1.15e-206\n",
       "Time:                        09:28:50   Log-Likelihood:                -150.09\n",
       "No. Observations:                1057   AIC:                             312.2\n",
       "Df Residuals:                    1051   BIC:                             342.0\n",
       "Df Model:                           5                                         \n",
       "Covariance Type:            nonrobust                                         \n",
       "===============================================================================\n",
       "                  coef    std err          t      P>|t|      [0.025      0.975]\n",
       "-------------------------------------------------------------------------------\n",
       "Living.Area     0.0003   2.31e-05     14.007      0.000       0.000       0.000\n",
       "Bedrooms        0.0098      0.016      0.623      0.534      -0.021       0.041\n",
       "Bathrooms       0.1266      0.021      5.998      0.000       0.085       0.168\n",
       "Fireplaces      0.0899      0.018      4.893      0.000       0.054       0.126\n",
       "Age            -0.0020      0.000     -7.257      0.000      -0.003      -0.001\n",
       "constant       11.0724      0.042    263.241      0.000      10.990      11.155\n",
       "==============================================================================\n",
       "Omnibus:                      133.423   Durbin-Watson:                   1.649\n",
       "Prob(Omnibus):                  0.000   Jarque-Bera (JB):             1325.471\n",
       "Skew:                          -0.065   Prob(JB):                    1.51e-288\n",
       "Kurtosis:                       8.484   Cond. No.                     9.89e+03\n",
       "==============================================================================\n",
       "\n",
       "Warnings:\n",
       "[1] Standard Errors assume that the covariance matrix of the errors is correctly specified.\n",
       "[2] The condition number is large, 9.89e+03. This might indicate that there are\n",
       "strong multicollinearity or other numerical problems.\n",
       "\"\"\""
      ]
     },
     "execution_count": 7,
     "metadata": {},
     "output_type": "execute_result"
    }
   ],
   "source": [
    "log_y = log(y)\n",
    "log_y.name = 'Log.Price'\n",
    "model = sm.OLS(log_y, x).fit()\n",
    "model.summary()"
   ]
  },
  {
   "cell_type": "markdown",
   "metadata": {},
   "source": [
    "**Seppure l'ipotesi di normalità dei residui non sembra essere verificata, l'inferenza parametrica sui coefficienti è ancora possibile in quanto la numerosità campionaria è abbastanza ampia da poter sfruttare il _Teorema del Limite Centrale_.**"
   ]
  },
  {
   "cell_type": "markdown",
   "metadata": {
    "collapsed": true
   },
   "source": [
    "### Test per l'assunzione di linearità\n",
    "\n",
    "Il Tuckey test di additività verifica se vi sia un pattern nei residui contro valori predetti. Per far ciò, aggiunge come ulteriore predittore della regressione stimata i valori predetti al quadrato. Nel caso tale predittore sia significativo, rifiutiamo l'ipotesi di linerità."
   ]
  },
  {
   "cell_type": "code",
   "execution_count": 8,
   "metadata": {},
   "outputs": [
    {
     "data": {
      "text/plain": [
       "0.57385851289285039"
      ]
     },
     "execution_count": 8,
     "metadata": {},
     "output_type": "execute_result"
    }
   ],
   "source": [
    "xtests = x.copy()\n",
    "\n",
    "xtests['fv2'] = model.fittedvalues**2\n",
    "sm.OLS(log_y, xtests).fit().pvalues[6]"
   ]
  },
  {
   "cell_type": "markdown",
   "metadata": {},
   "source": [
    "### Verifica dell'assunzione di non collinearità tra predittori (VIF)\n",
    "\n",
    "Il *Variance Inflation Factor* **(VIF)** fornisce uno score di quanto correlato sia un determinato predittore con tutti gli altri. Per far ciò, si calcola il reciproco del complemento a 1 del valore dell'R quadro calcolato sulla regressione avente come variabile di risposta il predittore in questione e come variabili indipendenti i predittori restanti. Un **VIF** superiore a 5 è già un campanello di allarme, superiore a 10 è critico."
   ]
  },
  {
   "cell_type": "code",
   "execution_count": 9,
   "metadata": {},
   "outputs": [
    {
     "name": "stdout",
     "output_type": "stream",
     "text": [
      "{'Predittore': 'Living.Area', 'VIF': 3.1557323307004839}\n",
      "{'Predittore': 'Bedrooms', 'VIF': 1.8520320399733798}\n",
      "{'Predittore': 'Bathrooms', 'VIF': 2.5423733748266488}\n",
      "{'Predittore': 'Fireplaces', 'VIF': 1.3809459885146618}\n",
      "{'Predittore': 'Age', 'VIF': 1.2703372801618498}\n"
     ]
    }
   ],
   "source": [
    "# VIF Living.Area\n",
    "print {'Predittore':'Living.Area', 'VIF' : 1 / (1 - sm.OLS(x['Living.Area'], x.drop('Living.Area', 1)).fit().rsquared)}\n",
    "\n",
    "# VIF Bedrooms\n",
    "print {'Predittore':'Bedrooms', 'VIF' : 1 / (1 - sm.OLS(x['Bedrooms'], x.drop('Bedrooms', 1)).fit().rsquared)}\n",
    "\n",
    "# VIF Bathrooms\n",
    "print {'Predittore':'Bathrooms', 'VIF' : 1 / (1 - sm.OLS(x['Bathrooms'], x.drop('Bathrooms', 1)).fit().rsquared)}\n",
    "\n",
    "# VIF Fireplaces\n",
    "print {'Predittore':'Fireplaces', 'VIF' : 1 / (1 - sm.OLS(x['Fireplaces'], x.drop('Fireplaces', 1)).fit().rsquared)}\n",
    "\n",
    "# VIF Age\n",
    "print {'Predittore':'Age', 'VIF' : 1 / (1 - sm.OLS(x['Age'], x.drop('Age', 1)).fit().rsquared)}"
   ]
  },
  {
   "cell_type": "markdown",
   "metadata": {},
   "source": [
    "### Ricerca di punti influenti\n",
    "\n",
    "Più che gli outliers (punti che hanno valori della variabile di risposta molto lontani dalla media), siamo interessati ai punti con un'alta *leverage*, cioè quei punti che influenzano criticamente le stime dei parametri. Per verificare se siano presenti, possiamo avvalerci della **Cook's distance**, ovvero una misura di distanza tra le stime ottenute includendo una determinata osservazione e quelle ottenute escludendola. I punti per cui tale distanza è maggiore di 1 sono critici. Verifichiamo la percentuale di punti che abbiano un valore di **Cook's distance** inferiore a 1 (vorremmo che sia il 100%)."
   ]
  },
  {
   "cell_type": "code",
   "execution_count": 10,
   "metadata": {},
   "outputs": [
    {
     "data": {
      "text/plain": [
       "100.0"
      ]
     },
     "execution_count": 10,
     "metadata": {},
     "output_type": "execute_result"
    }
   ],
   "source": [
    "np.mean(model.get_influence().cooks_distance[0] < 1) * 100"
   ]
  },
  {
   "cell_type": "markdown",
   "metadata": {},
   "source": [
    "### Test per l'assunzione di omoschedasticità\n",
    "\n",
    "Il test più completo per la verifica dell'omoschedasticità è quello di White (per certi versi migliore del noto test di Breusch-Pagan). Il test consiste nello stimare una regressione ausiliaria usando come variabile di risposta i residui quadratici del modello e come due variabili esplicative i valori predetti ed i valori predetti al quadrato: nel caso il test sulla bontà della regressione ausiliaria sia significativo, l'ipotesi nulla di omoschedasticità è rifiutata."
   ]
  },
  {
   "cell_type": "code",
   "execution_count": 11,
   "metadata": {},
   "outputs": [
    {
     "data": {
      "text/plain": [
       "1.8320307383285534e-34"
      ]
     },
     "execution_count": 11,
     "metadata": {},
     "output_type": "execute_result"
    }
   ],
   "source": [
    "# creo la variabile di risposta (residui al quadrato)\n",
    "res2 = model.resid**2\n",
    "\n",
    "# predittori\n",
    "df_fv = pd.DataFrame({ 'fv' : model.fittedvalues, 'fv2' : model.fittedvalues**2 })\n",
    "\n",
    "# ottengo il p-value del test\n",
    "sm.OLS(res2, df_fv).fit().f_pvalue"
   ]
  },
  {
   "cell_type": "markdown",
   "metadata": {},
   "source": [
    "**Dato che vi è eteroschedasticità, possiamo usare la correzione di White per ottenere standard errors e p-values.**"
   ]
  },
  {
   "cell_type": "markdown",
   "metadata": {},
   "source": [
    "### Re-fit del modello con correzione di White ed interpretazione dei coefficienti"
   ]
  },
  {
   "cell_type": "code",
   "execution_count": 12,
   "metadata": {},
   "outputs": [
    {
     "data": {
      "text/html": [
       "<table class=\"simpletable\">\n",
       "<caption>OLS Regression Results</caption>\n",
       "<tr>\n",
       "  <th>Dep. Variable:</th>        <td>Log.Price</td>    <th>  R-squared:         </th> <td>   0.601</td> \n",
       "</tr>\n",
       "<tr>\n",
       "  <th>Model:</th>                   <td>OLS</td>       <th>  Adj. R-squared:    </th> <td>   0.599</td> \n",
       "</tr>\n",
       "<tr>\n",
       "  <th>Method:</th>             <td>Least Squares</td>  <th>  F-statistic:       </th> <td>   276.4</td> \n",
       "</tr>\n",
       "<tr>\n",
       "  <th>Date:</th>             <td>Wed, 25 Oct 2017</td> <th>  Prob (F-statistic):</th> <td>1.03e-188</td>\n",
       "</tr>\n",
       "<tr>\n",
       "  <th>Time:</th>                 <td>09:28:51</td>     <th>  Log-Likelihood:    </th> <td> -150.09</td> \n",
       "</tr>\n",
       "<tr>\n",
       "  <th>No. Observations:</th>      <td>  1057</td>      <th>  AIC:               </th> <td>   312.2</td> \n",
       "</tr>\n",
       "<tr>\n",
       "  <th>Df Residuals:</th>          <td>  1051</td>      <th>  BIC:               </th> <td>   342.0</td> \n",
       "</tr>\n",
       "<tr>\n",
       "  <th>Df Model:</th>              <td>     5</td>      <th>                     </th>     <td> </td>    \n",
       "</tr>\n",
       "<tr>\n",
       "  <th>Covariance Type:</th>         <td>HC3</td>       <th>                     </th>     <td> </td>    \n",
       "</tr>\n",
       "</table>\n",
       "<table class=\"simpletable\">\n",
       "<tr>\n",
       "       <td></td>          <th>coef</th>     <th>std err</th>      <th>z</th>      <th>P>|z|</th>  <th>[0.025</th>    <th>0.975]</th>  \n",
       "</tr>\n",
       "<tr>\n",
       "  <th>Living.Area</th> <td>    0.0003</td> <td> 2.93e-05</td> <td>   11.027</td> <td> 0.000</td> <td>    0.000</td> <td>    0.000</td>\n",
       "</tr>\n",
       "<tr>\n",
       "  <th>Bedrooms</th>    <td>    0.0098</td> <td>    0.018</td> <td>    0.544</td> <td> 0.587</td> <td>   -0.026</td> <td>    0.045</td>\n",
       "</tr>\n",
       "<tr>\n",
       "  <th>Bathrooms</th>   <td>    0.1266</td> <td>    0.024</td> <td>    5.318</td> <td> 0.000</td> <td>    0.080</td> <td>    0.173</td>\n",
       "</tr>\n",
       "<tr>\n",
       "  <th>Fireplaces</th>  <td>    0.0899</td> <td>    0.020</td> <td>    4.559</td> <td> 0.000</td> <td>    0.051</td> <td>    0.129</td>\n",
       "</tr>\n",
       "<tr>\n",
       "  <th>Age</th>         <td>   -0.0020</td> <td>    0.001</td> <td>   -3.991</td> <td> 0.000</td> <td>   -0.003</td> <td>   -0.001</td>\n",
       "</tr>\n",
       "<tr>\n",
       "  <th>constant</th>    <td>   11.0724</td> <td>    0.049</td> <td>  226.684</td> <td> 0.000</td> <td>   10.977</td> <td>   11.168</td>\n",
       "</tr>\n",
       "</table>\n",
       "<table class=\"simpletable\">\n",
       "<tr>\n",
       "  <th>Omnibus:</th>       <td>133.423</td> <th>  Durbin-Watson:     </th> <td>   1.649</td> \n",
       "</tr>\n",
       "<tr>\n",
       "  <th>Prob(Omnibus):</th> <td> 0.000</td>  <th>  Jarque-Bera (JB):  </th> <td>1325.471</td> \n",
       "</tr>\n",
       "<tr>\n",
       "  <th>Skew:</th>          <td>-0.065</td>  <th>  Prob(JB):          </th> <td>1.51e-288</td>\n",
       "</tr>\n",
       "<tr>\n",
       "  <th>Kurtosis:</th>      <td> 8.484</td>  <th>  Cond. No.          </th> <td>9.89e+03</td> \n",
       "</tr>\n",
       "</table>"
      ],
      "text/plain": [
       "<class 'statsmodels.iolib.summary.Summary'>\n",
       "\"\"\"\n",
       "                            OLS Regression Results                            \n",
       "==============================================================================\n",
       "Dep. Variable:              Log.Price   R-squared:                       0.601\n",
       "Model:                            OLS   Adj. R-squared:                  0.599\n",
       "Method:                 Least Squares   F-statistic:                     276.4\n",
       "Date:                Wed, 25 Oct 2017   Prob (F-statistic):          1.03e-188\n",
       "Time:                        09:28:51   Log-Likelihood:                -150.09\n",
       "No. Observations:                1057   AIC:                             312.2\n",
       "Df Residuals:                    1051   BIC:                             342.0\n",
       "Df Model:                           5                                         \n",
       "Covariance Type:                  HC3                                         \n",
       "===============================================================================\n",
       "                  coef    std err          z      P>|z|      [0.025      0.975]\n",
       "-------------------------------------------------------------------------------\n",
       "Living.Area     0.0003   2.93e-05     11.027      0.000       0.000       0.000\n",
       "Bedrooms        0.0098      0.018      0.544      0.587      -0.026       0.045\n",
       "Bathrooms       0.1266      0.024      5.318      0.000       0.080       0.173\n",
       "Fireplaces      0.0899      0.020      4.559      0.000       0.051       0.129\n",
       "Age            -0.0020      0.001     -3.991      0.000      -0.003      -0.001\n",
       "constant       11.0724      0.049    226.684      0.000      10.977      11.168\n",
       "==============================================================================\n",
       "Omnibus:                      133.423   Durbin-Watson:                   1.649\n",
       "Prob(Omnibus):                  0.000   Jarque-Bera (JB):             1325.471\n",
       "Skew:                          -0.065   Prob(JB):                    1.51e-288\n",
       "Kurtosis:                       8.484   Cond. No.                     9.89e+03\n",
       "==============================================================================\n",
       "\n",
       "Warnings:\n",
       "[1] Standard Errors are heteroscedasticity robust (HC3)\n",
       "[2] The condition number is large, 9.89e+03. This might indicate that there are\n",
       "strong multicollinearity or other numerical problems.\n",
       "\"\"\""
      ]
     },
     "execution_count": 12,
     "metadata": {},
     "output_type": "execute_result"
    }
   ],
   "source": [
    "sm.OLS(log_y, x).fit(cov_type='HC3').summary()"
   ]
  },
  {
   "cell_type": "markdown",
   "metadata": {},
   "source": [
    "Iniziamo con il ricordare che la variabile di risposta (il prezzo) è espressa su scala logaritmica, quindi l'interpretazione su scala originaria farà riferimento ad un modello log-lineare.\n",
    "\n",
    "**_Avendo a che fare con una regressione multipla, la relazione tra un determinato predittore e la variabile di risposta va interpretata tenendo costanti i restanti predittori._**\n",
    "\n",
    "La costante  è difficilmente interpretabile, seppure risulti significativamente diversa da zero: 11.07 dovrebbe essere il logaritmo del prezzo di una casa nuova (**Age** = 0) nel caso in cui non vi sia un'area soggiorno, né bagni, né camere da letto, né camini. Esiste una casa così?\n",
    "\n",
    "La variabile **Bedrooms**, la quale conta il numero di camere da letto, non ha un effetto significativo sulla variazione di prezzo, mantenendo costanti gli altri predittori.\n",
    "\n",
    "La variabile **Living.Area**, la quale esprime il numero di piedi quadrati dell'area soggiorno, ha un effetto positivo sul prezzo: ad un aumento di un piede quadro del soggiorno corrisponde un aumento medio di 0.0003 del logaritmo del prezzo. Sulla scala iniziale, ciò vale a dire che un per un aumento di un piede quadro il prezzo aumenta in media di un fattore pari a exp(0.0003) = 1.0003, cioè dello 0.3%.\n",
    "\n",
    "La variabile **Bathrooms**, la quale esprime il numero di bagni, ha un effetto positivo sul prezzo: ad un bagno in più corrisponde un aumento medio di 0.1266 del logaritmo del prezzo. Sulla scala iniziale, ciò vale a dire che un per un bagno in più il prezzo aumenta in media di un fattore pari a exp(0.1266) = 1.1350, cioè del 13.50%.\n",
    "\n",
    "La variabile **Fireplaces**, la quale esprime il numero di camini, ha un effetto positivo sul prezzo: ad un camino in più corrisponde un aumento medio di 0.0899 del logaritmo del prezzo. Sulla scala iniziale, ciò vale a dire che un per un camino in più il prezzo aumenta in media di un fattore pari a exp(0.0899) = 1.0941, cioè del 9.41%.\n",
    "\n",
    "La variabile **Age**, la quale esprime l'età in anni della casa, ha un effetto negativo sul prezzo: ad un anno in più corrisponde un decremento medio di 0.0020 del logaritmo del prezzo. Sulla scala iniziale, ciò vale a dire che un per un anno in più il prezzo diminuisce in media di un fattore pari a exp(-0.0020) = 0.9980, cioè dello 0.20%."
   ]
  },
  {
   "cell_type": "markdown",
   "metadata": {},
   "source": [
    "## Backward step-wise variable selection"
   ]
  },
  {
   "cell_type": "markdown",
   "metadata": {},
   "source": [
    "### Funzione"
   ]
  },
  {
   "cell_type": "code",
   "execution_count": 13,
   "metadata": {
    "collapsed": true
   },
   "outputs": [],
   "source": [
    "def backward(y, x):\n",
    "    \n",
    "    bic_ = sm.OLS(y, x).fit().bic\n",
    "    da_eliminare = ''\n",
    "    \n",
    "    for nome in x.columns:\n",
    "        x_sub = x.drop(nome, 1)\n",
    "        bic_nuovo = sm.OLS(y, x_sub).fit().bic\n",
    "        if bic_nuovo < bic_:\n",
    "            bic_ = bic_nuovo\n",
    "            da_eliminare = nome\n",
    "            \n",
    "    return {'Predittore da scartare': da_eliminare}"
   ]
  },
  {
   "cell_type": "markdown",
   "metadata": {},
   "source": [
    "### Step 1"
   ]
  },
  {
   "cell_type": "code",
   "execution_count": 14,
   "metadata": {},
   "outputs": [
    {
     "data": {
      "text/plain": [
       "{'Predittore da scartare': 'Bedrooms'}"
      ]
     },
     "execution_count": 14,
     "metadata": {},
     "output_type": "execute_result"
    }
   ],
   "source": [
    "backward(log_y, x)"
   ]
  },
  {
   "cell_type": "markdown",
   "metadata": {},
   "source": [
    "### Step 2"
   ]
  },
  {
   "cell_type": "code",
   "execution_count": 15,
   "metadata": {},
   "outputs": [
    {
     "data": {
      "text/plain": [
       "{'Predittore da scartare': ''}"
      ]
     },
     "execution_count": 15,
     "metadata": {},
     "output_type": "execute_result"
    }
   ],
   "source": [
    "backward(log_y, x.drop('Bedrooms', 1))"
   ]
  }
 ],
 "metadata": {
  "kernelspec": {
   "display_name": "Python 2",
   "language": "python",
   "name": "python2"
  },
  "language_info": {
   "codemirror_mode": {
    "name": "ipython",
    "version": 2
   },
   "file_extension": ".py",
   "mimetype": "text/x-python",
   "name": "python",
   "nbconvert_exporter": "python",
   "pygments_lexer": "ipython2",
   "version": "2.7.13"
  }
 },
 "nbformat": 4,
 "nbformat_minor": 2
}
