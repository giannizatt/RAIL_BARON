{
 "cells": [
  {
   "cell_type": "markdown",
   "metadata": {},
   "source": [
    "# Python - Parte 1"
   ]
  },
  {
   "cell_type": "markdown",
   "metadata": {},
   "source": [
    "## PIP\n",
    "\n",
    "Pip (Pip Installs Packages) è il package manager di Python, viene utilizzato per gestire e installare i pacchetti Python all'interno del sistema. Per installare un pacchetto sarà sufficiente utilizzare il comando **pip install**:\n",
    "\n",
    "    pip install PACKAGE-NAME\n",
    "\n",
    "Questo comando installerà sul vostro computer il pacchetto ``PACKAGE-NAME``. Dopo l'installazione sarà disponibile insieme a tutte le altre librerie precedentemente installate. Come utilizzarle? vedi dopo :)\n",
    "\n",
    "Dal terminale, provate **pip --help** per vedere cosa è possibile fare con pip!\n",
    "\n",
    "\n",
    "## Virtual Environments\n",
    "\n",
    "VirtualEnv è un tool Python usato per gestire le diverse dipendenze richieste da progetti Python separati ma installati sulla stessa macchina. Risolve il dilemma \"Il Progetto X utilizza la versione 1.x, ma il Progetto Y necessita la versione 3.x\". Mantiene i requisiti dei differenti progetti in cartelle differenti.\n",
    "\n",
    "Come Installare VirtualeEnv:\n",
    "\n",
    "    pip install virtualenv\n",
    "\n",
    "Come Creare un VirtualeEnv:\n",
    "\n",
    "    virtualenv ENV-NAME\n",
    "\n",
    "Dopo la creazione, bisogna attivare il VirtualEnv:\n",
    "\n",
    "    source ENV-NAME/bin/activate\n",
    "\n",
    "Attenzione! Se il VirtualEnv si è attivato correttamente, vedrete all'inizio del terminale il nome del VirtualEnv fra parentesi. Ecco un esempio:\n",
    "\n",
    "    alexcomu-pc:bigdive alexcomu: virtualenv envBigDive\n",
    "    New python executable in envBigDive/bin/python\n",
    "    Installing setuptools, pip, wheel...done.\n",
    "    alexcomu-pc:bigdive alexcomu: source envBigDive/bin/activate\n",
    "    (envBigDive)alexcomu-pc:bigdive alexcomu:\n",
    "\n",
    "Da ora in avanti, qualsiasi pacchetto verrà installato in questa sessione verrà installato all'interno di questo virtual environment.\n",
    "\n",
    "Per maggiori informazioni clicca [QUI](https://virtualenv.pypa.io/en/stable/)\n",
    "\n",
    "\n",
    "## Anaconda Suite\n",
    "\n",
    "Durante le lezioni non utilizzeremo nè VirtualEnv nè PIP per la gestione dei pacchetti. Le macchine virtuali che utilizzerete sono già installate e configurate con la suite Anaconda per Python2. In questa suite sono già preinstallati la maggior parte dei pacchetti Python che andremo a utilizzare. Per maggiori informazioni clicca [QUI](https://docs.anaconda.com/anaconda/)\n",
    "\n",
    "\n",
    "## Jupyter Notebook\n",
    "\n",
    "IPython Notebook è un sistema interattivo che permette, grazie a una combinazione di diverse funzionalità, di scrivere e eseguire direttamente tramite un interfaccia Web codice Python.\n",
    "\n",
    "[Link to IPython Notebook](https://ipython.org/notebook.html)\n",
    "\n",
    "Jupyter Notebook è gia preinstallato insieme alla suite Anaconda. Per installarlo manualmente:\n",
    "\n",
    "    pip install jupyter\n",
    "\n",
    "Per far partire il notebook (all'interno del teminale, nella cartella che desideriamo aprire):\n",
    "\n",
    "    jupyter notebook\n",
    "\n",
    "\n",
    "# Terminale Linux\n",
    "\n",
    "Siccome utilizzeremo il terminale Linux durante le lezione, è caldamente consigliato un ripasso dei comandi principali per muoversi, copiare&incollare, scrivere all'interno del terminale Linux.\n",
    "\n",
    "[Learning Command Line](http://linuxcommand.org/index.php)\n",
    "\n",
    "\n",
    "# How To Write MarkDown\n",
    "\n",
    "MarkDown è il linguaggio utilizzare per scrivere documentazione. Questa piccola parte introduttiva è scritta in MarkDown. Qui sotto due link per introdurvi al linguaggio.\n",
    "\n",
    "[Markdown-Cheatsheet Sample1](https://github.com/adam-p/markdown-here/wiki/Markdown-Cheatsheet)\n",
    "\n",
    "[Markdown-Cheatsheet Sample2](http://assemble.io/docs/Cheatsheet-Markdown.html)\n",
    "\n",
    "\n",
    "# Python Tutorials:\n",
    "\n",
    "[Google's Python Class](https://developers.google.com/edu/python/)\n",
    "\n",
    "[CodeCademy Tutorial](https://www.codecademy.com/learn)"
   ]
  },
  {
   "cell_type": "markdown",
   "metadata": {},
   "source": [
    "## Basic commands\n",
    "\n"
   ]
  },
  {
   "cell_type": "code",
   "execution_count": 7,
   "metadata": {},
   "outputs": [
    {
     "name": "stdout",
     "output_type": "stream",
     "text": [
      "Hello World!\n"
     ]
    }
   ],
   "source": [
    "print \"Hello World!\""
   ]
  },
  {
   "cell_type": "code",
   "execution_count": 8,
   "metadata": {},
   "outputs": [
    {
     "data": {
      "text/plain": [
       "'\\nCommento \\nsu \\npiu \\nrighe!\\n'"
      ]
     },
     "execution_count": 8,
     "metadata": {},
     "output_type": "execute_result"
    }
   ],
   "source": [
    "# commento semplice\n",
    "'''\n",
    "Commento \n",
    "su \n",
    "piu \n",
    "righe!\n",
    "'''"
   ]
  },
  {
   "cell_type": "code",
   "execution_count": 9,
   "metadata": {},
   "outputs": [
    {
     "name": "stdout",
     "output_type": "stream",
     "text": [
      "['__abs__', '__add__', '__and__', '__class__', '__cmp__', '__coerce__', '__delattr__', '__div__', '__divmod__', '__doc__', '__float__', '__floordiv__', '__format__', '__getattribute__', '__getnewargs__', '__hash__', '__hex__', '__index__', '__init__', '__int__', '__invert__', '__long__', '__lshift__', '__mod__', '__mul__', '__neg__', '__new__', '__nonzero__', '__oct__', '__or__', '__pos__', '__pow__', '__radd__', '__rand__', '__rdiv__', '__rdivmod__', '__reduce__', '__reduce_ex__', '__repr__', '__rfloordiv__', '__rlshift__', '__rmod__', '__rmul__', '__ror__', '__rpow__', '__rrshift__', '__rshift__', '__rsub__', '__rtruediv__', '__rxor__', '__setattr__', '__sizeof__', '__str__', '__sub__', '__subclasshook__', '__truediv__', '__trunc__', '__xor__', 'bit_length', 'conjugate', 'denominator', 'imag', 'numerator', 'real']\n"
     ]
    }
   ],
   "source": [
    "var = 1\n",
    "print dir(var)  #stampa tutti i metodi della variabile"
   ]
  },
  {
   "cell_type": "code",
   "execution_count": 10,
   "metadata": {},
   "outputs": [
    {
     "name": "stdout",
     "output_type": "stream",
     "text": [
      "['__add__', '__class__', '__contains__', '__delattr__', '__doc__', '__eq__', '__format__', '__ge__', '__getattribute__', '__getitem__', '__getnewargs__', '__getslice__', '__gt__', '__hash__', '__init__', '__le__', '__len__', '__lt__', '__mod__', '__mul__', '__ne__', '__new__', '__reduce__', '__reduce_ex__', '__repr__', '__rmod__', '__rmul__', '__setattr__', '__sizeof__', '__str__', '__subclasshook__', '_formatter_field_name_split', '_formatter_parser', 'capitalize', 'center', 'count', 'decode', 'encode', 'endswith', 'expandtabs', 'find', 'format', 'index', 'isalnum', 'isalpha', 'isdigit', 'islower', 'isspace', 'istitle', 'isupper', 'join', 'ljust', 'lower', 'lstrip', 'partition', 'replace', 'rfind', 'rindex', 'rjust', 'rpartition', 'rsplit', 'rstrip', 'split', 'splitlines', 'startswith', 'strip', 'swapcase', 'title', 'translate', 'upper', 'zfill']\n"
     ]
    }
   ],
   "source": [
    "my_string = \"Hello World\"\n",
    "print dir(my_string)"
   ]
  },
  {
   "cell_type": "markdown",
   "metadata": {},
   "source": [
    "## LE STRINGHE"
   ]
  },
  {
   "cell_type": "code",
   "execution_count": 11,
   "metadata": {},
   "outputs": [
    {
     "name": "stdout",
     "output_type": "stream",
     "text": [
      "questa è una stringa\n"
     ]
    }
   ],
   "source": [
    "stringa = \"questa è una stringa\"\n",
    "print stringa"
   ]
  },
  {
   "cell_type": "code",
   "execution_count": 12,
   "metadata": {},
   "outputs": [
    {
     "name": "stdout",
     "output_type": "stream",
     "text": [
      "Class Type: \t<type 'str'>\n"
     ]
    }
   ],
   "source": [
    "print \"Class Type: \\t\", stringa.__class__\n"
   ]
  },
  {
   "cell_type": "markdown",
   "metadata": {},
   "source": [
    "Funzioni di conversione del caso"
   ]
  },
  {
   "cell_type": "code",
   "execution_count": 13,
   "metadata": {},
   "outputs": [
    {
     "name": "stdout",
     "output_type": "stream",
     "text": [
      "questa è una stringa\n",
      "QUESTA è UNA STRINGA\n",
      "Questa è una stringa\n"
     ]
    }
   ],
   "source": [
    "print stringa.lower() #tutto minuscolo\n",
    "print stringa.upper() #tutto maiuscolo\n",
    "print stringa.capitalize() # solo la prima lettera maiuscola"
   ]
  },
  {
   "cell_type": "markdown",
   "metadata": {},
   "source": [
    "Funzioni predicato"
   ]
  },
  {
   "cell_type": "code",
   "execution_count": 14,
   "metadata": {},
   "outputs": [
    {
     "name": "stdout",
     "output_type": "stream",
     "text": [
      "True\n",
      "True\n",
      "False\n",
      "True\n",
      "True\n"
     ]
    }
   ],
   "source": [
    "stringa1 = \"this is a string\"\n",
    "print stringa1.islower() #controlla se tutte le lettere sono minuscole\n",
    "stringa2 = \"ALL CAPITAL\"\n",
    "print stringa2.isupper() #contrlla se tutte le lettere sono maiuscole\n",
    "print stringa2.islower()\n",
    "stringa3 = \"tuttiicaratterisonoalfabetici\" #controlla se tutti i caratteri sono alfabetici a-z A-Z\n",
    "print stringa3.isalpha()\n",
    "stringa4 = \"123242341\"\n",
    "print stringa4.isdigit() #controlla se tutti i caratteri sono cifre\n"
   ]
  },
  {
   "cell_type": "markdown",
   "metadata": {},
   "source": [
    "Stringhe come array"
   ]
  },
  {
   "cell_type": "code",
   "execution_count": 15,
   "metadata": {},
   "outputs": [
    {
     "name": "stdout",
     "output_type": "stream",
     "text": [
      "u\n",
      "una\n",
      "una\n",
      "stringa\n"
     ]
    }
   ],
   "source": [
    "stringa5 = \"una stringa è anche un array\"\n",
    "print stringa5[0]\n",
    "print stringa5[0:3]\n",
    "print stringa5[:3]\n",
    "print stringa5[4:11]"
   ]
  },
  {
   "cell_type": "markdown",
   "metadata": {},
   "source": [
    "Manipolare le stringhe "
   ]
  },
  {
   "cell_type": "code",
   "execution_count": 16,
   "metadata": {},
   "outputs": [
    {
     "name": "stdout",
     "output_type": "stream",
     "text": [
      "Hello World!\n",
      "Hello World!\n",
      "Hello World!\n",
      "Hello World!\n"
     ]
    }
   ],
   "source": [
    "stringa6 = \"Hello\"\n",
    "print stringa6.__add__(\" World!\")\n",
    "hello = \"Hello\"\n",
    "world = \"World!\"\n",
    "print hello + \" \" + world\n",
    "print hello,world\n",
    "print \" \".join([hello,world])"
   ]
  },
  {
   "cell_type": "code",
   "execution_count": 17,
   "metadata": {},
   "outputs": [
    {
     "name": "stdout",
     "output_type": "stream",
     "text": [
      "    in questa stringa ci sono spazi prima e dopo    \n"
     ]
    }
   ],
   "source": [
    "stringa7 = \"    in questa stringa ci sono spazi prima e dopo    \"\n",
    "print stringa7"
   ]
  },
  {
   "cell_type": "code",
   "execution_count": 18,
   "metadata": {},
   "outputs": [
    {
     "name": "stdout",
     "output_type": "stream",
     "text": [
      "in questa stringa ci sono spazi prima e dopo    \n",
      "    in questa stringa ci sono spazi prima e dopo\n",
      "in questa stringa ci sono spazi prima e dopo\n"
     ]
    }
   ],
   "source": [
    "print stringa7.lstrip() #rimuove gli spazi a sx\n",
    "print stringa7.rstrip() #rimuove gli spazi a dx\n",
    "stringa_pulita = stringa7.lstrip()\n",
    "stringa_pulita = stringa_pulita.rstrip()\n",
    "print stringa_pulita"
   ]
  },
  {
   "cell_type": "markdown",
   "metadata": {},
   "source": [
    "Suddividere una stringa in sottostringhe sulla base di delimitatori\n"
   ]
  },
  {
   "cell_type": "code",
   "execution_count": 19,
   "metadata": {},
   "outputs": [
    {
     "name": "stdout",
     "output_type": "stream",
     "text": [
      "['www', 'top-ix', 'org']\n",
      "['www', 'top-ix', 'org']\n",
      "['WWW', 'TOP-IX', 'ORG']\n"
     ]
    }
   ],
   "source": [
    "stringa8 = \"www.top-ix.org\"\n",
    "print stringa8.split(\".\") #usa il punto come delimitatore e restituisce sottostringhe\n",
    "stringa8 = \"www top-ix org\"\n",
    "print stringa8.split(\" \") #qui invece il delimitatore è lo spazio\n",
    "stringa8 = \"WWW    TOP-IX             ORG\"\n",
    "print stringa8.split() #usando .split senza esplicitare il delimitatore, le stringhe vengono raggruppate sulla base degli spazi\n",
    " "
   ]
  },
  {
   "cell_type": "markdown",
   "metadata": {},
   "source": [
    "Collegare più stringhe"
   ]
  },
  {
   "cell_type": "code",
   "execution_count": 20,
   "metadata": {},
   "outputs": [
    {
     "name": "stdout",
     "output_type": "stream",
     "text": [
      "questa_è_la_nuova_stringa\n",
      "questa è la nuova stringa\n"
     ]
    }
   ],
   "source": [
    "print \"_\".join([\"questa\",\"è\",\"la\",\"nuova\",\"stringa\"]) #la funzione join unisce usando il delimitatore indicato\n",
    "stringa8 = \" \".join([\"questa\",\"è\",\"la\",\"nuova\",\"stringa\"]) #la funzione join unisce usando il delimitatore indicato\n",
    "print stringa8"
   ]
  },
  {
   "cell_type": "markdown",
   "metadata": {},
   "source": [
    "<b>Ecco un possibile modo per togliere gli spazi interni da una stringa</b>"
   ]
  },
  {
   "cell_type": "code",
   "execution_count": 21,
   "metadata": {},
   "outputs": [
    {
     "name": "stdout",
     "output_type": "stream",
     "text": [
      "in_questa_stringa_ci_sono_molt_i_spazi_a_ca_so\n",
      "inquestastringacisonomoltispaziacaso\n"
     ]
    }
   ],
   "source": [
    "stringa9 = \"in questa stringa ci sono     molt i spazi     a  ca  so\"\n",
    "stringa_senza_spazi = \"_\".join(stringa9.split())\n",
    "print stringa_senza_spazi\n",
    "stringa_senza_spazi = \"\".join(stringa9.split())\n",
    "print stringa_senza_spazi"
   ]
  },
  {
   "cell_type": "markdown",
   "metadata": {},
   "source": [
    "Acquisire informazioni dalle stringhe"
   ]
  },
  {
   "cell_type": "code",
   "execution_count": 22,
   "metadata": {},
   "outputs": [
    {
     "name": "stdout",
     "output_type": "stream",
     "text": [
      "35\n",
      "12\n",
      "b\n",
      "-1\n",
      "1\n",
      "2\n",
      "0\n"
     ]
    }
   ],
   "source": [
    "stringa10 = \"Oggi è una bella giornata di sole!\"\n",
    "print len(stringa10) #len(str) restituisce la lunghezza della stringa\n",
    "print stringa10.find(\"bella\") #find restituisce l'indice in cui inizia la stringa cercata\n",
    "print stringa10[12]\n",
    "print stringa10.find(\"NoN\") #oppure -1 se non trova la stringa\n",
    "print stringa10.count(\"sole\") #conta il numero di occorrenze della stringa indicata\n",
    "print stringa10.count(\"e\") \n",
    "print stringa10.count(\"SOLE\") #ed è case-sensitive\n"
   ]
  },
  {
   "cell_type": "markdown",
   "metadata": {},
   "source": [
    "## COLLEZIONI: tuple, liste, set e dizionari\n",
    "\n",
    "Le **liste** sono di fatto degli array con un tempo di ricerca lineare (il che li rende poco adatti per memorizzare dati di grandi dimensioni. \n",
    "\n",
    "Le **tuple** sono liste immutabili (una volta create non possono più essere modificate, anche esse hanno un tempo di ricerca lineare. \n",
    "\n",
    "I **set** invece non sono sequenze, cioè gli elementi di un set non hanno un indice. I set possono memorizzare al massimo una coppia di ogni elemento ed hanno un tempo di ricerca sub-lineare. Sono quindi molto indicati per la rimozione dei duplicati. \n",
    "\n",
    "I **dizionari** creano una mappa fra chiave e valore. Anche i dizionari hanno un tempo di ricerca sublineare."
   ]
  },
  {
   "cell_type": "markdown",
   "metadata": {},
   "source": [
    "### TUPLE"
   ]
  },
  {
   "cell_type": "code",
   "execution_count": 23,
   "metadata": {},
   "outputs": [
    {
     "name": "stdout",
     "output_type": "stream",
     "text": [
      "<type 'tuple'>\n",
      "['__add__', '__class__', '__contains__', '__delattr__', '__doc__', '__eq__', '__format__', '__ge__', '__getattribute__', '__getitem__', '__getnewargs__', '__getslice__', '__gt__', '__hash__', '__init__', '__iter__', '__le__', '__len__', '__lt__', '__mul__', '__ne__', '__new__', '__reduce__', '__reduce_ex__', '__repr__', '__rmul__', '__setattr__', '__sizeof__', '__str__', '__subclasshook__', 'count', 'index']\n",
      "\n",
      "1\n"
     ]
    }
   ],
   "source": [
    "myTuple = () #una tupla vuota\n",
    "print type(myTuple)\n",
    "myTuple = ('a',)\n",
    "print dir(myTuple)\n",
    "print\n",
    "print len(myTuple)"
   ]
  },
  {
   "cell_type": "markdown",
   "metadata": {},
   "source": [
    "### LISTE"
   ]
  },
  {
   "cell_type": "code",
   "execution_count": 24,
   "metadata": {},
   "outputs": [
    {
     "name": "stdout",
     "output_type": "stream",
     "text": [
      "<type 'list'>\n"
     ]
    }
   ],
   "source": [
    "myList = []\n",
    "print type(myList)"
   ]
  },
  {
   "cell_type": "code",
   "execution_count": 25,
   "metadata": {},
   "outputs": [
    {
     "name": "stdout",
     "output_type": "stream",
     "text": [
      "['__add__', '__class__', '__contains__', '__delattr__', '__delitem__', '__delslice__', '__doc__', '__eq__', '__format__', '__ge__', '__getattribute__', '__getitem__', '__getslice__', '__gt__', '__hash__', '__iadd__', '__imul__', '__init__', '__iter__', '__le__', '__len__', '__lt__', '__mul__', '__ne__', '__new__', '__reduce__', '__reduce_ex__', '__repr__', '__reversed__', '__rmul__', '__setattr__', '__setitem__', '__setslice__', '__sizeof__', '__str__', '__subclasshook__', 'append', 'count', 'extend', 'index', 'insert', 'pop', 'remove', 'reverse', 'sort']\n"
     ]
    }
   ],
   "source": [
    "print dir(myList)"
   ]
  },
  {
   "cell_type": "code",
   "execution_count": 26,
   "metadata": {},
   "outputs": [
    {
     "name": "stdout",
     "output_type": "stream",
     "text": [
      "[1, 2]\n"
     ]
    }
   ],
   "source": [
    "myList = []\n",
    "myList.append(1)\n",
    "myList.append(2)\n",
    "print myList\n"
   ]
  },
  {
   "cell_type": "code",
   "execution_count": 27,
   "metadata": {},
   "outputs": [
    {
     "name": "stdout",
     "output_type": "stream",
     "text": [
      "[1, 'a']\n"
     ]
    }
   ],
   "source": [
    "myList = []\n",
    "myList.append(1)\n",
    "myList.append('a')\n",
    "print myList"
   ]
  },
  {
   "cell_type": "code",
   "execution_count": 28,
   "metadata": {},
   "outputs": [
    {
     "name": "stdout",
     "output_type": "stream",
     "text": [
      "[1, 1, 1, 1, 1, 1, 1, 1, 1, 1]\n"
     ]
    }
   ],
   "source": [
    "myList = []\n",
    "myList = [1]*10\n",
    "print myList"
   ]
  },
  {
   "cell_type": "code",
   "execution_count": 29,
   "metadata": {},
   "outputs": [
    {
     "name": "stdout",
     "output_type": "stream",
     "text": [
      "[1, 2, 3, 4, 5, 6, 7, 8, 'a', 'ciao']\n"
     ]
    }
   ],
   "source": [
    "myList = [1,2,3,4,5,6,7,8,'a','ciao']\n",
    "print myList"
   ]
  },
  {
   "cell_type": "code",
   "execution_count": 30,
   "metadata": {},
   "outputs": [
    {
     "name": "stdout",
     "output_type": "stream",
     "text": [
      "ciao\n"
     ]
    }
   ],
   "source": [
    "print myList[9]"
   ]
  },
  {
   "cell_type": "code",
   "execution_count": 31,
   "metadata": {},
   "outputs": [
    {
     "name": "stdout",
     "output_type": "stream",
     "text": [
      "Alex - john - Joe\n"
     ]
    }
   ],
   "source": [
    "l = ['Alex', 'john', 'Joe']\n",
    "print \" - \".join(l)"
   ]
  },
  {
   "cell_type": "markdown",
   "metadata": {},
   "source": [
    "### SET"
   ]
  },
  {
   "cell_type": "code",
   "execution_count": 32,
   "metadata": {},
   "outputs": [
    {
     "name": "stdout",
     "output_type": "stream",
     "text": [
      "\n",
      "set(['i', 'a', 'c', 'o'])\n",
      "\n",
      "<type 'set'>\n",
      "\n",
      "4\n",
      "\n",
      "['__and__', '__class__', '__cmp__', '__contains__', '__delattr__', '__doc__', '__eq__', '__format__', '__ge__', '__getattribute__', '__gt__', '__hash__', '__iand__', '__init__', '__ior__', '__isub__', '__iter__', '__ixor__', '__le__', '__len__', '__lt__', '__ne__', '__new__', '__or__', '__rand__', '__reduce__', '__reduce_ex__', '__repr__', '__ror__', '__rsub__', '__rxor__', '__setattr__', '__sizeof__', '__str__', '__sub__', '__subclasshook__', '__xor__', 'add', 'clear', 'copy', 'difference', 'difference_update', 'discard', 'intersection', 'intersection_update', 'isdisjoint', 'issubset', 'issuperset', 'pop', 'remove', 'symmetric_difference', 'symmetric_difference_update', 'union', 'update']\n"
     ]
    }
   ],
   "source": [
    "myString = \"ciao\"\n",
    "mySet = set(myString)   #qui sto convertendo una stringa in un set\n",
    "print\n",
    "print mySet\n",
    "print\n",
    "print type(mySet)\n",
    "print\n",
    "print len(mySet)\n",
    "print\n",
    "print dir(mySet)"
   ]
  },
  {
   "cell_type": "code",
   "execution_count": 33,
   "metadata": {},
   "outputs": [
    {
     "name": "stdout",
     "output_type": "stream",
     "text": [
      "set(['a', ' ', 'c', 'e', 'd', 'g', 'i', 'm', 'l', 'o', 'n', 'q', 'p', 's', 'r', 'u', 't'])\n"
     ]
    }
   ],
   "source": [
    "mySet = set(\"in questa stringa ci sono molti duplicati\")\n",
    "print mySet #convertendo la stringa/lista in set rimuovo i duplicati"
   ]
  },
  {
   "cell_type": "code",
   "execution_count": 34,
   "metadata": {},
   "outputs": [
    {
     "name": "stdout",
     "output_type": "stream",
     "text": [
      "['__and__', '__class__', '__cmp__', '__contains__', '__delattr__', '__doc__', '__eq__', '__format__', '__ge__', '__getattribute__', '__gt__', '__hash__', '__iand__', '__init__', '__ior__', '__isub__', '__iter__', '__ixor__', '__le__', '__len__', '__lt__', '__ne__', '__new__', '__or__', '__rand__', '__reduce__', '__reduce_ex__', '__repr__', '__ror__', '__rsub__', '__rxor__', '__setattr__', '__sizeof__', '__str__', '__sub__', '__subclasshook__', '__xor__', 'add', 'clear', 'copy', 'difference', 'difference_update', 'discard', 'intersection', 'intersection_update', 'isdisjoint', 'issubset', 'issuperset', 'pop', 'remove', 'symmetric_difference', 'symmetric_difference_update', 'union', 'update']\n"
     ]
    }
   ],
   "source": [
    "print dir(mySet)"
   ]
  },
  {
   "cell_type": "markdown",
   "metadata": {},
   "source": [
    "### Dizionari"
   ]
  },
  {
   "cell_type": "code",
   "execution_count": 35,
   "metadata": {},
   "outputs": [
    {
     "name": "stdout",
     "output_type": "stream",
     "text": [
      "{}\n",
      "\n",
      "<type 'dict'>\n",
      "\n",
      "['__class__', '__cmp__', '__contains__', '__delattr__', '__delitem__', '__doc__', '__eq__', '__format__', '__ge__', '__getattribute__', '__getitem__', '__gt__', '__hash__', '__init__', '__iter__', '__le__', '__len__', '__lt__', '__ne__', '__new__', '__reduce__', '__reduce_ex__', '__repr__', '__setattr__', '__setitem__', '__sizeof__', '__str__', '__subclasshook__', 'clear', 'copy', 'fromkeys', 'get', 'has_key', 'items', 'iteritems', 'iterkeys', 'itervalues', 'keys', 'pop', 'popitem', 'setdefault', 'update', 'values', 'viewitems', 'viewkeys', 'viewvalues']\n"
     ]
    }
   ],
   "source": [
    "myDict = {} #Ho creato un dizionario vuoto\n",
    "print myDict\n",
    "print\n",
    "print type(myDict)\n",
    "print\n",
    "print dir(myDict)"
   ]
  },
  {
   "cell_type": "code",
   "execution_count": 36,
   "metadata": {},
   "outputs": [
    {
     "name": "stdout",
     "output_type": "stream",
     "text": [
      "{1: 'a', 2: 'b', 3: 'c'}\n",
      "a\n"
     ]
    }
   ],
   "source": [
    "myDict = {1: \"a\",2: \"b\",3: \"c\"}\n",
    "print myDict\n",
    "print myDict[1]   #possoa accedere al singolo elemento tramite il suo indice"
   ]
  },
  {
   "cell_type": "markdown",
   "metadata": {},
   "source": [
    "Creare un dizionario"
   ]
  },
  {
   "cell_type": "code",
   "execution_count": 37,
   "metadata": {},
   "outputs": [
    {
     "name": "stdout",
     "output_type": "stream",
     "text": [
      "{1: 'a', 2: 'b'}\n",
      "\n",
      "b\n"
     ]
    }
   ],
   "source": [
    "dictA = {}\n",
    "dictA[1] = 'a'\n",
    "dictA[2] = 'b'\n",
    "print dictA\n",
    "print \n",
    "print dictA[2]\n"
   ]
  },
  {
   "cell_type": "code",
   "execution_count": 38,
   "metadata": {},
   "outputs": [
    {
     "name": "stdout",
     "output_type": "stream",
     "text": [
      "{1: 'a', 2: 'ciao', 3: 'hello world', 4: ['1', '2', '3']}\n",
      "\n",
      "dict_items([(1, 'a'), (2, 'ciao'), (3, 'hello world'), (4, ['1', '2', '3'])])\n",
      "\n",
      "dict_values(['a', 'ciao', 'hello world', ['1', '2', '3']])\n",
      "\n",
      "dict_keys([1, 2, 3, 4])\n",
      "---\n",
      "(1, 'a')\n",
      "(2, 'ciao')\n",
      "(3, 'hello world')\n",
      "(4, ['1', '2', '3'])\n",
      "---\n",
      "1\n",
      "2\n",
      "3\n",
      "4\n",
      "---\n",
      "a\n",
      "ciao\n",
      "hello world\n",
      "['1', '2', '3']\n",
      "---\n"
     ]
    }
   ],
   "source": [
    "dictB = {1 : 'a',2 : 'ciao',3 : \"hello world\",4 : ['1','2','3']}\n",
    "print dictB\n",
    "print\n",
    "print dictB.viewitems()\n",
    "print\n",
    "print dictB.viewvalues()\n",
    "print\n",
    "print dictB.viewkeys()\n",
    "print '---'\n",
    "# Dictionaries do not keep order of keys\n",
    "for i in dictB.items():\n",
    "    print i\n",
    "    \n",
    "print '---'\n",
    "\n",
    "# cycle on keys\n",
    "# for i in dict.keys():\n",
    "for i in dictB.keys():\n",
    "    print i\n",
    "    \n",
    "print '---'\n",
    "\n",
    "#cycle on values\n",
    "for i in dictB.values():\n",
    "    print i\n",
    "\n",
    "print '---'\n",
    "\n"
   ]
  },
  {
   "cell_type": "markdown",
   "metadata": {},
   "source": [
    "Altri modi pratici per generare un dizionario "
   ]
  },
  {
   "cell_type": "code",
   "execution_count": 39,
   "metadata": {},
   "outputs": [
    {
     "name": "stdout",
     "output_type": "stream",
     "text": [
      "<type 'list'>\n",
      "{1: 'alpha', 2: 'beta', 3: 'chalie', 4: 'delta'}\n",
      "<type 'dict'>\n",
      "\n",
      "\n",
      "{0: 'alpha', 1: 'beta', 2: 'chalie', 3: 'delta'}\n"
     ]
    }
   ],
   "source": [
    "#utilizzando la funzione zip()\n",
    "seqValues = [\"alpha\", \"beta\", \"chalie\", \"delta\"]\n",
    "seqIndex = [1,2,3,4]\n",
    "print type(zip(seqIndex,seqValues))\n",
    "# attenzione per avere un dizionario devo forzare il tipo usando la funzione dict\n",
    "dictC = dict(zip(seqIndex,seqValues))\n",
    "print dictC\n",
    "print type(dictC)\n",
    "print\n",
    "print\n",
    "#utilizzando la funzione enumerate()\n",
    "dictD =dict(enumerate(seqValues))\n",
    "print dictD"
   ]
  },
  {
   "cell_type": "code",
   "execution_count": null,
   "metadata": {},
   "outputs": [],
   "source": []
  }
 ],
 "metadata": {
  "kernelspec": {
   "display_name": "Python 2",
   "language": "python",
   "name": "python2"
  },
  "language_info": {
   "codemirror_mode": {
    "name": "ipython",
    "version": 2
   },
   "file_extension": ".py",
   "mimetype": "text/x-python",
   "name": "python",
   "nbconvert_exporter": "python",
   "pygments_lexer": "ipython2",
   "version": "2.7.13"
  }
 },
 "nbformat": 4,
 "nbformat_minor": 2
}
