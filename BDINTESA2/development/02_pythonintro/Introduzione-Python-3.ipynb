{
 "cells": [
  {
   "cell_type": "markdown",
   "metadata": {},
   "source": [
    "# Python - Parte 3"
   ]
  },
  {
   "cell_type": "markdown",
   "metadata": {},
   "source": [
    "## Manipolazione dei file"
   ]
  },
  {
   "cell_type": "markdown",
   "metadata": {},
   "source": [
    "### Lettura\n"
   ]
  },
  {
   "cell_type": "code",
   "execution_count": 2,
   "metadata": {},
   "outputs": [
    {
     "name": "stdout",
     "output_type": "stream",
     "text": [
      "\"\",\"x\"\n",
      "\"ATS\",13.7603\n",
      "\"BEF\",40.3399\n",
      "\"DEM\",1.95583\n",
      "\"ESP\",166.386\n",
      "\"FIM\",5.94573\n",
      "\"FRF\",6.55957\n",
      "\"IEP\",0.787564\n",
      "\"ITL\",1936.27\n",
      "\"LUF\",40.3399\n",
      "\"NLG\",2.20371\n",
      "\"PTE\",200.482\n",
      "\n"
     ]
    }
   ],
   "source": [
    "with open(\"datasets/euro.csv\",mode=\"r\") as my_file:\n",
    "    print my_file.read() #legge tutto il file come se fosse una stringa"
   ]
  },
  {
   "cell_type": "code",
   "execution_count": 6,
   "metadata": {},
   "outputs": [
    {
     "name": "stdout",
     "output_type": "stream",
     "text": [
      "\"\",\"x\n",
      "---\n",
      "\"\n",
      "\n",
      "---\n",
      "['\"ATS\",13.7603\\n', '\"BEF\",40.3399\\n', '\"DEM\",1.95583\\n', '\"ESP\",166.386\\n', '\"FIM\",5.94573\\n', '\"FRF\",6.55957\\n', '\"IEP\",0.787564\\n', '\"ITL\",1936.27\\n', '\"LUF\",40.3399\\n', '\"NLG\",2.20371\\n', '\"PTE\",200.482\\n']\n"
     ]
    }
   ],
   "source": [
    "with open(\"datasets/euro.csv\",mode=\"r\") as my_file:\n",
    "    print my_file.read(5) #legge i primi 5 caratteri\n",
    "    print '---'\n",
    "    print my_file.readline() #in pratica legge il resto della riga\n",
    "    print '---'\n",
    "    print my_file.readlines() #legge il resto del file come stringhe separate"
   ]
  },
  {
   "cell_type": "markdown",
   "metadata": {},
   "source": [
    "### Scrittura"
   ]
  },
  {
   "cell_type": "code",
   "execution_count": 9,
   "metadata": {},
   "outputs": [
    {
     "name": "stdout",
     "output_type": "stream",
     "text": [
      "aggiungi questo testoasdsad\n",
      "\n",
      "\n"
     ]
    }
   ],
   "source": [
    "with open(\"datasets/output.txt\", mode=\"w\") as my_file:\n",
    "    my_file.write(\"aggiungi questo testo\")     #aggiunge una stringa sovrascrivendo il precedente contenuto\n",
    "    my_file.writelines([\"\\n\",\"riga1\",\"\\n\",\"riga2\"]) #aggiunge una lista di stringhefrom os import listdir\n",
    "\n",
    "\n",
    "with open(\"datasets/output.txt\",mode=\"r\") as my_file:  \n",
    "    print my_file.readline()\n",
    "    print my_file.readline()\n",
    "    print my_file.readline()"
   ]
  },
  {
   "cell_type": "code",
   "execution_count": 11,
   "metadata": {},
   "outputs": [
    {
     "name": "stdout",
     "output_type": "stream",
     "text": [
      "aggiungi questo testoasdsadHello!     Hello!\n"
     ]
    }
   ],
   "source": [
    "with open('datasets/output.txt', mode=\"a\") as my_file:\n",
    "    my_file.write('     Hello!')\n",
    "with open(\"datasets/output.txt\",mode=\"r\") as my_file: \n",
    "    print my_file.readline()"
   ]
  },
  {
   "cell_type": "markdown",
   "metadata": {},
   "source": [
    "### import\n"
   ]
  },
  {
   "cell_type": "code",
   "execution_count": 14,
   "metadata": {},
   "outputs": [
    {
     "name": "stdout",
     "output_type": "stream",
     "text": [
      "['.DS_Store', '.ipynb_checkpoints', '01_devintro', '02_pythonintro', '03_scientific_python', 'README.md']\n"
     ]
    }
   ],
   "source": [
    "from os import listdir\n",
    "print listdir('./')"
   ]
  },
  {
   "cell_type": "code",
   "execution_count": 12,
   "metadata": {},
   "outputs": [
    {
     "name": "stdout",
     "output_type": "stream",
     "text": [
      "['EX_CANTCREAT', 'EX_CONFIG', 'EX_DATAERR', 'EX_IOERR', 'EX_NOHOST', 'EX_NOINPUT', 'EX_NOPERM', 'EX_NOUSER', 'EX_OK', 'EX_OSERR', 'EX_OSFILE', 'EX_PROTOCOL', 'EX_SOFTWARE', 'EX_TEMPFAIL', 'EX_UNAVAILABLE', 'EX_USAGE', 'F_OK', 'NGROUPS_MAX', 'O_APPEND', 'O_ASYNC', 'O_CREAT', 'O_DIRECTORY', 'O_DSYNC', 'O_EXCL', 'O_EXLOCK', 'O_NDELAY', 'O_NOCTTY', 'O_NOFOLLOW', 'O_NONBLOCK', 'O_RDONLY', 'O_RDWR', 'O_SHLOCK', 'O_SYNC', 'O_TRUNC', 'O_WRONLY', 'P_NOWAIT', 'P_NOWAITO', 'P_WAIT', 'R_OK', 'SEEK_CUR', 'SEEK_END', 'SEEK_SET', 'TMP_MAX', 'UserDict', 'WCONTINUED', 'WCOREDUMP', 'WEXITSTATUS', 'WIFCONTINUED', 'WIFEXITED', 'WIFSIGNALED', 'WIFSTOPPED', 'WNOHANG', 'WSTOPSIG', 'WTERMSIG', 'WUNTRACED', 'W_OK', 'X_OK', '_Environ', '__all__', '__builtins__', '__doc__', '__file__', '__name__', '__package__', '_copy_reg', '_execvpe', '_exists', '_exit', '_get_exports_list', '_make_stat_result', '_make_statvfs_result', '_pickle_stat_result', '_pickle_statvfs_result', '_spawnvef', 'abort', 'access', 'altsep', 'chdir', 'chflags', 'chmod', 'chown', 'chroot', 'close', 'closerange', 'confstr', 'confstr_names', 'ctermid', 'curdir', 'defpath', 'devnull', 'dup', 'dup2', 'environ', 'errno', 'error', 'execl', 'execle', 'execlp', 'execlpe', 'execv', 'execve', 'execvp', 'execvpe', 'extsep', 'fchdir', 'fchmod', 'fchown', 'fdopen', 'fork', 'forkpty', 'fpathconf', 'fstat', 'fstatvfs', 'fsync', 'ftruncate', 'getcwd', 'getcwdu', 'getegid', 'getenv', 'geteuid', 'getgid', 'getgroups', 'getloadavg', 'getlogin', 'getpgid', 'getpgrp', 'getpid', 'getppid', 'getsid', 'getuid', 'initgroups', 'isatty', 'kill', 'killpg', 'lchflags', 'lchmod', 'lchown', 'linesep', 'link', 'listdir', 'lseek', 'lstat', 'major', 'makedev', 'makedirs', 'minor', 'mkdir', 'mkfifo', 'mknod', 'name', 'nice', 'open', 'openpty', 'pardir', 'path', 'pathconf', 'pathconf_names', 'pathsep', 'pipe', 'popen', 'popen2', 'popen3', 'popen4', 'putenv', 'read', 'readlink', 'remove', 'removedirs', 'rename', 'renames', 'rmdir', 'sep', 'setegid', 'seteuid', 'setgid', 'setgroups', 'setpgid', 'setpgrp', 'setregid', 'setreuid', 'setsid', 'setuid', 'spawnl', 'spawnle', 'spawnlp', 'spawnlpe', 'spawnv', 'spawnve', 'spawnvp', 'spawnvpe', 'stat', 'stat_float_times', 'stat_result', 'statvfs', 'statvfs_result', 'strerror', 'symlink', 'sys', 'sysconf', 'sysconf_names', 'system', 'tcgetpgrp', 'tcsetpgrp', 'tempnam', 'times', 'tmpfile', 'tmpnam', 'ttyname', 'umask', 'uname', 'unlink', 'unsetenv', 'urandom', 'utime', 'wait', 'wait3', 'wait4', 'waitpid', 'walk', 'write']\n",
      "\n",
      "---\n",
      "\n",
      "['.DS_Store', '.ipynb_checkpoints', 'datasets', 'Introduzione-Python-1.ipynb', 'Introduzione-Python-2.ipynb', 'Introduzione-Python-3.ipynb', 'Introduzione-Python-4-OOP&Decorators.ipynb', 'Python-esercizi.ipynb', 'soluzioni']\n"
     ]
    }
   ],
   "source": [
    "import os\n",
    "print dir(os)\n",
    "print \"\\n---\\n\"\n",
    "print os.listdir('./')"
   ]
  },
  {
   "cell_type": "markdown",
   "metadata": {},
   "source": [
    "## Play with Dataset"
   ]
  },
  {
   "cell_type": "code",
   "execution_count": 15,
   "metadata": {},
   "outputs": [],
   "source": [
    "file_location = 'datasets/euro.csv' "
   ]
  },
  {
   "cell_type": "code",
   "execution_count": 16,
   "metadata": {},
   "outputs": [
    {
     "name": "stdout",
     "output_type": "stream",
     "text": [
      "\"\",\"x\"\n",
      "\n",
      "\"ATS\",13.7603\n",
      "\n"
     ]
    }
   ],
   "source": [
    "with open(file_location, 'r') as myFile:\n",
    "    print myFile.readline()\n",
    "    print myFile.readline()"
   ]
  },
  {
   "cell_type": "code",
   "execution_count": 17,
   "metadata": {},
   "outputs": [
    {
     "name": "stdout",
     "output_type": "stream",
     "text": [
      "\"\",\"x\"\n",
      "\n",
      "\"ATS\",13.7603\n",
      "\n",
      "\"BEF\",40.3399\n",
      "\n"
     ]
    }
   ],
   "source": [
    "# Print first 3 rows\n",
    "with open(file_location, 'r') as myFile:\n",
    "    c = 0\n",
    "    for line in myFile.readlines():\n",
    "        print line\n",
    "        c+=1\n",
    "        if c==3: break"
   ]
  },
  {
   "cell_type": "code",
   "execution_count": 18,
   "metadata": {},
   "outputs": [],
   "source": [
    "import csv\n"
   ]
  },
  {
   "cell_type": "code",
   "execution_count": 19,
   "metadata": {},
   "outputs": [
    {
     "name": "stdout",
     "output_type": "stream",
     "text": [
      "['', 'x']\n",
      "['ATS', '13.7603']\n",
      "['BEF', '40.3399']\n"
     ]
    }
   ],
   "source": [
    "with open(file_location, 'r') as csvfile:\n",
    "    spamreader = csv.reader(csvfile, delimiter=',') #ogni row è di fatto una lista\n",
    "    c = 0    \n",
    "    for row in spamreader:\n",
    "        print row  \n",
    "        c+=1\n",
    "        if c==3: break"
   ]
  },
  {
   "cell_type": "code",
   "execution_count": 20,
   "metadata": {},
   "outputs": [
    {
     "name": "stdout",
     "output_type": "stream",
     "text": [
      "{'MONEY': 'ATS', 'VALUE': '13.7603'}\n",
      "{'MONEY': 'BEF', 'VALUE': '40.3399'}\n",
      "{'MONEY': 'DEM', 'VALUE': '1.95583'}\n"
     ]
    }
   ],
   "source": [
    "with open(file_location, 'r') as csvfile:\n",
    "    reader = csv.DictReader(csvfile, fieldnames=['MONEY', 'VALUE']) #ogni row è di fatto un dictionary\n",
    "    c = 0\n",
    "    reader.next() # Skip Header\n",
    "    for row in reader:\n",
    "        print row\n",
    "        c+=1\n",
    "        if c==3: break"
   ]
  },
  {
   "cell_type": "markdown",
   "metadata": {},
   "source": [
    "### Salvare i dati in una lista"
   ]
  },
  {
   "cell_type": "code",
   "execution_count": 26,
   "metadata": {},
   "outputs": [
    {
     "name": "stdout",
     "output_type": "stream",
     "text": [
      "<csv.DictReader instance at 0x108a026c8>\n",
      "11\n",
      "[{'MONEY': 'ATS', 'VALUE': '13.7603'}, {'MONEY': 'BEF', 'VALUE': '40.3399'}, {'MONEY': 'DEM', 'VALUE': '1.95583'}, {'MONEY': 'ESP', 'VALUE': '166.386'}, {'MONEY': 'FIM', 'VALUE': '5.94573'}, {'MONEY': 'FRF', 'VALUE': '6.55957'}, {'MONEY': 'IEP', 'VALUE': '0.787564'}, {'MONEY': 'ITL', 'VALUE': '1936.27'}, {'MONEY': 'LUF', 'VALUE': '40.3399'}, {'MONEY': 'NLG', 'VALUE': '2.20371'}, {'MONEY': 'PTE', 'VALUE': '200.482'}]\n",
      "{'MONEY': 'ATS', 'VALUE': '13.7603'}\n"
     ]
    }
   ],
   "source": [
    "with open(file_location, 'r') as csvfile:\n",
    "    data = [] #list\n",
    "    reader = csv.DictReader(csvfile, fieldnames=['MONEY', 'VALUE'])\n",
    "    print reader\n",
    "    reader.next() # Skip Header\n",
    "    for row in reader:\n",
    "        data.append(row)\n",
    "    print len(data)   # in questo modo posso scoprire quante entries \n",
    "    print data\n",
    "    print data[0]"
   ]
  },
  {
   "cell_type": "markdown",
   "metadata": {},
   "source": [
    "### Ricerca di una valuta all'interno del dataset"
   ]
  },
  {
   "cell_type": "code",
   "execution_count": 25,
   "metadata": {},
   "outputs": [
    {
     "name": "stdout",
     "output_type": "stream",
     "text": [
      "YEAH! {'MONEY': 'ESP', 'VALUE': '166.386'}\n"
     ]
    }
   ],
   "source": [
    "counter = 0\n",
    "flag = False\n",
    "for row in data:\n",
    "    if row['MONEY'] == 'ESP':\n",
    "        flag = True\n",
    "        print 'YEAH!', row\n",
    "if not flag:\n",
    "    print 'Name NOT Found!'\n"
   ]
  },
  {
   "cell_type": "markdown",
   "metadata": {},
   "source": [
    "## Json\n",
    "\n",
    "Javascript Object Notation è un formato open-standard leggibile da un umano che permette di trasmettere dati sfruttando il paradigma chiave-valore. In Python si può utilizzare la libreria **JSON**.\n",
    "La libreria viene utilizzata per leggere e interpretare stringhe o file, per passare dal formato JSON a una lista / dizionario (e viceversa)."
   ]
  },
  {
   "cell_type": "code",
   "execution_count": 27,
   "metadata": {},
   "outputs": [
    {
     "name": "stdout",
     "output_type": "stream",
     "text": [
      "<type 'dict'>\n",
      "{u'name': u'Christian', u'key': u'value'}\n",
      "Print value for Key 'name':  Christian\n"
     ]
    }
   ],
   "source": [
    "# Json from a string\n",
    "import json\n",
    "my_str = '{\"key\":\"value\",\"name\":\"Christian\"}' #s è la stringa da parsare\n",
    "my_json = json.loads(my_str)\n",
    "print my_json.__class__\n",
    "print my_json\n",
    "print \"Print value for Key 'name': \",my_json['name']"
   ]
  },
  {
   "cell_type": "code",
   "execution_count": 28,
   "metadata": {},
   "outputs": [
    {
     "name": "stdout",
     "output_type": "stream",
     "text": [
      "<type 'str'>\n",
      "{\"age\": 26, \"name\": \"Alex\", \"key\": \"value\", \"others\": [1, 2, 3]}\n"
     ]
    }
   ],
   "source": [
    "# Json from Dictionary\n",
    "import json\n",
    "my_dict = dict(key=\"value\", name=\"Alex\", age=26, others=[1,2,3])\n",
    "my_json = json.dumps(my_dict)\n",
    "# my_json = json.dumps(my_dict, sort_keys=True, indent=4, separators=(',', ': ')) # Pretty Print\n",
    "print my_json.__class__\n",
    "print my_json"
   ]
  },
  {
   "cell_type": "code",
   "execution_count": null,
   "metadata": {},
   "outputs": [],
   "source": []
  }
 ],
 "metadata": {
  "kernelspec": {
   "display_name": "Python 2",
   "language": "python",
   "name": "python2"
  },
  "language_info": {
   "codemirror_mode": {
    "name": "ipython",
    "version": 2
   },
   "file_extension": ".py",
   "mimetype": "text/x-python",
   "name": "python",
   "nbconvert_exporter": "python",
   "pygments_lexer": "ipython2",
   "version": "2.7.13"
  }
 },
 "nbformat": 4,
 "nbformat_minor": 2
}
