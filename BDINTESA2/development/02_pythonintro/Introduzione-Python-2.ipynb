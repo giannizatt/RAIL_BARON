{
 "cells": [
  {
   "cell_type": "markdown",
   "metadata": {},
   "source": [
    "# PYTHON - Parte 2\n"
   ]
  },
  {
   "cell_type": "markdown",
   "metadata": {},
   "source": [
    "## Manipolare le liste"
   ]
  },
  {
   "cell_type": "code",
   "execution_count": 27,
   "metadata": {},
   "outputs": [
    {
     "name": "stdout",
     "output_type": "stream",
     "text": [
      "<type 'list'>\n",
      "['__add__', '__class__', '__contains__', '__delattr__', '__delitem__', '__delslice__', '__doc__', '__eq__', '__format__', '__ge__', '__getattribute__', '__getitem__', '__getslice__', '__gt__', '__hash__', '__iadd__', '__imul__', '__init__', '__iter__', '__le__', '__len__', '__lt__', '__mul__', '__ne__', '__new__', '__reduce__', '__reduce_ex__', '__repr__', '__reversed__', '__rmul__', '__setattr__', '__setitem__', '__setslice__', '__sizeof__', '__str__', '__subclasshook__', 'append', 'count', 'extend', 'index', 'insert', 'pop', 'remove', 'reverse', 'sort']\n"
     ]
    }
   ],
   "source": [
    "myList = []\n",
    "print type(myList)\n",
    "print dir(myList)"
   ]
  },
  {
   "cell_type": "code",
   "execution_count": 28,
   "metadata": {
    "scrolled": true
   },
   "outputs": [
    {
     "name": "stdout",
     "output_type": "stream",
     "text": [
      "['q', 'w', 'e', 'r', 't', 'y']\n"
     ]
    }
   ],
   "source": [
    "myList.append(\"q\")\n",
    "myList.append(\"w\")\n",
    "myList.append(\"e\")\n",
    "myList.append(\"r\")\n",
    "myList.append(\"t\")\n",
    "myList.append(\"y\")\n",
    "print myList"
   ]
  },
  {
   "cell_type": "markdown",
   "metadata": {},
   "source": [
    "## For Each"
   ]
  },
  {
   "cell_type": "code",
   "execution_count": 29,
   "metadata": {},
   "outputs": [
    {
     "name": "stdout",
     "output_type": "stream",
     "text": [
      "q\n",
      "w\n",
      "e\n",
      "r\n",
      "t\n",
      "y\n"
     ]
    }
   ],
   "source": [
    "for x in myList: #cicla sugli elementi della lista\n",
    "    print x"
   ]
  },
  {
   "cell_type": "markdown",
   "metadata": {},
   "source": [
    "Diversi modi per copiare una lista"
   ]
  },
  {
   "cell_type": "code",
   "execution_count": 30,
   "metadata": {},
   "outputs": [
    {
     "name": "stdout",
     "output_type": "stream",
     "text": [
      "['q', 'w', 'e', 'r', 't', 'y']\n",
      "---\n",
      "['q', 'w', 'e', 'r', 't', 'y']\n"
     ]
    }
   ],
   "source": [
    "copia1 = [x for x in myList] \n",
    "copia2 = myList[:]\n",
    "print copia1\n",
    "print \"---\"\n",
    "print copia2"
   ]
  },
  {
   "cell_type": "markdown",
   "metadata": {},
   "source": [
    "Estrarre solo determinati elementi (usande le **List Comprehension**):"
   ]
  },
  {
   "cell_type": "code",
   "execution_count": 31,
   "metadata": {},
   "outputs": [],
   "source": [
    "myList = [2,-3,1,-5,10]"
   ]
  },
  {
   "cell_type": "code",
   "execution_count": 32,
   "metadata": {},
   "outputs": [
    {
     "name": "stdout",
     "output_type": "stream",
     "text": [
      "[2, 1, 10]\n"
     ]
    }
   ],
   "source": [
    "soloPositivi = [x for x in myList if x > 0]\n",
    "print soloPositivi"
   ]
  },
  {
   "cell_type": "code",
   "execution_count": 33,
   "metadata": {},
   "outputs": [
    {
     "name": "stdout",
     "output_type": "stream",
     "text": [
      "<type 'str'>\n",
      "P\n",
      "i\n",
      "p\n",
      "p\n",
      "o\n",
      "---\n",
      "['P', 'i', 'p', 'p', 'o']\n",
      "<type 'list'>\n"
     ]
    }
   ],
   "source": [
    "myName = \"Pippo\"\n",
    "print type(myName)\n",
    "for x in myName:\n",
    "    print x\n",
    "    \n",
    "print \"---\"\n",
    "# genero una lista / array dove ogni lettera è un elemento\n",
    "myNameSplitted = [x for x in myName]\n",
    "print myNameSplitted\n",
    "print type(myNameSplitted)\n"
   ]
  },
  {
   "cell_type": "markdown",
   "metadata": {},
   "source": [
    "Proviamo a stampare solo le lettere in posizione pari"
   ]
  },
  {
   "cell_type": "code",
   "execution_count": 34,
   "metadata": {},
   "outputs": [
    {
     "name": "stdout",
     "output_type": "stream",
     "text": [
      "['P', 'p', 'o']\n"
     ]
    }
   ],
   "source": [
    "# Print only letters in even position\n",
    "print [l for (i,l) in enumerate(myName) if i%2==0]"
   ]
  },
  {
   "cell_type": "code",
   "execution_count": 35,
   "metadata": {},
   "outputs": [
    {
     "name": "stdout",
     "output_type": "stream",
     "text": [
      "0->t\n",
      "1->e\n",
      "2->s\n",
      "3->t\n",
      "4->a\n",
      "5->o\n",
      "6->c\n",
      "7->r\n",
      "8->o\n",
      "9->c\n",
      "10->e\n"
     ]
    }
   ],
   "source": [
    "for (x,y) in enumerate(\"testaocroce\"):\n",
    "    print str(x)+\"->\"+y"
   ]
  },
  {
   "cell_type": "markdown",
   "metadata": {},
   "source": [
    "## Enumerate\n",
    "\n",
    "Restituisce a ogni ciclo una tupla contenente posizione e elemento della lista."
   ]
  },
  {
   "cell_type": "code",
   "execution_count": 36,
   "metadata": {
    "scrolled": false
   },
   "outputs": [
    {
     "name": "stdout",
     "output_type": "stream",
     "text": [
      "Help on class enumerate in module __builtin__:\n",
      "\n",
      "class enumerate(object)\n",
      " |  enumerate(iterable[, start]) -> iterator for index, value of iterable\n",
      " |  \n",
      " |  Return an enumerate object.  iterable must be another object that supports\n",
      " |  iteration.  The enumerate object yields pairs containing a count (from\n",
      " |  start, which defaults to zero) and a value yielded by the iterable argument.\n",
      " |  enumerate is useful for obtaining an indexed list:\n",
      " |      (0, seq[0]), (1, seq[1]), (2, seq[2]), ...\n",
      " |  \n",
      " |  Methods defined here:\n",
      " |  \n",
      " |  __getattribute__(...)\n",
      " |      x.__getattribute__('name') <==> x.name\n",
      " |  \n",
      " |  __iter__(...)\n",
      " |      x.__iter__() <==> iter(x)\n",
      " |  \n",
      " |  next(...)\n",
      " |      x.next() -> the next value, or raise StopIteration\n",
      " |  \n",
      " |  ----------------------------------------------------------------------\n",
      " |  Data and other attributes defined here:\n",
      " |  \n",
      " |  __new__ = <built-in method __new__ of type object>\n",
      " |      T.__new__(S, ...) -> a new object with type S, a subtype of T\n",
      "\n"
     ]
    }
   ],
   "source": [
    "help(enumerate)"
   ]
  },
  {
   "cell_type": "code",
   "execution_count": 37,
   "metadata": {},
   "outputs": [
    {
     "name": "stdout",
     "output_type": "stream",
     "text": [
      "0 P\n",
      "1 i\n",
      "2 p\n",
      "3 p\n",
      "4 o\n"
     ]
    }
   ],
   "source": [
    "for index, letter in enumerate(myName):\n",
    "    print index, letter"
   ]
  },
  {
   "cell_type": "markdown",
   "metadata": {
    "collapsed": true
   },
   "source": [
    "## Generazione di Liste\n"
   ]
  },
  {
   "cell_type": "code",
   "execution_count": 38,
   "metadata": {},
   "outputs": [
    {
     "name": "stdout",
     "output_type": "stream",
     "text": [
      "[1, 2, 3, 4, 5]\n"
     ]
    }
   ],
   "source": [
    "#Generiamo una lista dei numeri da 1 a 5 compresi\n",
    "newList = [x for x in range(1,6)]\n",
    "print newList"
   ]
  },
  {
   "cell_type": "code",
   "execution_count": 39,
   "metadata": {},
   "outputs": [
    {
     "name": "stdout",
     "output_type": "stream",
     "text": [
      "[2, 4, 6, 8, 10]\n"
     ]
    }
   ],
   "source": [
    "#generiamo una lista che comprenda i valori doppi dei numeri compresi tra 1 e 6(estremi compresi)\n",
    "doubleList = [x *2 for x in range(1,6)]\n",
    "print doubleList\n"
   ]
  },
  {
   "cell_type": "code",
   "execution_count": 40,
   "metadata": {},
   "outputs": [
    {
     "name": "stdout",
     "output_type": "stream",
     "text": [
      "[2, 4, 6, 8, 10]\n"
     ]
    }
   ],
   "source": [
    "# generiamo una lista inserendo una condizione da rispettare \n",
    "# e.g. solo i numeri pari tra 1 e 10 (estremi compresi)\n",
    "specialList = [x for x in range(1,11) if x % 2 == 0]\n",
    "print specialList"
   ]
  },
  {
   "cell_type": "code",
   "execution_count": 41,
   "metadata": {},
   "outputs": [
    {
     "name": "stdout",
     "output_type": "stream",
     "text": [
      "[8, 64, 216, 512, 1000]\n"
     ]
    }
   ],
   "source": [
    "# La condizione può anche essere applicata su una trasformazione\n",
    "# Supponiamo di voler creare una lista composta dai cubi dei numeri compresi tra 1 e 10 \n",
    "# (estremi compresi) a patto che il cubo del numero in question sia divisibile per 4\n",
    "cubesByFour = [x**3 for x in range(1,11) if (x**3) % 4 ==0]\n",
    "print cubesByFour"
   ]
  },
  {
   "cell_type": "markdown",
   "metadata": {},
   "source": [
    "## List slicing\n"
   ]
  },
  {
   "cell_type": "markdown",
   "metadata": {},
   "source": [
    "Il List slicing permette di accedere a un subset di elementi della lista.\n",
    "La sintassi è la seguente:\n",
    "\n",
    "**[start:end:stride]**\n",
    "\n",
    "Dove **start** descrive dove lo slice inizia (inclusivo), **end** dove finisce (esclusivo), e **stride** descrive lo spazio fra un elemento e l'altro (la cadenza). \n"
   ]
  },
  {
   "cell_type": "markdown",
   "metadata": {},
   "source": [
    "Se non passi un particolare index, Python sceglierà il valore di default.\n",
    "\n",
    "**to_five = ['A', 'B', 'C', 'D', 'E']**\n",
    "\n",
    "print to_five[3:]\n",
    "-> ['D', 'E'] \n",
    "\n",
    "print to_five[:2]\n",
    "-> prints ['A', 'B']\n",
    "\n",
    "print to_five[::2]\n",
    "-> print ['A', 'C', 'E']\n",
    "\n",
    "- Lo start è 0.\n",
    "- la fine è la fine della lista.\n",
    "- Lo stride di default è 1."
   ]
  },
  {
   "cell_type": "markdown",
   "metadata": {},
   "source": [
    "Se utilizziamo uno stride positivo la lista verrà analizzata da sinistra verso destra.\n",
    "\n",
    "Uno **stride negativo** la processerà al contrario.\n",
    "\n",
    "**letters = ['A', 'B', 'C', 'D', 'E']**\n",
    "\n",
    "print letters[::-1]\n",
    "\n",
    "L'output sarà qualcosa del tipo ['E', 'D', 'C', 'B', 'A']."
   ]
  },
  {
   "cell_type": "code",
   "execution_count": 42,
   "metadata": {},
   "outputs": [
    {
     "name": "stdout",
     "output_type": "stream",
     "text": [
      "[10, 9, 8, 7, 6, 5, 4, 3, 2, 1]\n"
     ]
    }
   ],
   "source": [
    "#number from 1 to 10\n",
    "myList = range(1,11) \n",
    "\n",
    "# let's print from the end to the beginning\n",
    "print myList[::-1]"
   ]
  },
  {
   "cell_type": "markdown",
   "metadata": {},
   "source": [
    "## Iterazioni"
   ]
  },
  {
   "cell_type": "code",
   "execution_count": 43,
   "metadata": {},
   "outputs": [
    {
     "name": "stdout",
     "output_type": "stream",
     "text": [
      "(0, 'a')\n",
      "(1, 'b')\n",
      "(2, 'c')\n"
     ]
    }
   ],
   "source": [
    "for i in enumerate(['a', 'b', 'c']):\n",
    "    print i"
   ]
  },
  {
   "cell_type": "code",
   "execution_count": 44,
   "metadata": {},
   "outputs": [
    {
     "name": "stdout",
     "output_type": "stream",
     "text": [
      "0 : a\n",
      "1 : b\n",
      "2 : c\n"
     ]
    }
   ],
   "source": [
    "for a,b in enumerate(['a','b','c']):\n",
    "    print a, \":\", b"
   ]
  },
  {
   "cell_type": "code",
   "execution_count": 45,
   "metadata": {},
   "outputs": [
    {
     "name": "stdout",
     "output_type": "stream",
     "text": [
      "0\n",
      "1\n",
      "2\n",
      "3\n",
      "4\n"
     ]
    }
   ],
   "source": [
    "for i in range(5):\n",
    "    print i"
   ]
  },
  {
   "cell_type": "code",
   "execution_count": 46,
   "metadata": {},
   "outputs": [
    {
     "name": "stdout",
     "output_type": "stream",
     "text": [
      "0\n",
      "1\n",
      "2\n",
      "3\n",
      "4\n"
     ]
    }
   ],
   "source": [
    "i = 0\n",
    "while i <5:\n",
    "    print i\n",
    "    i+=1"
   ]
  },
  {
   "cell_type": "code",
   "execution_count": 47,
   "metadata": {},
   "outputs": [
    {
     "name": "stdout",
     "output_type": "stream",
     "text": [
      "1 + 5 = 6\n",
      "2 + 6 = 8\n",
      "3 + 7 = 10\n",
      "4 + 8 = 12\n"
     ]
    }
   ],
   "source": [
    "lista1 = [1,2,3,4]\n",
    "lista2 = [5,6,7,8]\n",
    "for a,b in zip(lista1,lista2):\n",
    "    print a,\"+\",b,\"=\",a+b"
   ]
  },
  {
   "cell_type": "code",
   "execution_count": 48,
   "metadata": {},
   "outputs": [
    {
     "name": "stdout",
     "output_type": "stream",
     "text": [
      "0 --> a\n",
      "1 --> b\n",
      "2 --> c\n"
     ]
    }
   ],
   "source": [
    "myDict = {0:'a',1:'b',2:'c'}\n",
    "for key,value in myDict.items():\n",
    "    print key, \"-->\",value\n"
   ]
  },
  {
   "cell_type": "markdown",
   "metadata": {},
   "source": [
    "## Controlli Condizionali (IF - ELIF - ELSE)"
   ]
  },
  {
   "cell_type": "code",
   "execution_count": 49,
   "metadata": {},
   "outputs": [
    {
     "name": "stdout",
     "output_type": "stream",
     "text": [
      "Equal to 1 :)\n"
     ]
    }
   ],
   "source": [
    "x = 1\n",
    "if x == 1:\n",
    "    print \"Equal to 1 :)\"\n",
    "elif x == 2:\n",
    "    print \"Is equal to 2 :)\"\n",
    "else:\n",
    "    print \"Mha....\""
   ]
  },
  {
   "cell_type": "markdown",
   "metadata": {},
   "source": [
    "## Equality VS Identity\n"
   ]
  },
  {
   "cell_type": "code",
   "execution_count": 50,
   "metadata": {},
   "outputs": [
    {
     "name": "stdout",
     "output_type": "stream",
     "text": [
      "True True\n",
      "True False\n",
      "False\n"
     ]
    }
   ],
   "source": [
    "# '==' Controlla se il valore è uguale\n",
    "# 'is' Controlla se i due oggetti appartengono alla stessa partizione di memoria\n",
    "x = 5\n",
    "y = 5\n",
    "print x == y, x is y\n",
    "\n",
    "a = [5]\n",
    "b = [5]\n",
    "print a == b, a is b\n",
    "\n",
    "\n",
    "# le liste siccome data la loro proprietà di mutabilità \n",
    "# non possono condividere la stessa partizione di memoria\n",
    "\n",
    "tplA = (1,'a')\n",
    "tplB = (1,'a')\n",
    "print tplA is tplB"
   ]
  },
  {
   "cell_type": "markdown",
   "metadata": {},
   "source": [
    "## Exception"
   ]
  },
  {
   "cell_type": "markdown",
   "metadata": {},
   "source": [
    "Python utilizza le exceptions per la gestione degli errori. Exceptions vengono catturate tramite il **try: except:** statement.\n"
   ]
  },
  {
   "cell_type": "code",
   "execution_count": 51,
   "metadata": {},
   "outputs": [
    {
     "name": "stdout",
     "output_type": "stream",
     "text": [
      "['a', 'b', 'c']\n",
      "Done\n",
      "\n",
      "---\n",
      "\n",
      "Error\n",
      "Done\n"
     ]
    }
   ],
   "source": [
    "try:\n",
    "    b = 'a b c'.split()\n",
    "except:\n",
    "    print 'Error'\n",
    "else:\n",
    "    print b\n",
    "finally:\n",
    "    print 'Done'\n",
    "\n",
    "print \"\\n---\\n\"    \n",
    "#mentre invece \n",
    "try:\n",
    "    a, b = 'a b c'.split()\n",
    "except:\n",
    "    print 'Error'\n",
    "else:\n",
    "    print a, b\n",
    "finally:\n",
    "    print 'Done'"
   ]
  },
  {
   "cell_type": "markdown",
   "metadata": {},
   "source": [
    "## Contatori"
   ]
  },
  {
   "cell_type": "code",
   "execution_count": 52,
   "metadata": {},
   "outputs": [
    {
     "name": "stdout",
     "output_type": "stream",
     "text": [
      "<type 'str'>\n"
     ]
    }
   ],
   "source": [
    "from collections import Counter\n",
    "sentence = \"a man a plan a canal Panama\"\n",
    "print type(sentence)"
   ]
  },
  {
   "cell_type": "code",
   "execution_count": 53,
   "metadata": {},
   "outputs": [
    {
     "name": "stdout",
     "output_type": "stream",
     "text": [
      "['a', 'man', 'a', 'plan', 'a', 'canal', 'Panama']\n"
     ]
    }
   ],
   "source": [
    "print sentence.split(' ')"
   ]
  },
  {
   "cell_type": "code",
   "execution_count": 54,
   "metadata": {},
   "outputs": [
    {
     "name": "stdout",
     "output_type": "stream",
     "text": [
      "<class 'collections.Counter'>\n",
      "Counter({'a': 3, 'canal': 1, 'Panama': 1, 'plan': 1, 'man': 1})\n",
      "[('a', 3)]\n"
     ]
    }
   ],
   "source": [
    "cntr = Counter(sentence.split())\n",
    "print type(cntr)\n",
    "print cntr\n",
    "print cntr.most_common(1)"
   ]
  },
  {
   "cell_type": "code",
   "execution_count": 55,
   "metadata": {},
   "outputs": [
    {
     "name": "stdout",
     "output_type": "stream",
     "text": [
      "{'a': 3, 'canal': 1, 'Panama': 1, 'plan': 1, 'man': 1}\n"
     ]
    }
   ],
   "source": [
    "cntrDict = dict(cntr) #trasforma il contatore in un dizionario\n",
    "print cntrDict"
   ]
  },
  {
   "cell_type": "markdown",
   "metadata": {},
   "source": [
    "La libreria **collections** è molto utile! Dacci un occhio [QUA](https://docs.python.org/2/library/collections.html)"
   ]
  },
  {
   "cell_type": "markdown",
   "metadata": {},
   "source": [
    "## Functions"
   ]
  },
  {
   "cell_type": "code",
   "execution_count": 56,
   "metadata": {},
   "outputs": [
    {
     "name": "stdout",
     "output_type": "stream",
     "text": [
      "this is a dummy function\n"
     ]
    }
   ],
   "source": [
    "def myFunc():\n",
    "    print \"this is a dummy function\"\n",
    "    \n",
    "myFunc()"
   ]
  },
  {
   "cell_type": "code",
   "execution_count": 57,
   "metadata": {},
   "outputs": [
    {
     "name": "stdout",
     "output_type": "stream",
     "text": [
      "(2, 3, 4, 5, 4)\n",
      "\n",
      "---\n",
      "\n",
      "(2, 3, 4, 5, 4)\n",
      "\n",
      "---\n",
      "\n",
      "(2, 3, 4, 5, 4)\n",
      "\n",
      "---\n",
      "\n",
      "{'pippo': 1}\n"
     ]
    }
   ],
   "source": [
    "def myFunc(arg):\n",
    "    print arg\n",
    "arg = (2,3,4,5,4)    \n",
    "myFunc(arg)\n",
    "\n",
    "print \"\\n---\\n\"\n",
    "\n",
    "def myFunc(*args):\n",
    "    print args\n",
    "myFunc(2,3,4,5,4)\n",
    "\n",
    "print \"\\n---\\n\"    \n",
    "\n",
    "args= (2, 3, 4, 5, 4)\n",
    "myFunc(*args)\n",
    "\n",
    "print \"\\n---\\n\"\n",
    "\n",
    "def myFunc(**map):\n",
    "    print map\n",
    "myFunc(pippo = 1)\n"
   ]
  },
  {
   "cell_type": "code",
   "execution_count": 58,
   "metadata": {},
   "outputs": [
    {
     "name": "stdout",
     "output_type": "stream",
     "text": [
      "Errore --> 'int' object has no attribute 'items'\n",
      "\n",
      "---\n",
      "\n",
      "Help on function func in module __main__:\n",
      "\n",
      "func(dizionario)\n",
      "    INSERT HERE THE DOCUMENTATION\n",
      "\n",
      "\n",
      "---\n",
      "\n",
      "[('nome', 'pippo')]\n"
     ]
    }
   ],
   "source": [
    "def func(dizionario):\n",
    "    '''\n",
    "    INSERT HERE THE DOCUMENTATION\n",
    "    '''\n",
    "    try:\n",
    "        print dizionario.items()\n",
    "    except Exception as e:\n",
    "        raise Exception(e) # Raise Exception -> Something went wrong!    \n",
    "\n",
    "#qui una chiamata che genera errore        \n",
    "try: \n",
    "    func(1)\n",
    "except Exception as e:\n",
    "    print \"Errore -->\", e\n",
    "\n",
    "#proviamo a chiedere aiuto    \n",
    "print \"\\n---\\n\"\n",
    "help(func)\n",
    "\n",
    "print \"\\n---\\n\"\n",
    "#qui una chiamata che NON genera errore\n",
    "myDict = {'nome': 'pippo'}\n",
    "func(myDict)"
   ]
  },
  {
   "cell_type": "markdown",
   "metadata": {},
   "source": [
    "### Scoping"
   ]
  },
  {
   "cell_type": "code",
   "execution_count": 59,
   "metadata": {},
   "outputs": [
    {
     "name": "stdout",
     "output_type": "stream",
     "text": [
      "5\n",
      "0\n"
     ]
    }
   ],
   "source": [
    "num = 0\n",
    "def func():\n",
    "    num = 5  #una nuova variabile num viene inizializzata\n",
    "    print num\n",
    "\n",
    "func()\n",
    "print num"
   ]
  },
  {
   "cell_type": "code",
   "execution_count": 60,
   "metadata": {},
   "outputs": [
    {
     "name": "stdout",
     "output_type": "stream",
     "text": [
      "{'num': 3}\n",
      "{'num': 5}\n"
     ]
    }
   ],
   "source": [
    "myDict = {'num': 3}\n",
    "def func():\n",
    "    myDict['num'] = 5 \n",
    "print myDict\n",
    "func()\n",
    "print myDict"
   ]
  },
  {
   "cell_type": "markdown",
   "metadata": {
    "collapsed": true
   },
   "source": [
    "## Generators\n",
    "\n",
    "[QUA](https://wiki.python.org/moin/Generators) maggiori informazioni.\n"
   ]
  },
  {
   "cell_type": "code",
   "execution_count": 61,
   "metadata": {},
   "outputs": [],
   "source": [
    "l = [1,2,3,4]"
   ]
  },
  {
   "cell_type": "code",
   "execution_count": 62,
   "metadata": {},
   "outputs": [
    {
     "name": "stdout",
     "output_type": "stream",
     "text": [
      "before\n",
      "[]\n",
      "after\n",
      "[0, 1, 2, 3, 4, 5, 6, 7, 8, 9]\n"
     ]
    }
   ],
   "source": [
    "l = []\n",
    "print \"before\"\n",
    "print l\n",
    "for i in range(10):\n",
    "    l.append(i)\n",
    "print \"after\"\n",
    "print l\n",
    "\n"
   ]
  },
  {
   "cell_type": "code",
   "execution_count": 63,
   "metadata": {},
   "outputs": [
    {
     "name": "stdout",
     "output_type": "stream",
     "text": [
      "<generator object <genexpr> at 0x10477baa0>\n"
     ]
    }
   ],
   "source": [
    "g = (i for i in range(10)) #questo è un generatore\n",
    "print g"
   ]
  },
  {
   "cell_type": "code",
   "execution_count": 64,
   "metadata": {},
   "outputs": [
    {
     "name": "stdout",
     "output_type": "stream",
     "text": [
      "0\n",
      "1\n",
      "2\n",
      "---\n",
      "3\n",
      "4\n",
      "5\n",
      "6\n",
      "7\n",
      "8\n",
      "9\n"
     ]
    }
   ],
   "source": [
    "print g.next()\n",
    "print g.next()\n",
    "print g.next()\n",
    "print \"---\"\n",
    "for i in g:\n",
    "    print i"
   ]
  },
  {
   "cell_type": "code",
   "execution_count": 65,
   "metadata": {},
   "outputs": [
    {
     "name": "stdout",
     "output_type": "stream",
     "text": [
      "Empty generator\n"
     ]
    }
   ],
   "source": [
    "try:\n",
    "    print g.next()\n",
    "except StopIteration:\n",
    "    print \"Empty generator\"\n",
    "    "
   ]
  },
  {
   "cell_type": "code",
   "execution_count": 66,
   "metadata": {},
   "outputs": [
    {
     "name": "stdout",
     "output_type": "stream",
     "text": [
      "<generator object my_gen_func at 0x10477b960>\n",
      "0\n",
      "1\n",
      "2\n",
      "3\n",
      "4\n",
      "Stop Iteration!!\n"
     ]
    }
   ],
   "source": [
    "# My custom generator\n",
    "def my_gen_func(n):\n",
    "    for x in xrange(n):\n",
    "        yield x\n",
    "my_gen = my_gen_func(5)\n",
    "print my_gen\n",
    "print my_gen.next()\n",
    "print my_gen.next()\n",
    "\n",
    "for value in my_gen:\n",
    "    print value\n",
    "    \n",
    "try:\n",
    "    my_gen.next()\n",
    "except StopIteration:\n",
    "    print 'Stop Iteration!!'"
   ]
  },
  {
   "cell_type": "markdown",
   "metadata": {},
   "source": [
    "## Lambda Function\n",
    "\n",
    "Uno degli aspetti piu potenti e interessanti di Python è il fatto che supporta il cosidetto **funcional programming**, il che significa che esiste la possibilità di passare come parametro di una funzione un'altra funzione.\n",
    "\n",
    "Ecco un esempio:\n"
   ]
  },
  {
   "cell_type": "code",
   "execution_count": 67,
   "metadata": {},
   "outputs": [
    {
     "name": "stdout",
     "output_type": "stream",
     "text": [
      "[0, 1, 2, 3, 4, 5, 6, 7, 8, 9, 10, 11, 12, 13, 14, 15]\n"
     ]
    }
   ],
   "source": [
    "myList = range(16)\n",
    "print myList\n",
    "# e supponiamo di voler stampare solo i valori divisibili per 3"
   ]
  },
  {
   "cell_type": "code",
   "execution_count": 68,
   "metadata": {},
   "outputs": [
    {
     "name": "stdout",
     "output_type": "stream",
     "text": [
      "[0, 3, 6, 9, 12, 15]\n"
     ]
    }
   ],
   "source": [
    "result = []\n",
    "for value in myList:\n",
    "    if value % 3 == 0:\n",
    "        result.append(value)\n",
    "print result"
   ]
  },
  {
   "cell_type": "markdown",
   "metadata": {},
   "source": [
    "Non abbiamo effettivamente bisogno di creare una funzione, possiamo utilizzare le **lambda anonymous functions**.\n"
   ]
  },
  {
   "cell_type": "code",
   "execution_count": 69,
   "metadata": {},
   "outputs": [
    {
     "name": "stdout",
     "output_type": "stream",
     "text": [
      "[0, 3, 6, 9, 12, 15]\n"
     ]
    }
   ],
   "source": [
    "print filter(lambda x: x % 3 == 0, myList)"
   ]
  },
  {
   "cell_type": "markdown",
   "metadata": {},
   "source": [
    "Esempio: Dalla lista *languages*, stampiamo solo la parola *Python*. "
   ]
  },
  {
   "cell_type": "code",
   "execution_count": 70,
   "metadata": {},
   "outputs": [
    {
     "name": "stdout",
     "output_type": "stream",
     "text": [
      "['Python']\n"
     ]
    }
   ],
   "source": [
    "languages = [\"HTML\", \"JavaScript\", \"Python\", \"Ruby\"]\n",
    "\n",
    "# Add arguments to the filter()\n",
    "print filter(lambda item: item == \"Python\",languages )"
   ]
  },
  {
   "cell_type": "markdown",
   "metadata": {},
   "source": [
    "Altro Esempio:"
   ]
  },
  {
   "cell_type": "code",
   "execution_count": 71,
   "metadata": {},
   "outputs": [
    {
     "name": "stdout",
     "output_type": "stream",
     "text": [
      "[36, 49, 64]\n",
      "\n",
      "\n",
      "Filtered values\n",
      "[36, 49, 64]\n"
     ]
    }
   ],
   "source": [
    "squares = [x **2 for x in range(1,11) if x**2>=30 and x**2<=70]\n",
    "print squares\n",
    "\n",
    "print \"\\n\\nFiltered values\"\n",
    "# Filtriamo solo i quadrati compresi fra 30 e 70\n",
    "print filter(lambda x: x>=30 and x<=70, squares)\n"
   ]
  },
  {
   "cell_type": "markdown",
   "metadata": {},
   "source": [
    "Ecco un ultimo esempio utilizzando una stringa come una lista."
   ]
  },
  {
   "cell_type": "code",
   "execution_count": 72,
   "metadata": {},
   "outputs": [
    {
     "name": "stdout",
     "output_type": "stream",
     "text": [
      "I am another secret message!\n"
     ]
    }
   ],
   "source": [
    "garbledMessage = \"IXXX aXXmX aXXXnXoXXXXXtXhXeXXXXrX sXXXXeXcXXXrXeXt mXXeXsXXXsXaXXXXXXgXeX!XX\"\n",
    "print filter(lambda item: item!=\"X\",garbledMessage )\n"
   ]
  },
  {
   "cell_type": "code",
   "execution_count": null,
   "metadata": {},
   "outputs": [],
   "source": []
  }
 ],
 "metadata": {
  "kernelspec": {
   "display_name": "Python 2",
   "language": "python",
   "name": "python2"
  },
  "language_info": {
   "codemirror_mode": {
    "name": "ipython",
    "version": 2
   },
   "file_extension": ".py",
   "mimetype": "text/x-python",
   "name": "python",
   "nbconvert_exporter": "python",
   "pygments_lexer": "ipython2",
   "version": "2.7.13"
  }
 },
 "nbformat": 4,
 "nbformat_minor": 2
}
