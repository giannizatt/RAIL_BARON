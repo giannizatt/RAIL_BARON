{
 "cells": [
  {
   "cell_type": "markdown",
   "metadata": {},
   "source": [
    "# OOP: Object Oriented Programming\n",
    "\n",
    "## Classes & Objects\n",
    "\n",
    "Python classes inherit from a common object type, unlike other languages you don't need to declare which attributes the class is going to have. When you create an object you can assign any attribute to it even if it was an empty class.\n",
    "\n",
    "This is the reason why eventual object attributes in python just need to be assigned inside the object initialization method which is named \\__init__.\n",
    "\n",
    "Pay attention that whatever attribute you assign is only available for that object if not assigned inside the \\__init__ method to a default value."
   ]
  },
  {
   "cell_type": "code",
   "execution_count": 7,
   "metadata": {},
   "outputs": [
    {
     "name": "stdout",
     "output_type": "stream",
     "text": [
      "Hello People\n"
     ]
    }
   ],
   "source": [
    "class MyClass(object):\n",
    "    pass\n",
    "\n",
    "a = MyClass()\n",
    "a.name = 'Hello'\n",
    "a.surname = 'People'\n",
    "\n",
    "print a.name, a.surname"
   ]
  },
  {
   "cell_type": "code",
   "execution_count": 8,
   "metadata": {
    "scrolled": true
   },
   "outputs": [
    {
     "ename": "AttributeError",
     "evalue": "'MyClass' object has no attribute 'name'",
     "output_type": "error",
     "traceback": [
      "\u001b[0;31m---------------------------------------------------------------------------\u001b[0m",
      "\u001b[0;31mAttributeError\u001b[0m                            Traceback (most recent call last)",
      "\u001b[0;32m<ipython-input-8-f6557cd95f12>\u001b[0m in \u001b[0;36m<module>\u001b[0;34m()\u001b[0m\n\u001b[1;32m      1\u001b[0m \u001b[0mb\u001b[0m \u001b[0;34m=\u001b[0m \u001b[0mMyClass\u001b[0m\u001b[0;34m(\u001b[0m\u001b[0;34m)\u001b[0m\u001b[0;34m\u001b[0m\u001b[0m\n\u001b[0;32m----> 2\u001b[0;31m \u001b[0;32mprint\u001b[0m \u001b[0mb\u001b[0m\u001b[0;34m.\u001b[0m\u001b[0mname\u001b[0m \u001b[0;31m# ERROR, name is not defined inside the class declaration\u001b[0m\u001b[0;34m\u001b[0m\u001b[0m\n\u001b[0m",
      "\u001b[0;31mAttributeError\u001b[0m: 'MyClass' object has no attribute 'name'"
     ]
    }
   ],
   "source": [
    "b = MyClass()\n",
    "print b.name # ERROR, name is not defined inside the class declaration"
   ]
  },
  {
   "cell_type": "code",
   "execution_count": 9,
   "metadata": {},
   "outputs": [
    {
     "name": "stdout",
     "output_type": "stream",
     "text": [
      "Default Value\n"
     ]
    }
   ],
   "source": [
    "class MyClass(object):\n",
    "    name = 'Default Value'\n",
    "    \n",
    "b = MyClass()\n",
    "print b.name"
   ]
  },
  {
   "cell_type": "markdown",
   "metadata": {},
   "source": [
    "## Methods\n",
    "\n",
    "To declare instance methods simply define them inside the class block itself. The only special requirement is that they have a **self** argument which will automatically be the object instance they are called on."
   ]
  },
  {
   "cell_type": "code",
   "execution_count": 14,
   "metadata": {},
   "outputs": [],
   "source": [
    "class MyClass(object):\n",
    "    def ciao(self):\n",
    "        return 'Hello World'"
   ]
  },
  {
   "cell_type": "code",
   "execution_count": 16,
   "metadata": {},
   "outputs": [
    {
     "name": "stdout",
     "output_type": "stream",
     "text": [
      "<bound method MyClass.ciao of <__main__.MyClass object at 0x106420110>>\n",
      "Hello World\n"
     ]
    }
   ],
   "source": [
    "a = MyClass()\n",
    "print a.ciao\n",
    "print a.ciao()"
   ]
  },
  {
   "cell_type": "code",
   "execution_count": 39,
   "metadata": {},
   "outputs": [
    {
     "name": "stdout",
     "output_type": "stream",
     "text": [
      "unknown - unknown\n",
      "unknown - Comu\n",
      "Alex - Comu\n"
     ]
    }
   ],
   "source": [
    "class MyClass(object):\n",
    "    \n",
    "    def __init__(self, name='unknown', surname='unknown'):\n",
    "        self.name = name\n",
    "        self.surname = surname\n",
    "    \n",
    "    def __str__(self):\n",
    "        return '%s - %s' % (self.name, self.surname)\n",
    "    \n",
    "    def rename(self, newname):\n",
    "        self.name = newname\n",
    "           \n",
    "        \n",
    "a = MyClass()\n",
    "print a\n",
    "\n",
    "b = MyClass()\n",
    "b.surname = \"Comu\"\n",
    "print b\n",
    "b.rename(\"Alex\")\n",
    "print b"
   ]
  },
  {
   "cell_type": "code",
   "execution_count": 40,
   "metadata": {},
   "outputs": [
    {
     "name": "stdout",
     "output_type": "stream",
     "text": [
      "Alex - Comu\n"
     ]
    }
   ],
   "source": [
    "a = MyClass('Alex', 'Comu')\n",
    "print a"
   ]
  },
  {
   "cell_type": "markdown",
   "metadata": {},
   "source": [
    "## Properties\n",
    "\n",
    "Properties in Python, are attributes which instead of being froozen inside the object get calculated each time they are read or assigned."
   ]
  },
  {
   "cell_type": "code",
   "execution_count": 41,
   "metadata": {},
   "outputs": [],
   "source": [
    "class MyClass(object):\n",
    "    def __init__(self):\n",
    "        self.name = 'unknown'\n",
    "        self.surname = 'unknown'\n",
    "    \n",
    "    def __str__(self):\n",
    "        # Method called when we try to print the object\n",
    "        return self.fullname\n",
    "    \n",
    "    def rename(self, newname):\n",
    "        self.name = newname\n",
    "\n",
    "    # Getter\n",
    "    @property\n",
    "    def fullname(self):\n",
    "        return '%s - %s' % (self.name, self.surname) \n",
    "    \n",
    "    # Setter\n",
    "    @fullname.setter\n",
    "    def fullname(self, value):\n",
    "        self.name, self.surname = value.split(None, 1)"
   ]
  },
  {
   "cell_type": "code",
   "execution_count": 43,
   "metadata": {},
   "outputs": [
    {
     "name": "stdout",
     "output_type": "stream",
     "text": [
      "Alex - Comu Gnam\n",
      "unknown - unknown\n",
      "Alex - unknown\n"
     ]
    }
   ],
   "source": [
    "a = MyClass()\n",
    "a.fullname = \"Alex Comu Gnam\"\n",
    "print a\n",
    "\n",
    "b = MyClass()\n",
    "print b\n",
    "\n",
    "b.rename(\"Alex\")\n",
    "print b.fullname # same result\n",
    "# print b          # same result"
   ]
  },
  {
   "cell_type": "markdown",
   "metadata": {},
   "source": [
    "## Class Methods"
   ]
  },
  {
   "cell_type": "code",
   "execution_count": 44,
   "metadata": {},
   "outputs": [
    {
     "name": "stdout",
     "output_type": "stream",
     "text": [
      "The secret is: Hello \n",
      "Ciao Mondo\n"
     ]
    }
   ],
   "source": [
    "class MyClass(object):\n",
    "    _secret = None\n",
    "    \n",
    "    @classmethod\n",
    "    def hello(self):\n",
    "        return \"Ciao Mondo\"\n",
    "    \n",
    "    @classmethod\n",
    "    def init_with_secret(self, secret):\n",
    "        # Create and return the object\n",
    "        s = MyClass()\n",
    "        s._secret = secret\n",
    "        return s\n",
    "        \n",
    "    def __str__(self):\n",
    "        return \"The secret is: %s \" % self._secret\n",
    "    \n",
    "s = MyClass.init_with_secret(\"Hello\")\n",
    "print s\n",
    "\n",
    "hello = MyClass.hello()\n",
    "print hello"
   ]
  },
  {
   "cell_type": "markdown",
   "metadata": {},
   "source": [
    "## Inheritance"
   ]
  },
  {
   "cell_type": "code",
   "execution_count": 55,
   "metadata": {},
   "outputs": [],
   "source": [
    "class Persona(object):\n",
    "    _first_name = 'Unknown'\n",
    "    _last_name = 'Unknown'\n",
    "    \n",
    "    def __init__(self, first_name, last_name):\n",
    "        self._first_name = first_name\n",
    "        self._last_name = last_name\n",
    "    \n",
    "    def __str__(self):\n",
    "        return 'Hi %s! This is just an example' % self._first_name\n",
    "    \n"
   ]
  },
  {
   "cell_type": "code",
   "execution_count": 57,
   "metadata": {},
   "outputs": [
    {
     "name": "stdout",
     "output_type": "stream",
     "text": [
      "Hi John! This is just an example\n"
     ]
    }
   ],
   "source": [
    "p = Persona('John', 'Wayne')\n",
    "print p"
   ]
  },
  {
   "cell_type": "code",
   "execution_count": 61,
   "metadata": {},
   "outputs": [
    {
     "name": "stdout",
     "output_type": "stream",
     "text": [
      "Hi Alex! you're a student!\n"
     ]
    }
   ],
   "source": [
    "class Student(Persona):\n",
    "    def __str__(self):\n",
    "        # Override parent method\n",
    "        return 'Hi %s! you\\'re a student!' % self._first_name\n",
    "\n",
    "s = Student('Alex', 'Comu')\n",
    "print s"
   ]
  },
  {
   "cell_type": "markdown",
   "metadata": {},
   "source": [
    "## Decorators and Aspect-Oriented Programming\n",
    "\n",
    "\n",
    "Decorators and Aspects\n",
    "Aspect-oriented programming entails breaking down program logic into distinct parts (so-called concerns, cohesive areas of functionality) which have nothing to do with the relations between the parts, but only with the specific concern itself.\n",
    "\n",
    "Logging is a good example, it has nothing to do with the inheritance hierarchy, you might need to log methods from any kind of object. Using aspects for logging permits to have a cross cutting concern that can be applied to any class or method independently from its inheritance.\n",
    "\n",
    "**Aspects** in Python are implemented using **@decorators** which can be applied to classes or functions."
   ]
  },
  {
   "cell_type": "code",
   "execution_count": 63,
   "metadata": {},
   "outputs": [
    {
     "name": "stdout",
     "output_type": "stream",
     "text": [
      "- ENTER -\n",
      "hello\n",
      "- EXIT -\n"
     ]
    }
   ],
   "source": [
    "# Function Decorator\n",
    "def my_deco(f):\n",
    "    def inner_deco(*args, **kw):\n",
    "        print '- ENTER -'\n",
    "        f(*args,**kw)\n",
    "        print '- EXIT -'\n",
    "    return inner_deco\n",
    "\n",
    "@my_deco\n",
    "def hello():\n",
    "    print 'hello'\n",
    "    \n",
    "hello()"
   ]
  },
  {
   "cell_type": "code",
   "execution_count": 84,
   "metadata": {},
   "outputs": [],
   "source": [
    "def pippo(f):\n",
    "    def inner_pippo(*args, **kw):\n",
    "        try:\n",
    "            if type(args[0]) != str:\n",
    "                raise Exception\n",
    "            return f(*args, **kw)\n",
    "        except:\n",
    "            return 'Wrong parameter, I need a string!'\n",
    "    return inner_pippo"
   ]
  },
  {
   "cell_type": "code",
   "execution_count": 85,
   "metadata": {},
   "outputs": [],
   "source": [
    "@pippo\n",
    "def hello(name):\n",
    "    return 'Hello %s' % name"
   ]
  },
  {
   "cell_type": "code",
   "execution_count": 86,
   "metadata": {},
   "outputs": [
    {
     "name": "stdout",
     "output_type": "stream",
     "text": [
      "Hello Alex\n"
     ]
    }
   ],
   "source": [
    "print hello('Alex')"
   ]
  },
  {
   "cell_type": "code",
   "execution_count": 87,
   "metadata": {},
   "outputs": [
    {
     "name": "stdout",
     "output_type": "stream",
     "text": [
      "Wrong parameter, I need a string!\n",
      "Wrong parameter, I need a string!\n",
      "Wrong parameter, I need a string!\n"
     ]
    }
   ],
   "source": [
    "print hello(1)\n",
    "print hello()\n",
    "print hello([1,2,3])"
   ]
  },
  {
   "cell_type": "code",
   "execution_count": null,
   "metadata": {},
   "outputs": [],
   "source": []
  },
  {
   "cell_type": "code",
   "execution_count": null,
   "metadata": {},
   "outputs": [],
   "source": []
  }
 ],
 "metadata": {
  "kernelspec": {
   "display_name": "Python 2",
   "language": "python",
   "name": "python2"
  },
  "language_info": {
   "codemirror_mode": {
    "name": "ipython",
    "version": 2
   },
   "file_extension": ".py",
   "mimetype": "text/x-python",
   "name": "python",
   "nbconvert_exporter": "python",
   "pygments_lexer": "ipython2",
   "version": "2.7.13"
  }
 },
 "nbformat": 4,
 "nbformat_minor": 2
}
