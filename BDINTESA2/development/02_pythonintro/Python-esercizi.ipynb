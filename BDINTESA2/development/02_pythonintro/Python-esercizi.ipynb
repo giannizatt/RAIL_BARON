{
 "cells": [
  {
   "cell_type": "markdown",
   "metadata": {},
   "source": [
    "# EXERCISES\n",
    "\n",
    "## Esercizio 1\n",
    "\n",
    "Create a function to print each element of a given list:\n",
    "\n",
    "    POSITION X --> VALUE\n",
    "    POSITION Y --> VALUE\n",
    "\n",
    "Where X and Y will be, respectively, the position of the element in the list."
   ]
  },
  {
   "cell_type": "markdown",
   "metadata": {},
   "source": [
    "## Esercizio 2\n",
    "Create a function to print each element of a dictionary:\n",
    "\n",
    "    KEY X --> VALUE\n",
    "    KEY Y --> VALUE\n",
    "\n",
    "Where X and Y will be, respectively, the keys of the dictionary."
   ]
  },
  {
   "cell_type": "markdown",
   "metadata": {},
   "source": [
    "## Esercizio 3\n",
    "\n",
    "Edit the function **p_dict** and add the follow checks:\n",
    "\n",
    "* If the VALUE is a LIST --> Call function p_list\n",
    "* If the VALUE is a DICT --> Call function p_dict\n",
    "* If none of the above, just print the element"
   ]
  },
  {
   "cell_type": "markdown",
   "metadata": {},
   "source": [
    "## Esercizio 4\n",
    "\n",
    "Create a function that print out, from a given string, the list of the words and how many words are in the string (consider words each digit separated by space).\n",
    "\n",
    "    OUTPUT:\n",
    "    Word1\n",
    "    Word2\n",
    "    .\n",
    "    .\n",
    "    .\n",
    "    WordN\n",
    "    Number or Words: X"
   ]
  },
  {
   "cell_type": "code",
   "execution_count": null,
   "metadata": {},
   "outputs": [],
   "source": []
  },
  {
   "cell_type": "markdown",
   "metadata": {},
   "source": [
    "# Esercizi su dataset SPEEDTEST.CSV\n"
   ]
  },
  {
   "cell_type": "code",
   "execution_count": 1,
   "metadata": {},
   "outputs": [
    {
     "name": "stdout",
     "output_type": "stream",
     "text": [
      "2000\n",
      "{'CLIENT_COUNTRY': 'Italy', 'CLIENT_REGION': '12', 'CLIENT_IP': '94.125.*.*', 'CLIENT_OPERATING_SYSTEM': 'Mac OS X', 'CLIENT_BROWSER': 'Safari 9.0.2', 'SERVER_NAME': 'Turin', 'LATENCY': '11', 'ISP': 'PSA S.r.l.', 'CLIENT_CITY': 'Bardonecchia', 'UPLOAD_KBPS': '34220', 'USER_AGENT': 'Mozilla/5.0 (Macintosh; Intel Mac OS X 10_11_2) AppleWebKit/601.3.9 (KHTML, like Gecko) Version/9.0.2 Safari/601.3.9', 'TEST_DATE': '1/1/2016 00:01:12 GMT', 'CLIENT_LONGITUDE': '6.6989', 'DOWNLOAD_KBPS': '60459', 'CLIENT_LATITUDE': '45.0746'}\n"
     ]
    }
   ],
   "source": [
    "import csv\n",
    "with open('datasets/speedtest.csv', 'r') as csvreader:\n",
    "    reader = csv.DictReader(csvreader)\n",
    "    data = [obj for obj in reader]\n",
    "print len(data)\n",
    "print data[0]"
   ]
  },
  {
   "cell_type": "markdown",
   "metadata": {},
   "source": [
    "## EX 1\n",
    "\n",
    "How many times Turin appears? (on key: **CLIENT_CITY**)\n",
    "\n",
    "## EX 2\n",
    "\n",
    "Count occurrences of each city (on key: **CLIENT_CITY**)\n",
    "\n",
    "## EX 3\n",
    "\n",
    "Find entry with MAX Value of **DOWNLOAD_KBPS** and **UPLOAD_KBPS**\n",
    "\n",
    "## EX 4\n",
    "\n",
    "Find entry with MIN Value of **DOWNLOAD_KBPS** and **UPLOAD_KBPS**\n",
    "\n",
    "## EX 5 \n",
    "\n",
    "Find mean velocity for **DOWNLOAD_KBPS** and **UPLOAD_KBPS** for Turin city\n",
    "\n",
    "## EX 6\n",
    "\n",
    "For each city, Find mean velocity for **DOWNLOAD_KBPS** and **UPLOAD_KBPS**\n",
    "\n",
    "## EX 7 \n",
    "\n",
    "Find the more frequent **ISP**\n",
    "\n",
    "## EX 8\n",
    "\n",
    "Find the more frequent **BROWSER**\n",
    "\n",
    "## EX 9\n",
    "\n",
    "For the *more frequent* ISP:\n",
    "\n",
    "* Find entry with MAX / MIN Value of DOWNLOAD_KBPS\n",
    "* Find more frequent City\n",
    "* Find more frequent Browser\n",
    "\n",
    "## EX 10\n",
    "\n",
    "For each operating system, find the more frequent Browser."
   ]
  },
  {
   "cell_type": "code",
   "execution_count": null,
   "metadata": {},
   "outputs": [],
   "source": []
  }
 ],
 "metadata": {
  "kernelspec": {
   "display_name": "Python 2",
   "language": "python",
   "name": "python2"
  },
  "language_info": {
   "codemirror_mode": {
    "name": "ipython",
    "version": 2
   },
   "file_extension": ".py",
   "mimetype": "text/x-python",
   "name": "python",
   "nbconvert_exporter": "python",
   "pygments_lexer": "ipython2",
   "version": "2.7.13"
  }
 },
 "nbformat": 4,
 "nbformat_minor": 2
}
