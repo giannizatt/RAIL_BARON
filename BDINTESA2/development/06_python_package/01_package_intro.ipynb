{
 "cells": [
  {
   "cell_type": "markdown",
   "metadata": {},
   "source": [
    "# Python Package\n",
    "\n",
    "You should create a package:\n",
    "\n",
    "* To install with pip or easy_install.\n",
    "* To specify as a dependency for another package.\n",
    "* For other users to download and run tests.\n",
    "* For other users to work on and have immediate familiary with the basic directory structure.\n",
    "* To add and distribute documentation.\n",
    "\n",
    "Let's start from scratch!"
   ]
  },
  {
   "cell_type": "markdown",
   "metadata": {},
   "source": [
    "## Choose the Name\n",
    "\n",
    "Python module/package names should generally follow the following constraints:\n",
    "\n",
    "* All lowercase\n",
    "* Unique on pypi, even if you don’t want to make your package publicly available (you might want to specify it privately as a dependency later)\n",
    "* Underscore-separated or no word separators at all (don’t use hyphens)\n",
    "\n",
    "For our test the package will be called **bigdiveintesa**."
   ]
  },
  {
   "cell_type": "markdown",
   "metadata": {},
   "source": [
    "## Create the directory structure\n",
    "\n",
    "The initial directory should like look:\n",
    "\n",
    "    bigdiveintesa/\n",
    "        bigdiveintesa/\n",
    "            __init__.py\n",
    "        setup.py\n",
    "        \n",
    "The top level directory **bigdiveintesa** is the root of the project (where you're should do your **git init**). The subdirectory **bigdiveintesa** is the actual Python module.\n",
    "\n",
    "For starters, create a **hello** function in **\\__init\\__.py**:\n"
   ]
  },
  {
   "cell_type": "code",
   "execution_count": 2,
   "metadata": {},
   "outputs": [],
   "source": [
    "def hello():\n",
    "    return \"Hello World\""
   ]
  },
  {
   "cell_type": "markdown",
   "metadata": {},
   "source": [
    "And then configure the **setup.py** file with the essential information you need to create a simple package. You should write something like:"
   ]
  },
  {
   "cell_type": "code",
   "execution_count": null,
   "metadata": {},
   "outputs": [],
   "source": [
    "from setuptools import setup\n",
    "\n",
    "setup(name='bigdiveintesa',\n",
    "      version='0.1',\n",
    "      description='A very basic intesa application',\n",
    "      url='http://github.com/MYACCOUNT/MYREPOSITORY',\n",
    "      author='Alex Comu',\n",
    "      author_email='alex.comunian@top-ix.org',\n",
    "      license='MIT',\n",
    "      packages=['bigdiveintesa'],\n",
    "      zip_safe=False)"
   ]
  },
  {
   "cell_type": "markdown",
   "metadata": {},
   "source": [
    "Now we can install locally the package using **pip**. So, inside the root directory execute:\n",
    "\n",
    "    pip install .\n",
    "\n",
    "OR\n",
    "\n",
    "    python setup.py develop\n",
    "    \n",
    "    \n",
    "The output is something like:\n",
    "\n",
    "    Alex-MacPRO:bigdiveintesa alexcomu: pip install .\n",
    "    Processing /Users/alexcomu/Desktop/WORK/BIGDIVE/BDINTESA2/development/06_python_package/bigdiveintesa\n",
    "    Installing collected packages: bigdiveintesa\n",
    "    Running setup.py install for bigdiveintesa ... done\n",
    "    Successfully installed bigdiveintesa-0.1\n",
    "    \n",
    "### Good!\n",
    "\n",
    "Now, try to ask for the package installed, you should see also this new package:\n",
    "\n",
    "    Alex-MacPRO:bigdiveintesa alexcomu: pip freeze|grep intesa\n",
    "    bigdiveintesa==0.1\n",
    "    \n",
    "The package is installed! Try to open a new terminal, run pèython and try to import the library:\n",
    "\n",
    "    Alex-MacPRO:bigdiveintesa alexcomu: python\n",
    "    Python 2.7.13 (default, Dec 27 2016, 16:03:09) \n",
    "    [GCC 4.2.1 Compatible Apple LLVM 8.0.0 (clang-800.0.42.1)] on darwin\n",
    "    Type \"help\", \"copyright\", \"credits\" or \"license\" for more information.\n",
    "    >>> from bigdiveintesa import hello\n",
    "    >>> print hello()\n",
    "    Hello World"
   ]
  },
  {
   "cell_type": "markdown",
   "metadata": {},
   "source": [
    "## Good job!\n",
    "\n",
    "Cool, you've just created your first python package, congrats! :)\n",
    "\n",
    "Now, let's try to add new files! Create a new file inside the package called **dev.py**:\n",
    "\n",
    "    bigdiveintesa/\n",
    "        bigdiveintesa/\n",
    "            __init__.py\n",
    "            dev.py\n",
    "        setup.py\n",
    "\n",
    "Inside the file create a new function:"
   ]
  },
  {
   "cell_type": "code",
   "execution_count": 4,
   "metadata": {},
   "outputs": [],
   "source": [
    "def hello_again():\n",
    "    return \"Hello Diver!\""
   ]
  },
  {
   "cell_type": "markdown",
   "metadata": {},
   "source": [
    "Now, let's open again the terminal and try to use this new function. We have two options:\n",
    "\n",
    "    >>> from bigdiveintesa import dev\n",
    "    >>> print dev.hello_again()\n",
    "    \n",
    "OR:\n",
    "\n",
    "    >>> from bigdiveintesa.dev import hello_again\n",
    "    >>> print hello_again()"
   ]
  },
  {
   "cell_type": "markdown",
   "metadata": {},
   "source": [
    "## Install requirements\n",
    "\n",
    "We can directly specify dependencies inside the setup file, simply adding a key called **install_requires**:\n",
    "\n",
    "    from setuptools import setup\n",
    "\n",
    "    setup(name='bigdiveintesa',\n",
    "          version='0.1',\n",
    "          description='A very basic intesa application',\n",
    "          url='http://github.com/MYACCOUNT/MYREPOSITORY',\n",
    "          author='Alex Comu',\n",
    "          author_email='alex.comunian@top-ix.org',\n",
    "          license='MIT',\n",
    "          packages=['bigdiveintesa'],\n",
    "          install_requires=['pandas'],\n",
    "          zip_safe=False)\n",
    "          \n",
    "Now try to reainstall the package!\n",
    "\n",
    "    pip install ."
   ]
  },
  {
   "cell_type": "markdown",
   "metadata": {},
   "source": [
    "## Add Metadata\n",
    "\n",
    "The **setuptools.setup()** call accepts a variety of keyword arguments to specify additional metadata about your package. This can help people find your package and evaluate quickly whether or not it is what they’re looking for:\n",
    "\n",
    "    from setuptools import setup\n",
    "\n",
    "    setup(name='funniest',\n",
    "          version='0.1',\n",
    "          description='The funniest joke in the world',\n",
    "          long_description='Really, the funniest around.',\n",
    "          classifiers=[\n",
    "            'Development Status :: 1 - Alpha',\n",
    "            'License :: OSI Approved :: MIT License',\n",
    "            'Programming Language :: Python :: 2.7',\n",
    "            'Topic :: Text Processing :: Linguistic',\n",
    "          ],\n",
    "          keywords='funniest joke comedy flying circus',\n",
    "          url='http://github.com/storborg/funniest',\n",
    "          author='Flying Circus',\n",
    "          author_email='flyingcircus@example.com',\n",
    "          license='MIT',\n",
    "          packages=['funniest'],\n",
    "          install_requires=[\n",
    "              'markdown',\n",
    "          ],\n",
    "          include_package_data=True,\n",
    "          zip_safe=False)"
   ]
  },
  {
   "cell_type": "markdown",
   "metadata": {},
   "source": [
    "## Run your package from Command Line\n",
    "\n",
    "You can run your package directly from command line, you need to edit the **setup.py** file adding a key **entry_points**. As value you need to add the following text:\n",
    "\n",
    "    entry_points={\n",
    "          'console_scripts': [\n",
    "              'bigdiveintesa = bigdiveintesa.main:main'\n",
    "          ]\n",
    "      }\n",
    "\n",
    "Now we need to create a **main.py** file inside our module with inside a main function! Inside this main function call the old method **hello_again**!"
   ]
  },
  {
   "cell_type": "code",
   "execution_count": null,
   "metadata": {},
   "outputs": [],
   "source": [
    "def main():\n",
    "    from bigdiveintesa.dev import hello_again"
   ]
  },
  {
   "cell_type": "markdown",
   "metadata": {},
   "source": [
    "## How to Use a configuration File\n",
    "\n",
    "Sometimes you need to create a configuration file to setup the initial environment of your application. With Python you can use the module **configparser** to provide a configuration file to your script. \n",
    "\n",
    "The config file is a file **.ini**, the content should like:\n",
    "\n",
    "    [hello]\n",
    "    world = Ciao\n",
    "    \n",
    "    [pippo]\n",
    "    pluto = paperino\n",
    "\n",
    "So, create a **config.ini** file inside the root directory!\n",
    "\n",
    "\n",
    "Then add the module configparser to the **install_requires** key inside the **setup.py** file.\n",
    "\n",
    "Now, edit your main file as follow to explicit ask for a config file in input.\n"
   ]
  },
  {
   "cell_type": "code",
   "execution_count": null,
   "metadata": {},
   "outputs": [],
   "source": [
    "from configparser import ConfigParser\n",
    "import argparse, os\n",
    "\n",
    "def parse_input():\n",
    "    parser = argparse.ArgumentParser()\n",
    "    parser.add_argument(\"config_file\", \n",
    "                        type=str, \n",
    "                        help=\"Configuration File\")\n",
    "    return parser.parse_args()\n",
    "\n",
    "def exec_main():\n",
    "    parsed_input = parse_input()\n",
    "    parser = ConfigParser()\n",
    "    parser.read(os.path.expanduser(parsed_input.config_file))\n",
    "    print 'Reading Configuration..'\n",
    "    print parser.get('hello', 'world')\n",
    "    print parser.get('pippo', 'pluto')\n",
    "\n",
    "def main():\n",
    "    print 'Welcome to my new package'\n",
    "    exec_main()"
   ]
  },
  {
   "cell_type": "markdown",
   "metadata": {},
   "source": [
    "Great! Now, reinstall the package (a good idea is to change version to **0.2**).\n",
    "\n",
    "After the installation run on your terminal:\n",
    "\n",
    "    bigdiveintesa -h\n",
    "    \n",
    "You should see something like:\n",
    "\n",
    "    Welcome to my new package\n",
    "    usage: bigdiveintesa [-h] config_file\n",
    "\n",
    "    positional arguments:\n",
    "      config_file  Configuration File\n",
    "\n",
    "    optional arguments:\n",
    "      -h, --help   show this help message and exit\n",
    "      \n",
    "Now run your package passing as argument the config file!\n",
    "\n",
    "    Alex-MacPRO:bigdiveintesa alexcomu: bigdiveintesa config.ini \n",
    "    Welcome to my new package\n",
    "    Reading Configuration..\n",
    "    Ciao\n",
    "    paperino"
   ]
  },
  {
   "cell_type": "markdown",
   "metadata": {},
   "source": [
    "## Exercise 1\n",
    "\n",
    "Create a Python Package named **bigdiveintesaex1** that expose Flask API with Pandas! \n",
    "\n",
    "## Exercise 2\n",
    "\n",
    "Create a Python package named **bigdiveintesaex2**, add a configuration file, inside the main function call a pandas method. "
   ]
  },
  {
   "cell_type": "code",
   "execution_count": null,
   "metadata": {},
   "outputs": [],
   "source": []
  }
 ],
 "metadata": {
  "kernelspec": {
   "display_name": "Python 2",
   "language": "python",
   "name": "python2"
  },
  "language_info": {
   "codemirror_mode": {
    "name": "ipython",
    "version": 2
   },
   "file_extension": ".py",
   "mimetype": "text/x-python",
   "name": "python",
   "nbconvert_exporter": "python",
   "pygments_lexer": "ipython2",
   "version": "2.7.13"
  }
 },
 "nbformat": 4,
 "nbformat_minor": 2
}
