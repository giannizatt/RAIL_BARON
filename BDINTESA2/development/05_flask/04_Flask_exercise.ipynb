{
 "cells": [
  {
   "cell_type": "markdown",
   "metadata": {},
   "source": [
    "# Flask Exercise\n",
    "\n",
    "Create a Flask application (json only) to manage a simple Library.\n",
    "\n",
    "Entities:\n",
    "\n",
    "- Author\n",
    "- Book\n",
    "- Library\n",
    "\n",
    "A Library can contain multiple books and is identified by an ID. A single Book has information about title, abstract, publication date and Author. Each Author has first_name and last_name.\n",
    "\n",
    "The Flask application must expose all the needed API to manage the system:\n",
    "\n",
    "- Create / Read / Update / Delete a single Author\n",
    "- Create / Read / Update / Delete a single Book\n",
    "- Create / Read / Update / Delete a single Library\n",
    "- Add / Remove book from Library"
   ]
  },
  {
   "cell_type": "code",
   "execution_count": null,
   "metadata": {},
   "outputs": [],
   "source": []
  }
 ],
 "metadata": {
  "kernelspec": {
   "display_name": "Python 2",
   "language": "python",
   "name": "python2"
  },
  "language_info": {
   "codemirror_mode": {
    "name": "ipython",
    "version": 2
   },
   "file_extension": ".py",
   "mimetype": "text/x-python",
   "name": "python",
   "nbconvert_exporter": "python",
   "pygments_lexer": "ipython2",
   "version": "2.7.13"
  }
 },
 "nbformat": 4,
 "nbformat_minor": 2
}
