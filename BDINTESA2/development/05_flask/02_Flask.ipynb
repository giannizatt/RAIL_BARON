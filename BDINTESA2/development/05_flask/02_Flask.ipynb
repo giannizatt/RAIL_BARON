{
 "cells": [
  {
   "cell_type": "markdown",
   "metadata": {
    "collapsed": true
   },
   "source": [
    "# Flask\n",
    "\n",
    "Microframework for web development in Python.\n",
    "\n",
    "## Install\n",
    "\n",
    "Use **pip**\n",
    "\n",
    "    pip install flask"
   ]
  },
  {
   "cell_type": "code",
   "execution_count": null,
   "metadata": {},
   "outputs": [],
   "source": [
    "from flask import Flask"
   ]
  },
  {
   "cell_type": "code",
   "execution_count": null,
   "metadata": {},
   "outputs": [],
   "source": [
    "app = Flask(\"BigDive\")\n",
    "\n",
    "@app.route('/')\n",
    "def hello():\n",
    "    return \"Welcome!\"\n",
    "\n",
    "app.run()\n"
   ]
  },
  {
   "cell_type": "markdown",
   "metadata": {},
   "source": [
    "Now open your browser on [http://localhost:5000](http://localhost:5000). You'll see a simple string as response. Try to inspect the page with your browser inspector!"
   ]
  },
  {
   "cell_type": "markdown",
   "metadata": {},
   "source": [
    "Ok, looks easy! Now try to add new URLs!"
   ]
  },
  {
   "cell_type": "code",
   "execution_count": null,
   "metadata": {},
   "outputs": [],
   "source": [
    "app = Flask(\"BigDive\")\n",
    "\n",
    "@app.route('/')\n",
    "def hello():\n",
    "    return \"Welcome!\"\n",
    "\n",
    "@app.route('/hello')\n",
    "def ciao():\n",
    "    return \"Hello My Friend\"\n",
    "\n",
    "@app.route('/intesa')\n",
    "def intesa():\n",
    "    return str(2+2)\n",
    "\n",
    "app.run()"
   ]
  },
  {
   "cell_type": "markdown",
   "metadata": {},
   "source": [
    "Perfect! Now that you're able to add URLs, try to pass parameters to your call! A parameter is an object that you can pass to your URL, for example:\n",
    "\n",
    "    http://localhost:5000/hello/Alex\n",
    "    \n",
    "What I want to do is to send **Alex** as argument to my function **ciao**.\n",
    "Here how to do it:"
   ]
  },
  {
   "cell_type": "code",
   "execution_count": null,
   "metadata": {},
   "outputs": [],
   "source": [
    "app = Flask(\"BigDive\")\n",
    "\n",
    "@app.route('/')\n",
    "def hello():\n",
    "    return \"Welcome!\"\n",
    "\n",
    "@app.route('/hello')\n",
    "@app.route('/hello/<name>')\n",
    "def ciao(name=\"Pippo\"):\n",
    "    return \"Hello %s!\" % name \n",
    "\n",
    "app.run()"
   ]
  },
  {
   "cell_type": "markdown",
   "metadata": {},
   "source": [
    "Now **http://localhost:5000/hello** is working but will always reply with \"Hello Pippo!\""
   ]
  },
  {
   "cell_type": "markdown",
   "metadata": {},
   "source": [
    "If you need to send multiple arguments you can just add multiple parameters to the function!"
   ]
  },
  {
   "cell_type": "code",
   "execution_count": null,
   "metadata": {},
   "outputs": [],
   "source": [
    "app = Flask(\"BigDive\")\n",
    "\n",
    "@app.route('/')\n",
    "def hello():\n",
    "    return \"Welcome!\"\n",
    "\n",
    "@app.route('/hello/<name>')\n",
    "def ciao(name):\n",
    "    print type(name)\n",
    "    return \"Hello %s!\" % name \n",
    "\n",
    "@app.route('/sum/<int:X>/<int:Y>')\n",
    "def sum(X, Y):\n",
    "    print type(X)\n",
    "    return \"Result: %s\" % (X+Y)\n",
    "\n",
    "app.run()"
   ]
  },
  {
   "cell_type": "markdown",
   "metadata": {},
   "source": [
    "Flask provides also automatic response for HTTP Error such as **404** and **500**. Let's try!"
   ]
  },
  {
   "cell_type": "code",
   "execution_count": null,
   "metadata": {},
   "outputs": [],
   "source": [
    "app = Flask(\"BigDive\")\n",
    "\n",
    "@app.route('/')\n",
    "def hello():\n",
    "    return welcome # This is a NameError, welcome does not exists\n",
    "app.run()"
   ]
  },
  {
   "cell_type": "markdown",
   "metadata": {},
   "source": [
    "Now try to open this two links:\n",
    "\n",
    "    http://localhost:500/\n",
    "    http://localhost:500/where_are_you\n",
    "    \n",
    "In the first case you'll receive a **500 Error**, in the second case a **404 Not Found**. Both are HTML Response, check the HTTP Headers!!\n",
    "    "
   ]
  },
  {
   "cell_type": "markdown",
   "metadata": {},
   "source": [
    "## HTTP Methods\n",
    "\n",
    "By default every single URL will reply only to **GET** requests.\n",
    "\n",
    "You can manually set a list of allowed methods."
   ]
  },
  {
   "cell_type": "code",
   "execution_count": null,
   "metadata": {},
   "outputs": [],
   "source": [
    "app = Flask(\"BigDive\")\n",
    "\n",
    "@app.route('/', methods=['get'])\n",
    "def hello():\n",
    "    return \"Welcome!\"\n",
    "\n",
    "@app.route('/post_only', methods=['post'])\n",
    "def post_only():\n",
    "    # If you call this URL with GET you'll receive a \n",
    "    # \"Method Now Allowed\" response\n",
    "    return True\n",
    "app.run()"
   ]
  },
  {
   "cell_type": "markdown",
   "metadata": {},
   "source": [
    "Multiple https methods allowed for the same function:"
   ]
  },
  {
   "cell_type": "code",
   "execution_count": null,
   "metadata": {},
   "outputs": [],
   "source": [
    "from flask import request\n",
    "app = Flask(\"BigDive\")\n",
    "\n",
    "@app.route('/', methods=['get', 'post'])\n",
    "def hello():\n",
    "    if request.method == 'POST':\n",
    "        return 'Received POST'\n",
    "    return 'Received GET'\n",
    "\n",
    "app.run()"
   ]
  },
  {
   "cell_type": "markdown",
   "metadata": {},
   "source": [
    "To test it open a new notebook and try to call the URL using different methods! Copy the code down here:"
   ]
  },
  {
   "cell_type": "code",
   "execution_count": null,
   "metadata": {},
   "outputs": [],
   "source": [
    "import requests\n",
    "get_resp = requests.get('http://localhost:5000/')\n",
    "post_resp = requests.post('http://localhost:5000/')\n",
    "print get_resp.text\n",
    "print post_resp.text"
   ]
  },
  {
   "cell_type": "markdown",
   "metadata": {},
   "source": [
    "## Redirect and Errors\n",
    "\n",
    "To redirect a user to another endpoint, use the **redirect()** function; to abort a request early with an error code, use the **abort()** function.\n",
    "\n",
    "Remember to check the HTTP Responses!"
   ]
  },
  {
   "cell_type": "code",
   "execution_count": null,
   "metadata": {},
   "outputs": [],
   "source": [
    "from flask import abort, redirect\n",
    "\n",
    "app = Flask(\"BigDive\")\n",
    "\n",
    "@app.route('/')\n",
    "def hello():\n",
    "    return redirect('/login')\n",
    "\n",
    "@app.route('/login')\n",
    "def login():\n",
    "    return \"login page\"\n",
    "\n",
    "@app.route('/mmm')\n",
    "def mmm():\n",
    "    abort(404)\n",
    "    \n",
    "@app.errorhandler(404)\n",
    "def not_found(error):\n",
    "    # Remember to set the HTTP Status\n",
    "    return \"Hey, What are you looking for?\", 404\n",
    "\n",
    "app.run()"
   ]
  },
  {
   "cell_type": "markdown",
   "metadata": {},
   "source": [
    "## Get Post Data"
   ]
  },
  {
   "cell_type": "code",
   "execution_count": null,
   "metadata": {},
   "outputs": [],
   "source": [
    "from flask import request\n",
    "app = Flask(\"BigDive\")\n",
    "\n",
    "\n",
    "# This method receive POST ONLY \n",
    "# Is waiting for 2 parameters: \n",
    "# name\n",
    "# lastname\n",
    "@app.route('/', methods=['post'])\n",
    "def hello():\n",
    "    data = request.form\n",
    "    print data\n",
    "    return \"Hello %s %s!\" % (data['name'], data['lastname'])\n",
    "    \n",
    "app.run()"
   ]
  },
  {
   "cell_type": "markdown",
   "metadata": {},
   "source": [
    "Again, try to call the URL using **requests**:"
   ]
  },
  {
   "cell_type": "code",
   "execution_count": null,
   "metadata": {},
   "outputs": [],
   "source": [
    "import requests\n",
    "post_resp = requests.post('http://localhost:5000/', \n",
    "                          data={\"name\":\"Alex\", \"lastname\":\"Comu\"})\n",
    "print post_resp\n",
    "print post_resp.text"
   ]
  },
  {
   "cell_type": "markdown",
   "metadata": {},
   "source": [
    "## Return HTML\n",
    "\n",
    "Of course you can a Template Engine but in our case we're going to reply with sample raw HTML strings!"
   ]
  },
  {
   "cell_type": "code",
   "execution_count": null,
   "metadata": {},
   "outputs": [],
   "source": [
    "app = Flask(\"BigDive\")\n",
    "\n",
    "@app.route('/')\n",
    "def hello():\n",
    "    return '''<html><head><title>Hello</title></head>\n",
    "<body>\n",
    "    <h1>Welcome!</h1><br/><h2>This is my super website!</h2>\n",
    "</body>\n",
    "</html>'''\n",
    "app.run()"
   ]
  },
  {
   "cell_type": "markdown",
   "metadata": {},
   "source": [
    "# Return Json"
   ]
  },
  {
   "cell_type": "code",
   "execution_count": null,
   "metadata": {},
   "outputs": [],
   "source": [
    "from flask import jsonify"
   ]
  },
  {
   "cell_type": "code",
   "execution_count": null,
   "metadata": {},
   "outputs": [],
   "source": [
    "app = Flask(\"BigDive\")\n",
    "\n",
    "@app.route('/')\n",
    "def hello():\n",
    "    return jsonify(\n",
    "            status=200,\n",
    "            detail=\"Welcome\",\n",
    "            services=[{\"blabla\": \"Hello World!\"}]\n",
    "        ), 200\n",
    "\n",
    "app.run()"
   ]
  },
  {
   "cell_type": "markdown",
   "metadata": {},
   "source": [
    "# Try the Exercise!"
   ]
  }
 ],
 "metadata": {
  "kernelspec": {
   "display_name": "Python 2",
   "language": "python",
   "name": "python2"
  },
  "language_info": {
   "codemirror_mode": {
    "name": "ipython",
    "version": 2
   },
   "file_extension": ".py",
   "mimetype": "text/x-python",
   "name": "python",
   "nbconvert_exporter": "python",
   "pygments_lexer": "ipython2",
   "version": "2.7.13"
  }
 },
 "nbformat": 4,
 "nbformat_minor": 2
}
