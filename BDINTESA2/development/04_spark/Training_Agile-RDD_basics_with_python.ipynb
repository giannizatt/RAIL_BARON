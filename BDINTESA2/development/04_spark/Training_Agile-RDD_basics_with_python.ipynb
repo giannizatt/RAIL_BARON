{
 "cells": [
  {
   "cell_type": "markdown",
   "metadata": {},
   "source": [
    "# Programming with RDD\n",
    "\n",
    "\n",
    "## download\n",
    "\n",
    "\n",
    "## RDD Creation examples\n",
    "\n",
    "1. Parallelize method\n",
    "2. Reading from external source"
   ]
  },
  {
   "cell_type": "code",
   "execution_count": null,
   "metadata": {},
   "outputs": [],
   "source": [
    "sc"
   ]
  },
  {
   "cell_type": "code",
   "execution_count": null,
   "metadata": {
    "collapsed": true
   },
   "outputs": [],
   "source": [
    "localList = range(1,20)"
   ]
  },
  {
   "cell_type": "code",
   "execution_count": null,
   "metadata": {
    "collapsed": true
   },
   "outputs": [],
   "source": [
    "listRDD = sc.parallelize(localList)"
   ]
  },
  {
   "cell_type": "code",
   "execution_count": null,
   "metadata": {},
   "outputs": [],
   "source": [
    "listRDD"
   ]
  },
  {
   "cell_type": "markdown",
   "metadata": {},
   "source": [
    "We've now created a RDD of integers ... let's peek into it"
   ]
  },
  {
   "cell_type": "code",
   "execution_count": null,
   "metadata": {},
   "outputs": [],
   "source": [
    "listRDD.take(2)"
   ]
  },
  {
   "cell_type": "markdown",
   "metadata": {},
   "source": [
    "\n",
    "Let's now read a text file from the distributed filesystem. It contains information about people. The data structure is as follows:\n",
    "\n",
    "- name: String\n",
    "- surname: String \n",
    "- town: String \n",
    "- age: Int \n",
    "- gender: String \n",
    "- bloodType: String \n",
    "- occupation: String"
   ]
  },
  {
   "cell_type": "markdown",
   "metadata": {},
   "source": [
    "Let's create an object representing our domain"
   ]
  },
  {
   "cell_type": "code",
   "execution_count": null,
   "metadata": {
    "collapsed": true
   },
   "outputs": [],
   "source": [
    "from collections import namedtuple\n",
    "\n",
    "Person = namedtuple(\"Person\",[\"name\",\"surname\",\"town\",\"age\",\"gender\",\"bloodType\",\"occupation\"])\n",
    "\n",
    "#Parsing util\n",
    "def personFromString(inputString):\n",
    "    rawFields = map(lambda x: x.strip(),inputString.split(\";\"))\n",
    "    return Person(rawFields[1],\n",
    "           rawFields[2],\n",
    "           rawFields[3],\n",
    "           int(rawFields[4]),\n",
    "           rawFields[0],\n",
    "           rawFields[5],\n",
    "           rawFields[6])\n"
   ]
  },
  {
   "cell_type": "code",
   "execution_count": null,
   "metadata": {
    "collapsed": true
   },
   "outputs": [],
   "source": [
    "rawPeopleRdd = sc.textFile(\"/localpath/to/the/file/peopleEnriched.csv\")"
   ]
  },
  {
   "cell_type": "code",
   "execution_count": null,
   "metadata": {},
   "outputs": [],
   "source": [
    "rawPeopleRdd"
   ]
  },
  {
   "cell_type": "code",
   "execution_count": null,
   "metadata": {},
   "outputs": [],
   "source": [
    "rawPeopleRdd.take(1)"
   ]
  },
  {
   "cell_type": "code",
   "execution_count": null,
   "metadata": {},
   "outputs": [],
   "source": [
    "rawPeopleRdd.count()"
   ]
  },
  {
   "cell_type": "code",
   "execution_count": null,
   "metadata": {},
   "outputs": [],
   "source": [
    "peopleRDD = rawPeopleRdd.map(lambda line: personFromString(line))\n",
    "peopleRDD.cache()"
   ]
  },
  {
   "cell_type": "code",
   "execution_count": null,
   "metadata": {
    "scrolled": true
   },
   "outputs": [],
   "source": [
    "peopleRDD.count()"
   ]
  },
  {
   "cell_type": "code",
   "execution_count": null,
   "metadata": {},
   "outputs": [],
   "source": [
    "peopleRDD.take(1)"
   ]
  },
  {
   "cell_type": "markdown",
   "metadata": {},
   "source": [
    "\n",
    "# Distinct names and surname in the dataset"
   ]
  },
  {
   "cell_type": "markdown",
   "metadata": {},
   "source": [
    "In order to complete this assignment we need to:\n",
    "\n",
    "- _extract_ the name of **each** Person from out _peopleRDD_\n",
    "\n",
    "- remove duplicates from the above intermediate result\n",
    "\n",
    "- invoke a count\n",
    "\n",
    "- repeat the above steps for the surname \n",
    "\n",
    "\n",
    "\n",
    "\n",
    "\n",
    "\n",
    "\n",
    "\n",
    "\n"
   ]
  },
  {
   "cell_type": "code",
   "execution_count": null,
   "metadata": {
    "collapsed": true
   },
   "outputs": [],
   "source": [
    "nameRDD = peopleRDD.map(lambda person: person.name)"
   ]
  },
  {
   "cell_type": "code",
   "execution_count": null,
   "metadata": {
    "collapsed": true
   },
   "outputs": [],
   "source": [
    "distinctNameRDD = nameRDD.distinct()"
   ]
  },
  {
   "cell_type": "code",
   "execution_count": null,
   "metadata": {},
   "outputs": [],
   "source": [
    "distinctNameRDD.count()"
   ]
  },
  {
   "cell_type": "code",
   "execution_count": null,
   "metadata": {},
   "outputs": [],
   "source": [
    "peopleRDD.map(lambda p: p.surname).distinct().count()"
   ]
  },
  {
   "cell_type": "markdown",
   "metadata": {},
   "source": [
    "# Most frequent name and surname in the dataset "
   ]
  },
  {
   "cell_type": "markdown",
   "metadata": {},
   "source": [
    "This assignment is trickier: we need to count each name in the dataset, then find the most frequent.\n",
    "\n",
    "Let's break the problem into two parts\n",
    "\n",
    "#### Count the frequency of each name\n",
    "\n",
    "- We need to assign to each name a count. We start with one.\n",
    "- From a peopleRDD we need a **pair rdd** name -> 1\n",
    "- We then need to **reduce** those ones **by name**"
   ]
  },
  {
   "cell_type": "code",
   "execution_count": null,
   "metadata": {
    "collapsed": true
   },
   "outputs": [],
   "source": [
    "nameOneRDD = peopleRDD.map(lambda p: (p.name,1))"
   ]
  },
  {
   "cell_type": "code",
   "execution_count": null,
   "metadata": {},
   "outputs": [],
   "source": [
    "nameOneRDD.take(2)"
   ]
  },
  {
   "cell_type": "code",
   "execution_count": null,
   "metadata": {
    "collapsed": true
   },
   "outputs": [],
   "source": [
    "nameCountRDD = nameOneRDD.reduceByKey(lambda a,b: a+b)"
   ]
  },
  {
   "cell_type": "code",
   "execution_count": null,
   "metadata": {},
   "outputs": [],
   "source": [
    "nameCountRDD.take(2)"
   ]
  },
  {
   "cell_type": "markdown",
   "metadata": {},
   "source": [
    "We now need to **find the max** in our RDD accourding to some order. \n",
    "\n",
    "From the documentation:\n",
    "\n",
    "> max(key=None)\n",
    ">\n",
    "> Find the maximum item in this RDD.\n",
    "> \n",
    "> Parameters:\tkey – A function used to generate key for comparing"
   ]
  },
  {
   "cell_type": "code",
   "execution_count": null,
   "metadata": {},
   "outputs": [],
   "source": [
    "nameCountRDD.max(key = lambda kv: kv[1])"
   ]
  },
  {
   "cell_type": "code",
   "execution_count": null,
   "metadata": {},
   "outputs": [],
   "source": [
    "peopleRDD.map(lambda p: (p.surname,1)).reduceByKey(lambda a,b: a+b).max(key = lambda kv: kv[1])"
   ]
  },
  {
   "cell_type": "markdown",
   "metadata": {},
   "source": [
    "To retrieve the top N in the collection we have to globally order the RDD."
   ]
  },
  {
   "cell_type": "code",
   "execution_count": null,
   "metadata": {
    "collapsed": true
   },
   "outputs": [],
   "source": [
    "nameCountRDDordered = nameCountRDD.sortBy(lambda x: x[1], False)"
   ]
  },
  {
   "cell_type": "code",
   "execution_count": null,
   "metadata": {},
   "outputs": [],
   "source": [
    "nameCountRDDordered.take(5)"
   ]
  },
  {
   "cell_type": "markdown",
   "metadata": {},
   "source": [
    "## Double check\n",
    "\n",
    "Now let's select only the people with name \"Nadia\" and count the results"
   ]
  },
  {
   "cell_type": "code",
   "execution_count": null,
   "metadata": {},
   "outputs": [],
   "source": [
    "peopleRDD.filter(lambda x: x.name == \"Nadia\").count()"
   ]
  },
  {
   "cell_type": "markdown",
   "metadata": {},
   "source": [
    "\n",
    "\n",
    "Just as we expected. Now let's check the count of the people with surname \"Marino\""
   ]
  },
  {
   "cell_type": "code",
   "execution_count": null,
   "metadata": {},
   "outputs": [],
   "source": [
    "peopleRDD.filter(lambda x: x.surname == \"Marino\").count()"
   ]
  },
  {
   "cell_type": "markdown",
   "metadata": {},
   "source": [
    " Perfect :-)\n",
    " "
   ]
  },
  {
   "cell_type": "markdown",
   "metadata": {},
   "source": [
    "## Find every age distance for people with the same occupation"
   ]
  },
  {
   "cell_type": "markdown",
   "metadata": {},
   "source": [
    "- we first need to **join** together people with the same occupation\n",
    "- we then need to filter out the couple people that have been joined with themselves (same name and surname)\n",
    "- then we select the age distance for the occupation \"Music conductor\""
   ]
  },
  {
   "cell_type": "code",
   "execution_count": null,
   "metadata": {
    "collapsed": true
   },
   "outputs": [],
   "source": [
    "peopleByOccupationRDD = peopleRDD.keyBy(lambda person: person.occupation)"
   ]
  },
  {
   "cell_type": "code",
   "execution_count": null,
   "metadata": {},
   "outputs": [],
   "source": [
    "peopleByOccupationRDD.take(2)"
   ]
  },
  {
   "cell_type": "code",
   "execution_count": null,
   "metadata": {},
   "outputs": [],
   "source": []
  },
  {
   "cell_type": "code",
   "execution_count": null,
   "metadata": {
    "collapsed": true
   },
   "outputs": [],
   "source": [
    "joinedPeopleRDD = peopleByOccupationRDD.join(peopleByOccupationRDD)"
   ]
  },
  {
   "cell_type": "code",
   "execution_count": null,
   "metadata": {},
   "outputs": [],
   "source": [
    "joinedPeopleRDD.take(3)"
   ]
  },
  {
   "cell_type": "code",
   "execution_count": null,
   "metadata": {
    "collapsed": true
   },
   "outputs": [],
   "source": [
    "noSamePersonRDD = joinedPeopleRDD.filter(lambda (occupation, (p1,p2)): p1.name != p2.name or p1.surname != p2.surname)"
   ]
  },
  {
   "cell_type": "code",
   "execution_count": null,
   "metadata": {},
   "outputs": [],
   "source": [
    "noSamePersonRDD.count()"
   ]
  },
  {
   "cell_type": "code",
   "execution_count": null,
   "metadata": {
    "collapsed": true
   },
   "outputs": [],
   "source": [
    "ageDistanceRDD = noSamePersonRDD.mapValues(lambda (p1,p2): abs(p1.age - p2.age))"
   ]
  },
  {
   "cell_type": "code",
   "execution_count": null,
   "metadata": {
    "collapsed": true
   },
   "outputs": [],
   "source": [
    "musicConductorRDD = ageDistanceRDD.filter(lambda (occupation, distance): occupation == \"Music conductor\")"
   ]
  },
  {
   "cell_type": "code",
   "execution_count": null,
   "metadata": {},
   "outputs": [],
   "source": [
    "musicConductorRDD.collect()"
   ]
  },
  {
   "cell_type": "code",
   "execution_count": null,
   "metadata": {},
   "outputs": [],
   "source": [
    "ageDistanceRDD.max(key = lambda kv: kv[1])"
   ]
  },
  {
   "cell_type": "markdown",
   "metadata": {},
   "source": [
    "## Double check\n",
    "\n",
    "Now let's select how many people are Music conductors"
   ]
  },
  {
   "cell_type": "code",
   "execution_count": null,
   "metadata": {},
   "outputs": [],
   "source": [
    "peopleRDD.filter(lambda p: p.occupation == \"Mail handler\").collect()"
   ]
  },
  {
   "cell_type": "markdown",
   "metadata": {},
   "source": [
    "# RDD Persistance\n"
   ]
  },
  {
   "cell_type": "markdown",
   "metadata": {},
   "source": [
    "#### let's start with a bad example"
   ]
  },
  {
   "cell_type": "code",
   "execution_count": null,
   "metadata": {
    "collapsed": true
   },
   "outputs": [],
   "source": [
    "# Group people ages by occupation\n",
    "occupationAges = peopleRDD.map( lambda p: (p.occupation,p.age)).groupByKey()"
   ]
  },
  {
   "cell_type": "code",
   "execution_count": null,
   "metadata": {
    "collapsed": true
   },
   "outputs": [],
   "source": []
  },
  {
   "cell_type": "code",
   "execution_count": null,
   "metadata": {
    "collapsed": true
   },
   "outputs": [],
   "source": [
    "#Get average age of people per occupation\n",
    "occupationAvgAgeRDD = occupationAges.mapValues(lambda ages: sum(ages) / float(len(ages)))"
   ]
  },
  {
   "cell_type": "code",
   "execution_count": null,
   "metadata": {},
   "outputs": [],
   "source": [
    "occupationAvgAgeRDD.take(5)"
   ]
  },
  {
   "cell_type": "code",
   "execution_count": null,
   "metadata": {},
   "outputs": [],
   "source": [
    "occupationAvgAgeRDD.max(key=lambda (occupation, avgAge): avgAge)"
   ]
  },
  {
   "cell_type": "code",
   "execution_count": null,
   "metadata": {},
   "outputs": [],
   "source": [
    "occupationAvgAgeRDD.min(key=lambda (occupation, avgAge): avgAge)"
   ]
  },
  {
   "cell_type": "markdown",
   "metadata": {},
   "source": [
    "#### Good example\n",
    "Every time we invoke an action on occupationAvgAgeRDD its Dag is recomputed from scratch"
   ]
  },
  {
   "cell_type": "code",
   "execution_count": null,
   "metadata": {},
   "outputs": [],
   "source": [
    "occupationAges = peopleRDD.map( lambda p: (p.occupation,p.age)).groupByKey()\n",
    "occupationAvgAgeRDD = occupationAges.mapValues(lambda ages: sum(ages) / float(len(ages)))\n",
    "occupationAvgAgeRDD.cache()"
   ]
  },
  {
   "cell_type": "code",
   "execution_count": null,
   "metadata": {},
   "outputs": [],
   "source": [
    "occupationAvgAgeRDD.take(5)"
   ]
  },
  {
   "cell_type": "code",
   "execution_count": null,
   "metadata": {},
   "outputs": [],
   "source": [
    "occupationAvgAgeRDD.max(key=lambda ((occupation, avgAge)): avgAge)"
   ]
  },
  {
   "cell_type": "code",
   "execution_count": null,
   "metadata": {},
   "outputs": [],
   "source": [
    "occupationAvgAgeRDD.min(key=lambda ((occupation, avgAge)): avgAge)"
   ]
  },
  {
   "cell_type": "markdown",
   "metadata": {},
   "source": [
    "#### The result is not affected by the caching but performace is"
   ]
  },
  {
   "cell_type": "markdown",
   "metadata": {},
   "source": [
    "### A detour on groupByKey"
   ]
  },
  {
   "cell_type": "markdown",
   "metadata": {},
   "source": [
    "groupByKey causes all value of a given keys to be sent to one node. This may lead to slow task due to skewness in the data. There's a better way"
   ]
  },
  {
   "cell_type": "code",
   "execution_count": null,
   "metadata": {},
   "outputs": [],
   "source": [
    "# Group people ages by occupation\n",
    "occupationAges = peopleRDD.map( lambda p: (p.occupation,(p.age,1)))\n",
    "occupationAges.cache()"
   ]
  },
  {
   "cell_type": "code",
   "execution_count": null,
   "metadata": {},
   "outputs": [],
   "source": [
    "occupationAges.take(1)"
   ]
  },
  {
   "cell_type": "code",
   "execution_count": null,
   "metadata": {
    "collapsed": true
   },
   "outputs": [],
   "source": [
    "occupationAgeReducedRDD = occupationAges.reduceByKey(lambda (age1,cnt1),(age2,cnt2): (age1+age2,cnt1+cnt2))"
   ]
  },
  {
   "cell_type": "code",
   "execution_count": null,
   "metadata": {},
   "outputs": [],
   "source": [
    "occupationAgeReducedRDD.take(1)"
   ]
  },
  {
   "cell_type": "code",
   "execution_count": null,
   "metadata": {
    "collapsed": true
   },
   "outputs": [],
   "source": [
    "occupationAvgAgeRDD = occupationAgeReducedRDD.mapValues(lambda (age, count): age / float(count))"
   ]
  },
  {
   "cell_type": "code",
   "execution_count": null,
   "metadata": {},
   "outputs": [],
   "source": [
    "occupationAvgAgeRDD.max(key=lambda ((occupation, avgAge)): avgAge)"
   ]
  },
  {
   "cell_type": "code",
   "execution_count": null,
   "metadata": {},
   "outputs": [],
   "source": [
    "occupationAvgAgeRDD.min(key=lambda ((occupation, avgAge)): avgAge)"
   ]
  },
  {
   "cell_type": "markdown",
   "metadata": {},
   "source": [
    "# Shared variables\n"
   ]
  },
  {
   "cell_type": "markdown",
   "metadata": {},
   "source": [
    "## Accumulators"
   ]
  },
  {
   "cell_type": "code",
   "execution_count": null,
   "metadata": {
    "collapsed": true
   },
   "outputs": [],
   "source": [
    "countAcc = sc.accumulator(0)"
   ]
  },
  {
   "cell_type": "code",
   "execution_count": null,
   "metadata": {},
   "outputs": [],
   "source": [
    "countAcc"
   ]
  },
  {
   "cell_type": "code",
   "execution_count": null,
   "metadata": {
    "collapsed": true
   },
   "outputs": [],
   "source": [
    "def person2nameSurname(person):\n",
    "    global countAcc\n",
    "    countAcc += 1\n",
    "    return (person.name,person.surname)"
   ]
  },
  {
   "cell_type": "code",
   "execution_count": null,
   "metadata": {
    "collapsed": true
   },
   "outputs": [],
   "source": [
    "mappedRDD = peopleRDD.map(person2nameSurname)"
   ]
  },
  {
   "cell_type": "code",
   "execution_count": null,
   "metadata": {},
   "outputs": [],
   "source": [
    "countAcc.value"
   ]
  },
  {
   "cell_type": "code",
   "execution_count": null,
   "metadata": {},
   "outputs": [],
   "source": [
    "mappedRDD.count()"
   ]
  },
  {
   "cell_type": "code",
   "execution_count": null,
   "metadata": {},
   "outputs": [],
   "source": [
    "mappedRDD.take(5)"
   ]
  },
  {
   "cell_type": "code",
   "execution_count": null,
   "metadata": {},
   "outputs": [],
   "source": [
    "countAcc.value"
   ]
  },
  {
   "cell_type": "markdown",
   "metadata": {},
   "source": [
    "That is quite unexpected .... But wait we are invoking **two actions** on mappedRDD"
   ]
  },
  {
   "cell_type": "markdown",
   "metadata": {},
   "source": [
    "#### The right way"
   ]
  },
  {
   "cell_type": "code",
   "execution_count": null,
   "metadata": {
    "collapsed": true
   },
   "outputs": [],
   "source": [
    "countAcc = sc.accumulator(0) #let's reset our accumulator"
   ]
  },
  {
   "cell_type": "code",
   "execution_count": null,
   "metadata": {
    "collapsed": true
   },
   "outputs": [],
   "source": [
    "mappedRDD2 = peopleRDD.map(person2nameSurname).cache()"
   ]
  },
  {
   "cell_type": "code",
   "execution_count": null,
   "metadata": {},
   "outputs": [],
   "source": [
    "mappedRDD2.count()"
   ]
  },
  {
   "cell_type": "code",
   "execution_count": null,
   "metadata": {},
   "outputs": [],
   "source": [
    "countAcc.value"
   ]
  },
  {
   "cell_type": "code",
   "execution_count": null,
   "metadata": {},
   "outputs": [],
   "source": [
    "mappedRDD2.take(5)"
   ]
  },
  {
   "cell_type": "code",
   "execution_count": null,
   "metadata": {},
   "outputs": [],
   "source": [
    "countAcc.value"
   ]
  },
  {
   "cell_type": "markdown",
   "metadata": {},
   "source": [
    "The map operation is carried out **once** and the result is saved into the memory. It's advisable to use accumulator only for debugging purposes"
   ]
  },
  {
   "cell_type": "markdown",
   "metadata": {},
   "source": [
    "## Broadcast variables"
   ]
  },
  {
   "cell_type": "code",
   "execution_count": null,
   "metadata": {
    "collapsed": true
   },
   "outputs": [],
   "source": [
    "ageMap = {69 : \"Old\", 0 : \"Child\", 88 : \"Old\", 5 : \"Child\", 10 : \"Child\", 56 : \"Not so young\", 42 : \"Not so young\", 24 : \"Young\", 37 : \"Not so young\", 25 : \"Young\", 52 : \"Not so young\", 14 : \"Child\", 20 : \"Young\", 46 : \"Not so young\", 93 : \"Old\", 57 : \"Not so young\", 78 : \"Old\", 29 : \"Young\", 84 : \"Old\", 61 : \"Old\", 89 : \"Old\", 1 : \"Child\", 74 : \"Old\", 6 : \"Child\", 60 : \"Not so young\", 85 : \"Old\", 28 : \"Young\", 38 : \"Not so young\", 70 : \"Old\", 21 : \"Young\", 33 : \"Not so young\", 92 : \"Old\", 65 : \"Old\", 97 : \"Old\", 9 : \"Child\", 53 : \"Not so young\", 77 : \"Old\", 96 : \"Old\", 13 : \"Child\", 41 : \"Not so young\", 73 : \"Old\", 2 : \"Child\", 32 : \"Not so young\", 34 : \"Not so young\", 45 : \"Not so young\", 64 : \"Old\", 17 : \"Young\", 22 : \"Young\", 44 : \"Not so young\", 59 : \"Not so young\", 27 : \"Young\", 71 : \"Old\", 12 : \"Child\", 54 : \"Not so young\", 49 : \"Not so young\", 86 : \"Old\", 81 : \"Old\", 76 : \"Old\", 7 : \"Child\", 39 : \"Not so young\", 98 : \"Old\", 91 : \"Old\", 66 : \"Old\", 3 : \"Child\", 80 : \"Old\", 35 : \"Not so young\", 48 : \"Not so young\", 63 : \"Old\", 18 : \"Young\", 95 : \"Old\", 50 : \"Not so young\", 67 : \"Old\", 16 : \"Young\", 31 : \"Not so young\", 11 : \"Child\", 72 : \"Old\", 43 : \"Not so young\", 99 : \"Old\", 87 : \"Old\", 40 : \"Not so young\", 26 : \"Young\", 55 : \"Not so young\", 23 : \"Young\", 8 : \"Child\", 75 : \"Old\", 58 : \"Not so young\", 82 : \"Old\", 36 : \"Not so young\", 30 : \"Young\", 51 : \"Not so young\", 19 : \"Young\", 4 : \"Child\", 79 : \"Old\", 94 : \"Old\", 47 : \"Not so young\", 15 : \"Young\", 68 : \"Old\", 62 : \"Old\", 90 : \"Old\", 83 : \"Old\", 100 : \"Old\"}\n",
    "ageMapBC = sc.broadcast(ageMap)"
   ]
  },
  {
   "cell_type": "code",
   "execution_count": null,
   "metadata": {
    "collapsed": true
   },
   "outputs": [],
   "source": [
    "def age2category(person):\n",
    "    global ageMapBC\n",
    "    \n",
    "    if person.age in ageMapBC.value:\n",
    "        return ageMapBC.value[person.age]\n",
    "    else:\n",
    "        r\"N/A\""
   ]
  },
  {
   "cell_type": "code",
   "execution_count": null,
   "metadata": {
    "collapsed": true
   },
   "outputs": [],
   "source": [
    "ageCatRDD = peopleRDD.map(age2category)"
   ]
  },
  {
   "cell_type": "code",
   "execution_count": null,
   "metadata": {},
   "outputs": [],
   "source": [
    "ageCatRDD.collect()"
   ]
  },
  {
   "cell_type": "code",
   "execution_count": null,
   "metadata": {},
   "outputs": [],
   "source": [
    "countByCategory = ageCatRDD.map(lambda x: (x,'')).countByKey()\n",
    "countByCategory"
   ]
  },
  {
   "cell_type": "markdown",
   "metadata": {
    "collapsed": true
   },
   "source": [
    "# Partitioning"
   ]
  },
  {
   "cell_type": "code",
   "execution_count": null,
   "metadata": {
    "collapsed": true
   },
   "outputs": [],
   "source": [
    "peopleByName = peopleRDD.keyBy(lambda p: p.name).partitionBy(100)\n"
   ]
  },
  {
   "cell_type": "code",
   "execution_count": null,
   "metadata": {},
   "outputs": [],
   "source": [
    "peopleByName.partitioner"
   ]
  },
  {
   "cell_type": "code",
   "execution_count": null,
   "metadata": {
    "collapsed": true
   },
   "outputs": [],
   "source": [
    "peopleNameSurname = peopleByName.map(lambda (name, p): (name,p.surname))"
   ]
  },
  {
   "cell_type": "code",
   "execution_count": null,
   "metadata": {
    "collapsed": true
   },
   "outputs": [],
   "source": [
    "peopleNameSurname.partitioner"
   ]
  },
  {
   "cell_type": "markdown",
   "metadata": {},
   "source": [
    "Partitioner information has been **lost**"
   ]
  },
  {
   "cell_type": "code",
   "execution_count": null,
   "metadata": {
    "collapsed": true
   },
   "outputs": [],
   "source": [
    "peopleNameSurname2 = peopleByName.mapValues(lambda p: p.surname)"
   ]
  },
  {
   "cell_type": "code",
   "execution_count": null,
   "metadata": {},
   "outputs": [],
   "source": [
    "peopleNameSurname2.partitioner"
   ]
  },
  {
   "cell_type": "code",
   "execution_count": null,
   "metadata": {
    "collapsed": true
   },
   "outputs": [],
   "source": []
  }
 ],
 "metadata": {
  "anaconda-cloud": {},
  "kernelspec": {
   "display_name": "Python 2",
   "language": "python",
   "name": "python2"
  },
  "language_info": {
   "codemirror_mode": {
    "name": "ipython",
    "version": 2
   },
   "file_extension": ".py",
   "mimetype": "text/x-python",
   "name": "python",
   "nbconvert_exporter": "python",
   "pygments_lexer": "ipython2",
   "version": "2.7.14"
  }
 },
 "nbformat": 4,
 "nbformat_minor": 2
}
