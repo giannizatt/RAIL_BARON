{
 "cells": [
  {
   "cell_type": "markdown",
   "metadata": {},
   "source": [
    "# PYTHON - Parte 2\n"
   ]
  },
  {
   "cell_type": "markdown",
   "metadata": {},
   "source": [
    "## Manipolare le liste"
   ]
  },
  {
   "cell_type": "code",
   "execution_count": null,
   "metadata": {
    "collapsed": false
   },
   "outputs": [],
   "source": [
    "myList = []\n",
    "print type(myList)\n",
    "print dir(myList)"
   ]
  },
  {
   "cell_type": "code",
   "execution_count": null,
   "metadata": {
    "collapsed": false,
    "scrolled": true
   },
   "outputs": [],
   "source": [
    "myList.append(\"q\")\n",
    "myList.append(\"w\")\n",
    "myList.append(\"e\")\n",
    "myList.append(\"r\")\n",
    "myList.append(\"t\")\n",
    "myList.append(\"y\")\n",
    "print myList"
   ]
  },
  {
   "cell_type": "markdown",
   "metadata": {},
   "source": [
    "## For Each"
   ]
  },
  {
   "cell_type": "code",
   "execution_count": null,
   "metadata": {
    "collapsed": false
   },
   "outputs": [],
   "source": [
    "for x in myList: #cicla sugli elementi della lista\n",
    "    print x"
   ]
  },
  {
   "cell_type": "markdown",
   "metadata": {},
   "source": [
    "Diversi modi per copiare una lista"
   ]
  },
  {
   "cell_type": "code",
   "execution_count": null,
   "metadata": {
    "collapsed": false
   },
   "outputs": [],
   "source": [
    "copia1 = [x for x in myList] \n",
    "copia2 = myList[:]\n",
    "print copia1\n",
    "print \"---\"\n",
    "print copia2"
   ]
  },
  {
   "cell_type": "markdown",
   "metadata": {},
   "source": [
    "Estrarre solo determinati elementi (usande le **List Comprehension**):"
   ]
  },
  {
   "cell_type": "code",
   "execution_count": null,
   "metadata": {
    "collapsed": true
   },
   "outputs": [],
   "source": [
    "myList = [2,-3,1,-5,10]"
   ]
  },
  {
   "cell_type": "code",
   "execution_count": null,
   "metadata": {
    "collapsed": false
   },
   "outputs": [],
   "source": [
    "soloPositivi = [x for x in myList if x > 0]\n",
    "print soloPositivi"
   ]
  },
  {
   "cell_type": "code",
   "execution_count": null,
   "metadata": {
    "collapsed": false
   },
   "outputs": [],
   "source": [
    "myName = \"Pippo\"\n",
    "print type(myName)\n",
    "for x in myName:\n",
    "    print x\n",
    "    \n",
    "print \"---\"\n",
    "# genero una lista / array dove ogni lettera è un elemento\n",
    "myNameSplitted = [x for x in myName]\n",
    "print myNameSplitted\n",
    "print type(myNameSplitted)\n"
   ]
  },
  {
   "cell_type": "markdown",
   "metadata": {},
   "source": [
    "Proviamo a stampare solo le lettere in posizione pari"
   ]
  },
  {
   "cell_type": "code",
   "execution_count": null,
   "metadata": {
    "collapsed": false
   },
   "outputs": [],
   "source": [
    "# Print only letters in even position\n",
    "print [l for (i,l) in enumerate(myName) if i%2==0]"
   ]
  },
  {
   "cell_type": "code",
   "execution_count": null,
   "metadata": {
    "collapsed": false
   },
   "outputs": [],
   "source": [
    "for (x,y) in enumerate(\"testaocroce\"):\n",
    "    print str(x)+\"->\"+y"
   ]
  },
  {
   "cell_type": "markdown",
   "metadata": {},
   "source": [
    "## Enumerate\n",
    "\n",
    "Restituisce a ogni ciclo una tupla contenente posizione e elemento della lista."
   ]
  },
  {
   "cell_type": "code",
   "execution_count": null,
   "metadata": {
    "collapsed": false,
    "scrolled": false
   },
   "outputs": [],
   "source": [
    "help(enumerate)"
   ]
  },
  {
   "cell_type": "code",
   "execution_count": null,
   "metadata": {
    "collapsed": false
   },
   "outputs": [],
   "source": [
    "for index, letter in enumerate(myName):\n",
    "    print index, letter"
   ]
  },
  {
   "cell_type": "markdown",
   "metadata": {
    "collapsed": true
   },
   "source": [
    "## Generazione di Liste\n"
   ]
  },
  {
   "cell_type": "code",
   "execution_count": null,
   "metadata": {
    "collapsed": false
   },
   "outputs": [],
   "source": [
    "#Generiamo una lista dei numeri da 1 a 5 compresi\n",
    "newList = [x for x in range(1,6)]\n",
    "print newList"
   ]
  },
  {
   "cell_type": "code",
   "execution_count": null,
   "metadata": {
    "collapsed": false
   },
   "outputs": [],
   "source": [
    "#generiamo una lista che comprenda i valori doppi dei numeri compresi tra 1 e 6(estremi compresi)\n",
    "doubleList = [x *2 for x in range(1,6)]\n",
    "print doubleList\n"
   ]
  },
  {
   "cell_type": "code",
   "execution_count": null,
   "metadata": {
    "collapsed": false
   },
   "outputs": [],
   "source": [
    "# generiamo una lista inserendo una condizione da rispettare \n",
    "# e.g. solo i numeri pari tra 1 e 10 (estremi compresi)\n",
    "specialList = [x for x in range(1,11) if x % 2 == 0]\n",
    "print specialList"
   ]
  },
  {
   "cell_type": "code",
   "execution_count": null,
   "metadata": {
    "collapsed": false
   },
   "outputs": [],
   "source": [
    "# La condizione può anche essere applicata su una trasformazione\n",
    "# Supponiamo di voler creare una lista composta dai cubi dei numeri compresi tra 1 e 10 \n",
    "# (estremi compresi) a patto che il cubo del numero in question sia divisibile per 4\n",
    "cubesByFour = [x**3 for x in range(1,11) if (x**3) % 4 ==0]\n",
    "print cubesByFour"
   ]
  },
  {
   "cell_type": "markdown",
   "metadata": {},
   "source": [
    "## List slicing\n"
   ]
  },
  {
   "cell_type": "markdown",
   "metadata": {},
   "source": [
    "Il List slicing permette di accedere a un subset di elementi della lista.\n",
    "La sintassi è la seguente:\n",
    "\n",
    "**[start:end:stride]**\n",
    "\n",
    "Dove **start** descrive dove lo slice inizia (inclusivo), **end** dove finisce (esclusivo), e **stride** descrive lo spazio fra un elemento e l'altro (la cadenza). \n"
   ]
  },
  {
   "cell_type": "markdown",
   "metadata": {},
   "source": [
    "Se non passi un particolare index, Python sceglierà il valore di default.\n",
    "\n",
    "**to_five = ['A', 'B', 'C', 'D', 'E']**\n",
    "\n",
    "print to_five[3:]\n",
    "-> ['D', 'E'] \n",
    "\n",
    "print to_five[:2]\n",
    "-> prints ['A', 'B']\n",
    "\n",
    "print to_five[::2]\n",
    "-> print ['A', 'C', 'E']\n",
    "\n",
    "- Lo start è 0.\n",
    "- la fine è la fine della lista.\n",
    "- Lo stride di default è 1."
   ]
  },
  {
   "cell_type": "markdown",
   "metadata": {},
   "source": [
    "Se utilizziamo uno stride positivo la lista verrà analizzata da sinistra verso destra.\n",
    "\n",
    "Uno **stride negativo** la processerà al contrario.\n",
    "\n",
    "**letters = ['A', 'B', 'C', 'D', 'E']**\n",
    "\n",
    "print letters[::-1]\n",
    "\n",
    "L'output sarà qualcosa del tipo ['E', 'D', 'C', 'B', 'A']."
   ]
  },
  {
   "cell_type": "code",
   "execution_count": null,
   "metadata": {
    "collapsed": false
   },
   "outputs": [],
   "source": [
    "#number from 1 to 10\n",
    "myList = range(1,11) \n",
    "\n",
    "# let's print from the end to the beginning\n",
    "print myList[::-1]"
   ]
  },
  {
   "cell_type": "markdown",
   "metadata": {},
   "source": [
    "## Iterazioni"
   ]
  },
  {
   "cell_type": "code",
   "execution_count": null,
   "metadata": {
    "collapsed": false
   },
   "outputs": [],
   "source": [
    "for i in enumerate(['a', 'b', 'c']):\n",
    "    print i"
   ]
  },
  {
   "cell_type": "code",
   "execution_count": null,
   "metadata": {
    "collapsed": false
   },
   "outputs": [],
   "source": [
    "for a,b in enumerate(['a','b','c']):\n",
    "    print a, \":\", b"
   ]
  },
  {
   "cell_type": "code",
   "execution_count": null,
   "metadata": {
    "collapsed": false
   },
   "outputs": [],
   "source": [
    "for i in range(5):\n",
    "    print i"
   ]
  },
  {
   "cell_type": "code",
   "execution_count": null,
   "metadata": {
    "collapsed": false
   },
   "outputs": [],
   "source": [
    "i = 0\n",
    "while i <5:\n",
    "    print i\n",
    "    i+=1"
   ]
  },
  {
   "cell_type": "code",
   "execution_count": null,
   "metadata": {
    "collapsed": false
   },
   "outputs": [],
   "source": [
    "lista1 = [1,2,3,4]\n",
    "lista2 = [5,6,7,8]\n",
    "for a,b in zip(lista1,lista2):\n",
    "    print a,\"+\",b,\"=\",a+b"
   ]
  },
  {
   "cell_type": "code",
   "execution_count": null,
   "metadata": {
    "collapsed": false
   },
   "outputs": [],
   "source": [
    "myDict = {0:'a',1:'b',2:'c'}\n",
    "for key,value in myDict.items():\n",
    "    print key, \"-->\",value\n"
   ]
  },
  {
   "cell_type": "markdown",
   "metadata": {},
   "source": [
    "## Controlli Condizionali (IF - ELIF - ELSE)"
   ]
  },
  {
   "cell_type": "code",
   "execution_count": null,
   "metadata": {
    "collapsed": false
   },
   "outputs": [],
   "source": [
    "x = 1\n",
    "if x == 1:\n",
    "    print \"Equal to 1 :)\"\n",
    "elif x == 2:\n",
    "    print \"Is equal to 2 :)\"\n",
    "else:\n",
    "    print \"Mha....\""
   ]
  },
  {
   "cell_type": "markdown",
   "metadata": {},
   "source": [
    "## Equality VS Identity\n"
   ]
  },
  {
   "cell_type": "code",
   "execution_count": null,
   "metadata": {
    "collapsed": false
   },
   "outputs": [],
   "source": [
    "# '==' Controlla se il valore è uguale\n",
    "# 'is' Controlla se i due oggetti appartengono alla stessa partizione di memoria\n",
    "x = 5\n",
    "y = 5\n",
    "print x is y, x == y\n",
    "\n",
    "a = [5]\n",
    "b = [5]\n",
    "print a is b, x == y\n",
    "\n",
    "\n",
    "# le liste siccome data la loro proprietà di mutabilità \n",
    "# non possono condividere la stessa partizione di memoria\n",
    "\n",
    "tplA = (1,'a')\n",
    "tplB = (1,'a')\n",
    "print tplA is tplB"
   ]
  },
  {
   "cell_type": "markdown",
   "metadata": {},
   "source": [
    "## Exception"
   ]
  },
  {
   "cell_type": "markdown",
   "metadata": {},
   "source": [
    "Python utilizza le exceptions per la gestione degli errori. Exceptions vengono catturate tramite il **try: except:** statement.\n"
   ]
  },
  {
   "cell_type": "code",
   "execution_count": null,
   "metadata": {
    "collapsed": false
   },
   "outputs": [],
   "source": [
    "try:\n",
    "    b = 'a b c'.split()\n",
    "except:\n",
    "    print 'Error'\n",
    "else:\n",
    "    print b\n",
    "finally:\n",
    "    print 'Done'\n",
    "\n",
    "print \"\\n---\\n\"    \n",
    "#mentre invece \n",
    "try:\n",
    "    a, b = 'a b c'.split()\n",
    "except:\n",
    "    print 'Error'\n",
    "else:\n",
    "    print a, b\n",
    "finally:\n",
    "    print 'Done'"
   ]
  },
  {
   "cell_type": "markdown",
   "metadata": {},
   "source": [
    "## Contatori"
   ]
  },
  {
   "cell_type": "code",
   "execution_count": null,
   "metadata": {
    "collapsed": false
   },
   "outputs": [],
   "source": [
    "from collections import Counter\n",
    "sentence = \"a man a plan a canal Panama\"\n",
    "print type(sentence)"
   ]
  },
  {
   "cell_type": "code",
   "execution_count": null,
   "metadata": {
    "collapsed": false
   },
   "outputs": [],
   "source": [
    "print sentence.split()"
   ]
  },
  {
   "cell_type": "code",
   "execution_count": null,
   "metadata": {
    "collapsed": false
   },
   "outputs": [],
   "source": [
    "cntr = Counter(sentence.split())\n",
    "print type(cntr)\n",
    "print cntr"
   ]
  },
  {
   "cell_type": "code",
   "execution_count": null,
   "metadata": {
    "collapsed": false
   },
   "outputs": [],
   "source": [
    "cntrDict = dict(cntr) #trasforma il contatore in un dizionario\n",
    "print cntrDict"
   ]
  },
  {
   "cell_type": "markdown",
   "metadata": {},
   "source": [
    "La libreria **collections** è molto utile! Dacci un occhio [QUA](https://docs.python.org/2/library/collections.html)"
   ]
  },
  {
   "cell_type": "markdown",
   "metadata": {},
   "source": [
    "## Functions"
   ]
  },
  {
   "cell_type": "code",
   "execution_count": null,
   "metadata": {
    "collapsed": false
   },
   "outputs": [],
   "source": [
    "def myFunc():\n",
    "    print \"this is a dummy function\"\n",
    "    \n",
    "myFunc()"
   ]
  },
  {
   "cell_type": "code",
   "execution_count": null,
   "metadata": {
    "collapsed": false
   },
   "outputs": [],
   "source": [
    "def myFunc(arg):\n",
    "    print arg\n",
    "arg = (2,3,4,5,4)    \n",
    "myFunc(arg)\n",
    "\n",
    "print \"\\n---\\n\"\n",
    "\n",
    "def myFunc(*args):\n",
    "    print args\n",
    "myFunc(2,3,4,5,4)\n",
    "\n",
    "print \"\\n---\\n\"    \n",
    "\n",
    "args= (2, 3, 4, 5, 4)\n",
    "myFunc(*args)\n",
    "\n",
    "print \"\\n---\\n\"\n",
    "\n",
    "def myFunc(**map):\n",
    "    print map\n",
    "myFunc(pippo = 1)\n"
   ]
  },
  {
   "cell_type": "code",
   "execution_count": null,
   "metadata": {
    "collapsed": false
   },
   "outputs": [],
   "source": [
    "def func(dizionario):\n",
    "    '''\n",
    "    INSERT HERE THE DOCUMENTATION\n",
    "    '''\n",
    "    try:\n",
    "        print dizionario.items()\n",
    "    except Exception as e:\n",
    "        raise Exception(e) # Raise Exception -> Something went wrong!    \n",
    "\n",
    "#qui una chiamata che genera errore        \n",
    "try: \n",
    "    func(1)\n",
    "except Exception as e:\n",
    "    print \"Errore -->\", e\n",
    "\n",
    "#proviamo a chiedere aiuto    \n",
    "print \"\\n---\\n\"\n",
    "help(func)\n",
    "\n",
    "print \"\\n---\\n\"\n",
    "#qui una chiamata che NON genera errore\n",
    "myDict = {'nome': 'pippo'}\n",
    "func(myDict)"
   ]
  },
  {
   "cell_type": "markdown",
   "metadata": {},
   "source": [
    "### Scoping"
   ]
  },
  {
   "cell_type": "code",
   "execution_count": null,
   "metadata": {
    "collapsed": false
   },
   "outputs": [],
   "source": [
    "num = 0\n",
    "def func():\n",
    "    num = 5  #una nuova variabile num viene inizializzata\n",
    "    print num\n",
    "\n",
    "func()\n",
    "print num"
   ]
  },
  {
   "cell_type": "code",
   "execution_count": null,
   "metadata": {
    "collapsed": false
   },
   "outputs": [],
   "source": [
    "myDict = {'num': 3}\n",
    "def func():\n",
    "    myDict['num'] = 5 \n",
    "print myDict\n",
    "func()\n",
    "print myDict"
   ]
  },
  {
   "cell_type": "markdown",
   "metadata": {
    "collapsed": true
   },
   "source": [
    "## Generators\n",
    "\n",
    "[QUA](https://wiki.python.org/moin/Generators) maggiori informazioni.\n"
   ]
  },
  {
   "cell_type": "code",
   "execution_count": null,
   "metadata": {
    "collapsed": false
   },
   "outputs": [],
   "source": [
    "l = []\n",
    "print \"before\"\n",
    "print l\n",
    "for i in range(10):\n",
    "    l.append(i)\n",
    "print \"after\"\n",
    "print l\n",
    "\n"
   ]
  },
  {
   "cell_type": "code",
   "execution_count": null,
   "metadata": {
    "collapsed": false
   },
   "outputs": [],
   "source": [
    "g = (i for i in range(10)) #questo è un generatore\n",
    "print g"
   ]
  },
  {
   "cell_type": "code",
   "execution_count": null,
   "metadata": {
    "collapsed": false
   },
   "outputs": [],
   "source": [
    "print g.next()\n",
    "print g.next()\n",
    "print g.next()\n",
    "print \"---\"\n",
    "for i in g:\n",
    "    print i"
   ]
  },
  {
   "cell_type": "code",
   "execution_count": null,
   "metadata": {
    "collapsed": false
   },
   "outputs": [],
   "source": [
    "try:\n",
    "    print g.next()\n",
    "except StopIteration:\n",
    "    print \"Empty generator\"\n",
    "    "
   ]
  },
  {
   "cell_type": "markdown",
   "metadata": {},
   "source": [
    "## Lambda Function\n",
    "\n",
    "Uno degli aspetti piu potenti e interessanti di Python è il fatto che supporta il cosidetto **funcional programming**, il che significa che esiste la possibilità di passare come parametro di una funzione un'altra funzione.\n",
    "\n",
    "Ecco un esempio:\n"
   ]
  },
  {
   "cell_type": "code",
   "execution_count": null,
   "metadata": {
    "collapsed": false
   },
   "outputs": [],
   "source": [
    "myList = range(16)\n",
    "print myList\n",
    "# e supponiamo di voler stampare solo i valori divisibili per 3"
   ]
  },
  {
   "cell_type": "markdown",
   "metadata": {},
   "source": [
    "Non abbiamo effettivamente bisogno di creare una funzione, possiamo utilizzare le **lambda anonymous functions**.\n"
   ]
  },
  {
   "cell_type": "code",
   "execution_count": null,
   "metadata": {
    "collapsed": false
   },
   "outputs": [],
   "source": [
    "print filter(lambda x: x % 3 == 0, myList)"
   ]
  },
  {
   "cell_type": "markdown",
   "metadata": {},
   "source": [
    "Esempio: Dalla lista *languages*, stampiamo solo la parola *Python*. "
   ]
  },
  {
   "cell_type": "code",
   "execution_count": null,
   "metadata": {
    "collapsed": false
   },
   "outputs": [],
   "source": [
    "languages = [\"HTML\", \"JavaScript\", \"Python\", \"Ruby\"]\n",
    "\n",
    "# Add arguments to the filter()\n",
    "print filter(lambda item: item == \"Python\",languages )"
   ]
  },
  {
   "cell_type": "markdown",
   "metadata": {},
   "source": [
    "Altro Esempio:"
   ]
  },
  {
   "cell_type": "code",
   "execution_count": null,
   "metadata": {
    "collapsed": false
   },
   "outputs": [],
   "source": [
    "squares = [x **2 for x in range(1,11)]\n",
    "print squares\n",
    "\n",
    "print \"\\n\\nFiltered values\"\n",
    "# Filtriamo solo i quadrati compresi fra 30 e 70\n",
    "print filter(lambda x: x>=30 and x<=70, squares)\n"
   ]
  },
  {
   "cell_type": "markdown",
   "metadata": {},
   "source": [
    "Ecco un ultimo esempio utilizzando una stringa come una lista."
   ]
  },
  {
   "cell_type": "code",
   "execution_count": null,
   "metadata": {
    "collapsed": false
   },
   "outputs": [],
   "source": [
    "garbledMessage = \"IXXX aXXmX aXXXnXoXXXXXtXhXeXXXXrX sXXXXeXcXXXrXeXt mXXeXsXXXsXaXXXXXXgXeX!XX\"\n",
    "print filter(lambda item: item!=\"X\",garbledMessage )\n"
   ]
  },
  {
   "cell_type": "code",
   "execution_count": null,
   "metadata": {
    "collapsed": true
   },
   "outputs": [],
   "source": []
  }
 ],
 "metadata": {
  "kernelspec": {
   "display_name": "Python 2",
   "language": "python",
   "name": "python2"
  },
  "language_info": {
   "codemirror_mode": {
    "name": "ipython",
    "version": 2
   },
   "file_extension": ".py",
   "mimetype": "text/x-python",
   "name": "python",
   "nbconvert_exporter": "python",
   "pygments_lexer": "ipython2",
   "version": "2.7.13"
  }
 },
 "nbformat": 4,
 "nbformat_minor": 2
}
