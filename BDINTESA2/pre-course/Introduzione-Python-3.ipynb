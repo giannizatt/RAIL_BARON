{
 "cells": [
  {
   "cell_type": "markdown",
   "metadata": {},
   "source": [
    "# Python - Parte 3"
   ]
  },
  {
   "cell_type": "markdown",
   "metadata": {},
   "source": [
    "## Manipolazione dei file"
   ]
  },
  {
   "cell_type": "markdown",
   "metadata": {},
   "source": [
    "### lettura\n"
   ]
  },
  {
   "cell_type": "code",
   "execution_count": null,
   "metadata": {
    "collapsed": false
   },
   "outputs": [],
   "source": [
    "with open(\"datasets/datasets/euro.csv\",mode=\"r\") as my_file:\n",
    "    print my_file.read() #legge tutto il file come se fosse una stringa"
   ]
  },
  {
   "cell_type": "code",
   "execution_count": null,
   "metadata": {
    "collapsed": false
   },
   "outputs": [],
   "source": [
    "with open(\"datasets/datasets/euro.csv\",mode=\"r\") as my_file:\n",
    "    print my_file.read(5) #legge i primi 5 caratteri\n",
    "    print my_file.readline() #in pratica legge il resto della riga\n",
    "    print my_file.readlines() #legge il resto del file come stringhe separate"
   ]
  },
  {
   "cell_type": "markdown",
   "metadata": {},
   "source": [
    "### scrittura"
   ]
  },
  {
   "cell_type": "code",
   "execution_count": null,
   "metadata": {
    "collapsed": false
   },
   "outputs": [],
   "source": [
    "with open(\"output.txt\", mode=\"w\") as my_file:\n",
    "    my_file.write(\"aggiungi questo testo\")     #aggiunge una stringa sovrascrivendo il precedente contenuto\n",
    "    my_file.writelines([\"\\n\",\"riga1\",\"\\n\",\"riga2\"]) #aggiunge una lista di stringhefrom os import listdir\n",
    "\n",
    "\n",
    "with open(\"output.txt\",mode=\"r\") as my_file:  \n",
    "    print my_file.readline()\n",
    "    print my_file.readline()\n",
    "    print my_file.readline()"
   ]
  },
  {
   "cell_type": "code",
   "execution_count": null,
   "metadata": {
    "collapsed": true
   },
   "outputs": [],
   "source": []
  },
  {
   "cell_type": "markdown",
   "metadata": {},
   "source": [
    "### import\n"
   ]
  },
  {
   "cell_type": "code",
   "execution_count": 1,
   "metadata": {
    "collapsed": false
   },
   "outputs": [
    {
     "name": "stdout",
     "output_type": "stream",
     "text": [
      "The Zen of Python, by Tim Peters\n",
      "\n",
      "Beautiful is better than ugly.\n",
      "Explicit is better than implicit.\n",
      "Simple is better than complex.\n",
      "Complex is better than complicated.\n",
      "Flat is better than nested.\n",
      "Sparse is better than dense.\n",
      "Readability counts.\n",
      "Special cases aren't special enough to break the rules.\n",
      "Although practicality beats purity.\n",
      "Errors should never pass silently.\n",
      "Unless explicitly silenced.\n",
      "In the face of ambiguity, refuse the temptation to guess.\n",
      "There should be one-- and preferably only one --obvious way to do it.\n",
      "Although that way may not be obvious at first unless you're Dutch.\n",
      "Now is better than never.\n",
      "Although never is often better than *right* now.\n",
      "If the implementation is hard to explain, it's a bad idea.\n",
      "If the implementation is easy to explain, it may be a good idea.\n",
      "Namespaces are one honking great idea -- let's do more of those!\n"
     ]
    }
   ],
   "source": [
    "import this"
   ]
  },
  {
   "cell_type": "code",
   "execution_count": null,
   "metadata": {
    "collapsed": false
   },
   "outputs": [],
   "source": [
    "from os import listdir\n",
    "print listdir('./')"
   ]
  },
  {
   "cell_type": "code",
   "execution_count": null,
   "metadata": {
    "collapsed": false
   },
   "outputs": [],
   "source": [
    "import os\n",
    "print dir(os)\n",
    "print \"\\n---\\n\"\n",
    "print os.listdir('./')"
   ]
  },
  {
   "cell_type": "markdown",
   "metadata": {},
   "source": [
    "## Play with Dataset"
   ]
  },
  {
   "cell_type": "code",
   "execution_count": null,
   "metadata": {
    "collapsed": true
   },
   "outputs": [],
   "source": [
    "file_location = 'datasets/datasets/euro.csv' "
   ]
  },
  {
   "cell_type": "code",
   "execution_count": null,
   "metadata": {
    "collapsed": false
   },
   "outputs": [],
   "source": [
    "with open(file_location, 'r') as myFile:\n",
    "    print myFile.readline()\n",
    "    print myFile.readline()"
   ]
  },
  {
   "cell_type": "code",
   "execution_count": null,
   "metadata": {
    "collapsed": false
   },
   "outputs": [],
   "source": [
    "# Print first 3 rows\n",
    "with open(file_location, 'r') as myFile:\n",
    "    c = 0\n",
    "    for line in myFile.readlines():\n",
    "        print line\n",
    "        c+=1\n",
    "        if c==3: break"
   ]
  },
  {
   "cell_type": "code",
   "execution_count": null,
   "metadata": {
    "collapsed": true
   },
   "outputs": [],
   "source": [
    "import csv\n"
   ]
  },
  {
   "cell_type": "code",
   "execution_count": null,
   "metadata": {
    "collapsed": false
   },
   "outputs": [],
   "source": [
    "with open(file_location, 'r') as csvfile:\n",
    "    spamreader = csv.reader(csvfile, delimiter=',') #ogni row è di fatto una lista\n",
    "    c = 0    \n",
    "    for row in spamreader:\n",
    "        print row  \n",
    "        c+=1\n",
    "        if c==3: break"
   ]
  },
  {
   "cell_type": "code",
   "execution_count": null,
   "metadata": {
    "collapsed": false
   },
   "outputs": [],
   "source": [
    "with open(file_location, 'r') as csvfile:\n",
    "    reader = csv.DictReader(csvfile, fieldnames=['MONEY', 'VALUE']) #ogni row è di fatto un dictionary\n",
    "    c = 0\n",
    "    reader.next() # Skip Header\n",
    "    for row in reader:\n",
    "        print row\n",
    "        c+=1\n",
    "        if c==3: break"
   ]
  },
  {
   "cell_type": "markdown",
   "metadata": {},
   "source": [
    "### Salvare i dati in una lista"
   ]
  },
  {
   "cell_type": "code",
   "execution_count": null,
   "metadata": {
    "collapsed": false
   },
   "outputs": [],
   "source": [
    "with open(file_location, 'r') as csvfile:\n",
    "    data = [] #list\n",
    "    reader = csv.DictReader(csvfile, fieldnames=['MONEY', 'VALUE'])\n",
    "    reader.next() # Skip Header\n",
    "    for row in reader:\n",
    "        data.append(row)\n",
    "    print len(data)   # in questo modo posso scoprire quante entries \n",
    "    print data[0]"
   ]
  },
  {
   "cell_type": "markdown",
   "metadata": {},
   "source": [
    "### Ricerca di una valuta all'interno del dataset"
   ]
  },
  {
   "cell_type": "code",
   "execution_count": null,
   "metadata": {
    "collapsed": false
   },
   "outputs": [],
   "source": [
    "counter = 0\n",
    "flag = False\n",
    "for row in data:\n",
    "    if row['MONEY'] == 'ESP':\n",
    "        flag = True\n",
    "        print 'YEAH!', row\n",
    "if not flag:\n",
    "    print 'Name NOT Found!'\n"
   ]
  },
  {
   "cell_type": "markdown",
   "metadata": {},
   "source": [
    "## Json\n",
    "\n",
    "Javascript Object Notation è un formato open-standard leggibile da un umano che permette di trasmettere dati sfruttando il paradigma chiave-valore. In Python si può utilizzare la libreria **JSON**.\n",
    "La libreria viene utilizzata per leggere e interpretare stringhe o file, per passare dal formato JSON a una lista / dizionario (e viceversa)."
   ]
  },
  {
   "cell_type": "code",
   "execution_count": null,
   "metadata": {
    "collapsed": false
   },
   "outputs": [],
   "source": [
    "# Json from a string\n",
    "import json\n",
    "my_str = '{\"key\":\"value\",\"name\":\"Christian\"}' #s è la stringa da parsare\n",
    "my_json = json.loads(my_str)\n",
    "print my_json.__class__\n",
    "print my_json\n",
    "print \"Print value for Key 'name': \",my_json['name']"
   ]
  },
  {
   "cell_type": "code",
   "execution_count": null,
   "metadata": {
    "collapsed": true
   },
   "outputs": [],
   "source": []
  },
  {
   "cell_type": "code",
   "execution_count": null,
   "metadata": {
    "collapsed": false
   },
   "outputs": [],
   "source": [
    "# Json from Dictionary\n",
    "import json\n",
    "my_dict = dict(key=\"value\", name=\"Alex\", age=26, others=[1,2,3])\n",
    "my_json = json.dumps(my_dict)\n",
    "# my_json = json.dumps(my_dict, sort_keys=True, indent=4, separators=(',', ': ')) # Pretty Print\n",
    "print my_json.__class__\n",
    "print my_json"
   ]
  },
  {
   "cell_type": "markdown",
   "metadata": {
    "collapsed": true
   },
   "source": [
    "## Ricerche a pattern tramite espressioni regolari\n",
    "Il modulo re offre un linguaggio per la descrizione di pattern e una collezione di funzioni per la ricerca, la suddivisione e la sostituzione di stringhe"
   ]
  },
  {
   "cell_type": "code",
   "execution_count": null,
   "metadata": {
    "collapsed": false
   },
   "outputs": [],
   "source": [
    "import re # re sta per Regular Expression"
   ]
  },
  {
   "cell_type": "code",
   "execution_count": null,
   "metadata": {
    "collapsed": true
   },
   "outputs": [],
   "source": []
  },
  {
   "cell_type": "code",
   "execution_count": null,
   "metadata": {
    "collapsed": true
   },
   "outputs": [],
   "source": [
    "my_string = \"Hello, World!\""
   ]
  },
  {
   "cell_type": "markdown",
   "metadata": {},
   "source": [
    "La funzione split suddivide una stringa in al massimo maxsplit sottostringhe in base al pattern e restituisce la lista delle sottostringhe. r usato prima dell'apice di apertura definisce una stringa grezza dove i \\ non sono interpretati come caratteri di escape."
   ]
  },
  {
   "cell_type": "code",
   "execution_count": null,
   "metadata": {
    "collapsed": false
   },
   "outputs": [],
   "source": [
    "# \\W indica un carattere non-alfanumerico\n",
    "re.split(r\"\\W\",my_string)"
   ]
  },
  {
   "cell_type": "code",
   "execution_count": null,
   "metadata": {
    "collapsed": false
   },
   "outputs": [],
   "source": [
    "# \\s indica uno spazio\n",
    "re.split(r\"\\s\",my_string)"
   ]
  },
  {
   "cell_type": "markdown",
   "metadata": {},
   "source": [
    "La funzione match(pattern,string,flags=0) controlla se l'inizio di una stringa corrisponde all'espressione regolare\n",
    "Restituisce l'oggetto corrispondendente o NONE se non viene trovata alcuna corrispondenza.\n"
   ]
  },
  {
   "cell_type": "code",
   "execution_count": null,
   "metadata": {
    "collapsed": false
   },
   "outputs": [],
   "source": [
    "my_string1 = \"007 starts with a number\"\n",
    "piece =  re.match(r\"\\d+\", my_string1)"
   ]
  },
  {
   "cell_type": "code",
   "execution_count": null,
   "metadata": {
    "collapsed": false
   },
   "outputs": [],
   "source": [
    "print piece.start()  # indice iniziale dell'oggetto trovato"
   ]
  },
  {
   "cell_type": "code",
   "execution_count": null,
   "metadata": {
    "collapsed": false
   },
   "outputs": [],
   "source": [
    "print piece.end() # indice iniziale dell'oggetto trovato"
   ]
  },
  {
   "cell_type": "code",
   "execution_count": null,
   "metadata": {
    "collapsed": false
   },
   "outputs": [],
   "source": [
    "print piece.group() #oggetto trovato\n"
   ]
  },
  {
   "cell_type": "markdown",
   "metadata": {},
   "source": [
    "In alternativa a match si può usare la funzione search che cerca il frammento in un punto qualsiasi della stringa --- search(pattern,string,flags=0)\n"
   ]
  },
  {
   "cell_type": "code",
   "execution_count": null,
   "metadata": {
    "collapsed": true
   },
   "outputs": [],
   "source": [
    "my_string2 = \"this string contains 33, which is my magic number\"\n"
   ]
  },
  {
   "cell_type": "code",
   "execution_count": null,
   "metadata": {
    "collapsed": false
   },
   "outputs": [],
   "source": [
    "number = re.search(r\"\\d+\",my_string2)\n",
    "print number.group()\n"
   ]
  },
  {
   "cell_type": "markdown",
   "metadata": {},
   "source": [
    "La funzione findall(pattern,string,flags=0) trova tutte le sottostringhe che corrispondono all'espressione regolare e restituisce una lista "
   ]
  },
  {
   "cell_type": "code",
   "execution_count": null,
   "metadata": {
    "collapsed": false
   },
   "outputs": [],
   "source": [
    "my_string3 = \"this list contains 2 numbers:102 and 33, so what happens?\"\n",
    "numbers = re.findall(r\"\\d+\",my_string3)\n",
    "print numbers"
   ]
  },
  {
   "cell_type": "markdown",
   "metadata": {},
   "source": [
    "Altri esempi:"
   ]
  },
  {
   "cell_type": "code",
   "execution_count": null,
   "metadata": {
    "collapsed": false
   },
   "outputs": [],
   "source": [
    "# w{3} trova le occorrenze di 3 w\n",
    "print re.findall(\"w{3}\",\"www.google.com is different than ww.google.com\")\n",
    "# w+ trova le occorrenze di più di una w\n",
    "print re.findall(\"w+\",\"www.google.com is different than ww.google.com\")"
   ]
  },
  {
   "cell_type": "code",
   "execution_count": null,
   "metadata": {
    "collapsed": false
   },
   "outputs": [],
   "source": [
    "print re.findall(\"\\w+\",\"teoricamente qui dovrebbero essere divise tutte le parole\")"
   ]
  }
 ],
 "metadata": {
  "kernelspec": {
   "display_name": "Python 2",
   "language": "python",
   "name": "python2"
  },
  "language_info": {
   "codemirror_mode": {
    "name": "ipython",
    "version": 2
   },
   "file_extension": ".py",
   "mimetype": "text/x-python",
   "name": "python",
   "nbconvert_exporter": "python",
   "pygments_lexer": "ipython2",
   "version": "2.7.13"
  }
 },
 "nbformat": 4,
 "nbformat_minor": 2
}
